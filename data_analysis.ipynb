{
 "metadata": {
  "name": "data_analysis"
 },
 "nbformat": 3,
 "nbformat_minor": 0,
 "worksheets": [
  {
   "cells": [
    {
     "cell_type": "code",
     "collapsed": false,
     "input": [
      "run test.py"
     ],
     "language": "python",
     "metadata": {},
     "outputs": [
      {
       "output_type": "stream",
       "stream": "stdout",
       "text": [
        "0\n",
        "1000\n",
        "2000"
       ]
      },
      {
       "output_type": "stream",
       "stream": "stdout",
       "text": [
        "\n",
        "3000\n",
        "4000"
       ]
      },
      {
       "output_type": "stream",
       "stream": "stdout",
       "text": [
        "\n",
        "5000\n",
        "6000"
       ]
      },
      {
       "output_type": "stream",
       "stream": "stdout",
       "text": [
        "\n",
        "7000\n",
        "8000"
       ]
      },
      {
       "output_type": "stream",
       "stream": "stdout",
       "text": [
        "\n",
        "9000\n",
        "10000"
       ]
      },
      {
       "output_type": "stream",
       "stream": "stdout",
       "text": [
        "\n",
        "11000"
       ]
      },
      {
       "output_type": "stream",
       "stream": "stdout",
       "text": [
        "\n",
        "12000\n",
        "13000"
       ]
      },
      {
       "output_type": "stream",
       "stream": "stdout",
       "text": [
        "\n",
        "14000\n",
        "15000"
       ]
      },
      {
       "output_type": "stream",
       "stream": "stdout",
       "text": [
        "\n",
        "16000\n",
        "17000"
       ]
      },
      {
       "output_type": "stream",
       "stream": "stdout",
       "text": [
        "\n",
        "18000\n",
        "19000"
       ]
      },
      {
       "output_type": "stream",
       "stream": "stdout",
       "text": [
        "\n",
        "20000\n",
        "21000"
       ]
      },
      {
       "output_type": "stream",
       "stream": "stdout",
       "text": [
        "\n",
        "22000\n",
        "23000"
       ]
      },
      {
       "output_type": "stream",
       "stream": "stdout",
       "text": [
        "\n",
        "24000\n",
        "25000\n",
        "26000"
       ]
      },
      {
       "output_type": "stream",
       "stream": "stdout",
       "text": [
        "\n",
        "27000\n",
        "28000"
       ]
      },
      {
       "output_type": "stream",
       "stream": "stdout",
       "text": [
        "\n",
        "29000\n",
        "30000"
       ]
      },
      {
       "output_type": "stream",
       "stream": "stdout",
       "text": [
        "\n",
        "31000\n",
        "32000"
       ]
      },
      {
       "output_type": "stream",
       "stream": "stdout",
       "text": [
        "\n",
        "33000\n",
        "34000"
       ]
      },
      {
       "output_type": "stream",
       "stream": "stdout",
       "text": [
        "\n",
        "35000\n",
        "36000"
       ]
      },
      {
       "output_type": "stream",
       "stream": "stdout",
       "text": [
        "\n",
        "37000\n",
        "38000"
       ]
      },
      {
       "output_type": "stream",
       "stream": "stdout",
       "text": [
        "\n",
        "39000\n",
        "40000"
       ]
      },
      {
       "output_type": "stream",
       "stream": "stdout",
       "text": [
        "\n",
        "41000\n",
        "42000"
       ]
      },
      {
       "output_type": "stream",
       "stream": "stdout",
       "text": [
        "\n",
        "43000\n",
        "44000"
       ]
      },
      {
       "output_type": "stream",
       "stream": "stdout",
       "text": [
        "\n",
        "45000\n",
        "46000"
       ]
      },
      {
       "output_type": "stream",
       "stream": "stdout",
       "text": [
        "\n",
        "47000\n",
        "48000"
       ]
      },
      {
       "output_type": "stream",
       "stream": "stdout",
       "text": [
        "\n",
        "49000\n",
        "50000"
       ]
      },
      {
       "output_type": "stream",
       "stream": "stdout",
       "text": [
        "\n",
        "51000\n",
        "52000"
       ]
      },
      {
       "output_type": "stream",
       "stream": "stdout",
       "text": [
        "\n",
        "53000\n",
        "54000"
       ]
      },
      {
       "output_type": "stream",
       "stream": "stdout",
       "text": [
        "\n",
        "55000\n",
        "56000"
       ]
      },
      {
       "output_type": "stream",
       "stream": "stdout",
       "text": [
        "\n",
        "57000\n",
        "58000"
       ]
      },
      {
       "output_type": "stream",
       "stream": "stdout",
       "text": [
        "\n",
        "59000\n",
        "60000"
       ]
      },
      {
       "output_type": "stream",
       "stream": "stdout",
       "text": [
        "\n",
        "61000\n",
        "62000"
       ]
      },
      {
       "output_type": "stream",
       "stream": "stdout",
       "text": [
        "\n",
        "63000\n",
        "64000"
       ]
      },
      {
       "output_type": "stream",
       "stream": "stdout",
       "text": [
        "\n",
        "65000\n",
        "66000\n",
        "67000"
       ]
      },
      {
       "output_type": "stream",
       "stream": "stdout",
       "text": [
        "\n",
        "68000\n",
        "69000"
       ]
      },
      {
       "output_type": "stream",
       "stream": "stdout",
       "text": [
        "\n",
        "70000\n",
        "71000"
       ]
      },
      {
       "output_type": "stream",
       "stream": "stdout",
       "text": [
        "\n",
        "72000\n",
        "73000"
       ]
      },
      {
       "output_type": "stream",
       "stream": "stdout",
       "text": [
        "\n",
        "74000\n",
        "75000\n",
        "76000"
       ]
      },
      {
       "output_type": "stream",
       "stream": "stdout",
       "text": [
        "\n",
        "77000\n",
        "78000"
       ]
      },
      {
       "output_type": "stream",
       "stream": "stdout",
       "text": [
        "\n",
        "79000\n",
        "80000"
       ]
      },
      {
       "output_type": "stream",
       "stream": "stdout",
       "text": [
        "\n",
        "81000\n",
        "82000"
       ]
      },
      {
       "output_type": "stream",
       "stream": "stdout",
       "text": [
        "\n",
        "83000\n",
        "84000"
       ]
      },
      {
       "output_type": "stream",
       "stream": "stdout",
       "text": [
        "\n",
        "85000\n",
        "86000"
       ]
      },
      {
       "output_type": "stream",
       "stream": "stdout",
       "text": [
        "\n",
        "87000\n",
        "88000"
       ]
      },
      {
       "output_type": "stream",
       "stream": "stdout",
       "text": [
        "\n",
        "89000\n",
        "90000"
       ]
      },
      {
       "output_type": "stream",
       "stream": "stdout",
       "text": [
        "\n",
        "91000\n",
        "92000"
       ]
      },
      {
       "output_type": "stream",
       "stream": "stdout",
       "text": [
        "\n",
        "93000\n",
        "94000"
       ]
      },
      {
       "output_type": "stream",
       "stream": "stdout",
       "text": [
        "\n",
        "95000\n",
        "96000"
       ]
      },
      {
       "output_type": "stream",
       "stream": "stdout",
       "text": [
        "\n",
        "97000\n",
        "98000"
       ]
      },
      {
       "output_type": "stream",
       "stream": "stdout",
       "text": [
        "\n",
        "99000\n",
        "100000\n",
        "101000"
       ]
      },
      {
       "output_type": "stream",
       "stream": "stdout",
       "text": [
        "\n",
        "102000\n",
        "103000"
       ]
      },
      {
       "output_type": "stream",
       "stream": "stdout",
       "text": [
        "\n",
        "104000\n",
        "105000"
       ]
      },
      {
       "output_type": "stream",
       "stream": "stdout",
       "text": [
        "\n",
        "106000\n",
        "107000"
       ]
      },
      {
       "output_type": "stream",
       "stream": "stdout",
       "text": [
        "\n",
        "108000\n",
        "109000"
       ]
      },
      {
       "output_type": "stream",
       "stream": "stdout",
       "text": [
        "\n",
        "110000\n",
        "111000"
       ]
      },
      {
       "output_type": "stream",
       "stream": "stdout",
       "text": [
        "\n",
        "112000\n",
        "113000"
       ]
      },
      {
       "output_type": "stream",
       "stream": "stdout",
       "text": [
        "\n",
        "114000\n",
        "115000"
       ]
      },
      {
       "output_type": "stream",
       "stream": "stdout",
       "text": [
        "\n",
        "116000\n",
        "117000"
       ]
      },
      {
       "output_type": "stream",
       "stream": "stdout",
       "text": [
        "\n",
        "118000\n",
        "119000"
       ]
      },
      {
       "output_type": "stream",
       "stream": "stdout",
       "text": [
        "\n",
        "120000\n",
        "121000"
       ]
      },
      {
       "output_type": "stream",
       "stream": "stdout",
       "text": [
        "\n",
        "122000\n",
        "123000"
       ]
      },
      {
       "output_type": "stream",
       "stream": "stdout",
       "text": [
        "\n",
        "124000\n",
        "125000"
       ]
      },
      {
       "output_type": "stream",
       "stream": "stdout",
       "text": [
        "\n",
        "126000\n",
        "127000"
       ]
      },
      {
       "output_type": "stream",
       "stream": "stdout",
       "text": [
        "\n",
        "128000\n",
        "129000"
       ]
      },
      {
       "output_type": "stream",
       "stream": "stdout",
       "text": [
        "\n",
        "130000\n",
        "131000"
       ]
      },
      {
       "output_type": "stream",
       "stream": "stdout",
       "text": [
        "\n",
        "132000\n",
        "133000"
       ]
      },
      {
       "output_type": "stream",
       "stream": "stdout",
       "text": [
        "\n",
        "134000\n",
        "135000"
       ]
      },
      {
       "output_type": "stream",
       "stream": "stdout",
       "text": [
        "\n",
        "136000\n",
        "137000"
       ]
      },
      {
       "output_type": "stream",
       "stream": "stdout",
       "text": [
        "\n",
        "138000"
       ]
      },
      {
       "output_type": "stream",
       "stream": "stdout",
       "text": [
        "\n",
        "139000\n",
        "140000"
       ]
      },
      {
       "output_type": "stream",
       "stream": "stdout",
       "text": [
        "\n",
        "141000\n",
        "142000"
       ]
      },
      {
       "output_type": "stream",
       "stream": "stdout",
       "text": [
        "\n",
        "143000\n",
        "144000"
       ]
      },
      {
       "output_type": "stream",
       "stream": "stdout",
       "text": [
        "\n",
        "145000\n",
        "146000"
       ]
      },
      {
       "output_type": "stream",
       "stream": "stdout",
       "text": [
        "\n",
        "147000\n",
        "148000"
       ]
      },
      {
       "output_type": "stream",
       "stream": "stdout",
       "text": [
        "\n",
        "149000\n",
        "150000"
       ]
      },
      {
       "output_type": "stream",
       "stream": "stdout",
       "text": [
        "\n",
        "151000\n",
        "152000"
       ]
      },
      {
       "output_type": "stream",
       "stream": "stdout",
       "text": [
        "\n",
        "153000\n",
        "154000"
       ]
      },
      {
       "output_type": "stream",
       "stream": "stdout",
       "text": [
        "\n",
        "155000\n",
        "156000"
       ]
      },
      {
       "output_type": "stream",
       "stream": "stdout",
       "text": [
        "\n",
        "157000\n",
        "158000"
       ]
      },
      {
       "output_type": "stream",
       "stream": "stdout",
       "text": [
        "\n",
        "159000\n",
        "160000"
       ]
      },
      {
       "output_type": "stream",
       "stream": "stdout",
       "text": [
        "\n",
        "161000\n",
        "162000"
       ]
      },
      {
       "output_type": "stream",
       "stream": "stdout",
       "text": [
        "\n",
        "163000\n",
        "164000\n",
        "165000"
       ]
      },
      {
       "output_type": "stream",
       "stream": "stdout",
       "text": [
        "\n",
        "166000\n",
        "167000"
       ]
      },
      {
       "output_type": "stream",
       "stream": "stdout",
       "text": [
        "\n",
        "168000\n",
        "169000"
       ]
      },
      {
       "output_type": "stream",
       "stream": "stdout",
       "text": [
        "\n",
        "170000\n",
        "171000"
       ]
      },
      {
       "output_type": "stream",
       "stream": "stdout",
       "text": [
        "\n",
        "172000\n",
        "173000"
       ]
      },
      {
       "output_type": "stream",
       "stream": "stdout",
       "text": [
        "\n",
        "174000\n",
        "175000"
       ]
      },
      {
       "output_type": "stream",
       "stream": "stdout",
       "text": [
        "\n",
        "176000\n",
        "177000"
       ]
      },
      {
       "output_type": "stream",
       "stream": "stdout",
       "text": [
        "\n",
        "178000\n",
        "179000"
       ]
      },
      {
       "output_type": "stream",
       "stream": "stdout",
       "text": [
        "\n",
        "180000\n",
        "181000"
       ]
      },
      {
       "output_type": "stream",
       "stream": "stdout",
       "text": [
        "\n",
        "182000\n",
        "183000"
       ]
      },
      {
       "output_type": "stream",
       "stream": "stdout",
       "text": [
        "\n",
        "184000\n",
        "185000"
       ]
      },
      {
       "output_type": "stream",
       "stream": "stdout",
       "text": [
        "\n",
        "186000\n",
        "187000"
       ]
      },
      {
       "output_type": "stream",
       "stream": "stdout",
       "text": [
        "\n",
        "188000\n",
        "189000"
       ]
      },
      {
       "output_type": "stream",
       "stream": "stdout",
       "text": [
        "\n",
        "190000\n",
        "191000"
       ]
      },
      {
       "output_type": "stream",
       "stream": "stdout",
       "text": [
        "\n",
        "192000"
       ]
      },
      {
       "output_type": "stream",
       "stream": "stdout",
       "text": [
        "\n",
        "193000\n",
        "194000"
       ]
      },
      {
       "output_type": "stream",
       "stream": "stdout",
       "text": [
        "\n",
        "195000\n",
        "196000"
       ]
      },
      {
       "output_type": "stream",
       "stream": "stdout",
       "text": [
        "\n",
        "197000"
       ]
      },
      {
       "output_type": "stream",
       "stream": "stdout",
       "text": [
        "\n",
        "198000\n",
        "199000"
       ]
      },
      {
       "output_type": "stream",
       "stream": "stdout",
       "text": [
        "\n",
        "200000"
       ]
      },
      {
       "output_type": "stream",
       "stream": "stdout",
       "text": [
        "\n",
        "201000"
       ]
      },
      {
       "output_type": "stream",
       "stream": "stdout",
       "text": [
        "\n",
        "202000\n",
        "203000"
       ]
      },
      {
       "output_type": "stream",
       "stream": "stdout",
       "text": [
        "\n",
        "204000"
       ]
      },
      {
       "output_type": "stream",
       "stream": "stdout",
       "text": [
        "\n",
        "205000"
       ]
      },
      {
       "output_type": "stream",
       "stream": "stdout",
       "text": [
        "\n",
        "206000"
       ]
      },
      {
       "output_type": "stream",
       "stream": "stdout",
       "text": [
        "\n",
        "207000"
       ]
      },
      {
       "output_type": "stream",
       "stream": "stdout",
       "text": [
        "\n",
        "208000"
       ]
      },
      {
       "output_type": "stream",
       "stream": "stdout",
       "text": [
        "\n",
        "209000\n",
        "210000"
       ]
      },
      {
       "output_type": "stream",
       "stream": "stdout",
       "text": [
        "\n",
        "211000\n",
        "212000"
       ]
      },
      {
       "output_type": "stream",
       "stream": "stdout",
       "text": [
        "\n",
        "213000\n",
        "214000"
       ]
      },
      {
       "output_type": "stream",
       "stream": "stdout",
       "text": [
        "\n",
        "215000"
       ]
      },
      {
       "output_type": "stream",
       "stream": "stdout",
       "text": [
        "\n",
        "216000\n",
        "217000"
       ]
      },
      {
       "output_type": "stream",
       "stream": "stdout",
       "text": [
        "\n",
        "218000\n",
        "219000"
       ]
      },
      {
       "output_type": "stream",
       "stream": "stdout",
       "text": [
        "\n",
        "220000\n",
        "221000"
       ]
      },
      {
       "output_type": "stream",
       "stream": "stdout",
       "text": [
        "\n",
        "222000\n",
        "223000"
       ]
      },
      {
       "output_type": "stream",
       "stream": "stdout",
       "text": [
        "\n",
        "224000\n",
        "225000"
       ]
      },
      {
       "output_type": "stream",
       "stream": "stdout",
       "text": [
        "\n",
        "226000\n",
        "227000"
       ]
      },
      {
       "output_type": "stream",
       "stream": "stdout",
       "text": [
        "\n",
        "228000"
       ]
      },
      {
       "output_type": "stream",
       "stream": "stdout",
       "text": [
        "\n",
        "229000"
       ]
      },
      {
       "output_type": "stream",
       "stream": "stdout",
       "text": [
        "\n",
        "230000\n",
        "231000"
       ]
      },
      {
       "output_type": "stream",
       "stream": "stdout",
       "text": [
        "\n",
        "232000"
       ]
      },
      {
       "output_type": "stream",
       "stream": "stdout",
       "text": [
        "\n",
        "233000"
       ]
      },
      {
       "output_type": "stream",
       "stream": "stdout",
       "text": [
        "\n",
        "234000\n",
        "235000"
       ]
      },
      {
       "output_type": "stream",
       "stream": "stdout",
       "text": [
        "\n",
        "236000\n",
        "237000"
       ]
      },
      {
       "output_type": "stream",
       "stream": "stdout",
       "text": [
        "\n",
        "238000\n",
        "239000"
       ]
      },
      {
       "output_type": "stream",
       "stream": "stdout",
       "text": [
        "\n",
        "240000\n",
        "241000"
       ]
      },
      {
       "output_type": "stream",
       "stream": "stdout",
       "text": [
        "\n",
        "242000\n",
        "243000"
       ]
      },
      {
       "output_type": "stream",
       "stream": "stdout",
       "text": [
        "\n",
        "244000\n",
        "245000"
       ]
      },
      {
       "output_type": "stream",
       "stream": "stdout",
       "text": [
        "\n",
        "246000\n",
        "247000"
       ]
      },
      {
       "output_type": "stream",
       "stream": "stdout",
       "text": [
        "\n",
        "248000\n",
        "249000"
       ]
      },
      {
       "output_type": "stream",
       "stream": "stdout",
       "text": [
        "\n",
        "250000\n",
        "251000"
       ]
      },
      {
       "output_type": "stream",
       "stream": "stdout",
       "text": [
        "\n",
        "252000"
       ]
      },
      {
       "output_type": "stream",
       "stream": "stdout",
       "text": [
        "\n",
        "253000\n",
        "254000"
       ]
      },
      {
       "output_type": "stream",
       "stream": "stdout",
       "text": [
        "\n",
        "255000\n",
        "256000"
       ]
      },
      {
       "output_type": "stream",
       "stream": "stdout",
       "text": [
        "\n",
        "257000\n",
        "258000"
       ]
      },
      {
       "output_type": "stream",
       "stream": "stdout",
       "text": [
        "\n",
        "259000\n",
        "260000"
       ]
      },
      {
       "output_type": "stream",
       "stream": "stdout",
       "text": [
        "\n",
        "261000\n",
        "262000"
       ]
      },
      {
       "output_type": "stream",
       "stream": "stdout",
       "text": [
        "\n",
        "263000"
       ]
      },
      {
       "output_type": "stream",
       "stream": "stdout",
       "text": [
        "\n",
        "264000\n",
        "265000"
       ]
      },
      {
       "output_type": "stream",
       "stream": "stdout",
       "text": [
        "\n",
        "266000\n",
        "267000"
       ]
      },
      {
       "output_type": "stream",
       "stream": "stdout",
       "text": [
        "\n",
        "268000\n",
        "269000"
       ]
      },
      {
       "output_type": "stream",
       "stream": "stdout",
       "text": [
        "\n",
        "270000"
       ]
      },
      {
       "output_type": "stream",
       "stream": "stdout",
       "text": [
        "\n",
        "271000\n",
        "272000"
       ]
      },
      {
       "output_type": "stream",
       "stream": "stdout",
       "text": [
        "\n",
        "273000\n",
        "274000"
       ]
      },
      {
       "output_type": "stream",
       "stream": "stdout",
       "text": [
        "\n",
        "275000\n",
        "276000"
       ]
      },
      {
       "output_type": "stream",
       "stream": "stdout",
       "text": [
        "\n",
        "277000\n",
        "278000"
       ]
      },
      {
       "output_type": "stream",
       "stream": "stdout",
       "text": [
        "\n",
        "279000\n",
        "280000"
       ]
      },
      {
       "output_type": "stream",
       "stream": "stdout",
       "text": [
        "\n",
        "281000\n",
        "282000"
       ]
      },
      {
       "output_type": "stream",
       "stream": "stdout",
       "text": [
        "\n",
        "283000\n",
        "284000"
       ]
      },
      {
       "output_type": "stream",
       "stream": "stdout",
       "text": [
        "\n",
        "285000\n",
        "286000"
       ]
      },
      {
       "output_type": "stream",
       "stream": "stdout",
       "text": [
        "\n",
        "287000\n",
        "288000"
       ]
      },
      {
       "output_type": "stream",
       "stream": "stdout",
       "text": [
        "\n",
        "289000\n",
        "290000"
       ]
      },
      {
       "output_type": "stream",
       "stream": "stdout",
       "text": [
        "\n",
        "291000\n",
        "292000"
       ]
      },
      {
       "output_type": "stream",
       "stream": "stdout",
       "text": [
        "\n",
        "293000"
       ]
      },
      {
       "output_type": "stream",
       "stream": "stdout",
       "text": [
        "\n",
        "294000\n",
        "295000"
       ]
      },
      {
       "output_type": "stream",
       "stream": "stdout",
       "text": [
        "\n",
        "296000\n",
        "297000"
       ]
      },
      {
       "output_type": "stream",
       "stream": "stdout",
       "text": [
        "\n",
        "298000\n",
        "299000"
       ]
      },
      {
       "output_type": "stream",
       "stream": "stdout",
       "text": [
        "\n",
        "300000\n",
        "301000"
       ]
      },
      {
       "output_type": "stream",
       "stream": "stdout",
       "text": [
        "\n",
        "302000"
       ]
      },
      {
       "output_type": "stream",
       "stream": "stdout",
       "text": [
        "\n",
        "303000\n",
        "304000"
       ]
      },
      {
       "output_type": "stream",
       "stream": "stdout",
       "text": [
        "\n",
        "305000\n",
        "306000"
       ]
      },
      {
       "output_type": "stream",
       "stream": "stdout",
       "text": [
        "\n",
        "307000"
       ]
      },
      {
       "output_type": "stream",
       "stream": "stdout",
       "text": [
        "\n",
        "308000\n",
        "309000"
       ]
      },
      {
       "output_type": "stream",
       "stream": "stdout",
       "text": [
        "\n",
        "310000"
       ]
      },
      {
       "output_type": "stream",
       "stream": "stdout",
       "text": [
        "\n",
        "311000\n",
        "312000"
       ]
      },
      {
       "output_type": "stream",
       "stream": "stdout",
       "text": [
        "\n",
        "313000\n",
        "314000"
       ]
      },
      {
       "output_type": "stream",
       "stream": "stdout",
       "text": [
        "\n",
        "315000\n",
        "316000"
       ]
      },
      {
       "output_type": "stream",
       "stream": "stdout",
       "text": [
        "\n",
        "317000\n",
        "318000"
       ]
      },
      {
       "output_type": "stream",
       "stream": "stdout",
       "text": [
        "\n",
        "319000\n",
        "320000"
       ]
      },
      {
       "output_type": "stream",
       "stream": "stdout",
       "text": [
        "\n",
        "321000\n",
        "322000"
       ]
      },
      {
       "output_type": "stream",
       "stream": "stdout",
       "text": [
        "\n",
        "323000\n",
        "324000"
       ]
      },
      {
       "output_type": "stream",
       "stream": "stdout",
       "text": [
        "\n",
        "325000"
       ]
      },
      {
       "output_type": "stream",
       "stream": "stdout",
       "text": [
        "\n",
        "326000\n",
        "327000"
       ]
      },
      {
       "output_type": "stream",
       "stream": "stdout",
       "text": [
        "\n",
        "328000\n",
        "329000"
       ]
      },
      {
       "output_type": "stream",
       "stream": "stdout",
       "text": [
        "\n",
        "330000"
       ]
      },
      {
       "output_type": "stream",
       "stream": "stdout",
       "text": [
        "\n",
        "331000\n",
        "332000"
       ]
      },
      {
       "output_type": "stream",
       "stream": "stdout",
       "text": [
        "\n",
        "333000"
       ]
      },
      {
       "output_type": "stream",
       "stream": "stdout",
       "text": [
        "\n",
        "334000"
       ]
      },
      {
       "output_type": "stream",
       "stream": "stdout",
       "text": [
        "\n",
        "335000\n",
        "336000"
       ]
      },
      {
       "output_type": "stream",
       "stream": "stdout",
       "text": [
        "\n",
        "337000\n",
        "338000"
       ]
      },
      {
       "output_type": "stream",
       "stream": "stdout",
       "text": [
        "\n",
        "339000\n",
        "340000"
       ]
      },
      {
       "output_type": "stream",
       "stream": "stdout",
       "text": [
        "\n",
        "341000"
       ]
      },
      {
       "output_type": "stream",
       "stream": "stdout",
       "text": [
        "\n",
        "342000"
       ]
      },
      {
       "output_type": "stream",
       "stream": "stdout",
       "text": [
        "\n",
        "343000\n",
        "344000"
       ]
      },
      {
       "output_type": "stream",
       "stream": "stdout",
       "text": [
        "\n",
        "345000\n",
        "346000"
       ]
      },
      {
       "output_type": "stream",
       "stream": "stdout",
       "text": [
        "\n",
        "0\n",
        "1000\n",
        "2000\n",
        "3000\n",
        "4000\n",
        "5000"
       ]
      },
      {
       "output_type": "stream",
       "stream": "stdout",
       "text": [
        "\n",
        "6000\n",
        "7000\n",
        "8000\n",
        "9000\n",
        "10000\n",
        "11000"
       ]
      },
      {
       "output_type": "stream",
       "stream": "stdout",
       "text": [
        "\n",
        "12000\n",
        "13000\n",
        "14000\n",
        "15000\n",
        "16000\n",
        "17000"
       ]
      },
      {
       "output_type": "stream",
       "stream": "stdout",
       "text": [
        "\n",
        "18000\n",
        "19000\n",
        "20000\n",
        "21000\n",
        "22000\n",
        "23000"
       ]
      },
      {
       "output_type": "stream",
       "stream": "stdout",
       "text": [
        "\n",
        "24000\n",
        "25000\n",
        "26000\n",
        "27000\n",
        "28000\n",
        "29000"
       ]
      },
      {
       "output_type": "stream",
       "stream": "stdout",
       "text": [
        "\n",
        "30000\n",
        "31000\n",
        "32000\n",
        "33000\n",
        "34000\n",
        "35000"
       ]
      },
      {
       "output_type": "stream",
       "stream": "stdout",
       "text": [
        "\n",
        "36000\n",
        "37000\n",
        "38000\n",
        "39000\n",
        "40000\n",
        "41000"
       ]
      },
      {
       "output_type": "stream",
       "stream": "stdout",
       "text": [
        "\n",
        "42000\n",
        "43000\n",
        "44000\n",
        "45000\n",
        "46000"
       ]
      },
      {
       "output_type": "stream",
       "stream": "stdout",
       "text": [
        "\n",
        "47000\n",
        "48000\n",
        "49000\n",
        "50000\n",
        "51000\n",
        "52000"
       ]
      },
      {
       "output_type": "stream",
       "stream": "stdout",
       "text": [
        "\n",
        "53000\n",
        "54000\n",
        "55000\n",
        "56000\n",
        "57000\n",
        "58000"
       ]
      },
      {
       "output_type": "stream",
       "stream": "stdout",
       "text": [
        "\n",
        "59000\n",
        "60000\n",
        "61000\n",
        "62000\n",
        "63000\n",
        "64000"
       ]
      },
      {
       "output_type": "stream",
       "stream": "stdout",
       "text": [
        "\n",
        "65000\n",
        "66000\n",
        "67000\n",
        "68000\n",
        "69000\n",
        "70000"
       ]
      },
      {
       "output_type": "stream",
       "stream": "stdout",
       "text": [
        "\n",
        "71000\n",
        "72000\n",
        "73000\n",
        "74000\n",
        "75000\n",
        "76000"
       ]
      },
      {
       "output_type": "stream",
       "stream": "stdout",
       "text": [
        "\n",
        "77000\n",
        "78000\n",
        "79000\n",
        "80000\n",
        "81000\n",
        "82000"
       ]
      },
      {
       "output_type": "stream",
       "stream": "stdout",
       "text": [
        "\n",
        "83000\n",
        "84000\n",
        "85000\n",
        "86000\n",
        "87000\n",
        "88000"
       ]
      },
      {
       "output_type": "stream",
       "stream": "stdout",
       "text": [
        "\n",
        "89000\n",
        "90000\n",
        "91000\n",
        "92000\n",
        "93000\n",
        "94000"
       ]
      },
      {
       "output_type": "stream",
       "stream": "stdout",
       "text": [
        "\n",
        "95000\n",
        "96000\n",
        "97000\n",
        "98000\n",
        "99000\n",
        "100000"
       ]
      },
      {
       "output_type": "stream",
       "stream": "stdout",
       "text": [
        "\n",
        "101000\n",
        "102000\n",
        "103000\n",
        "104000\n",
        "105000\n",
        "106000"
       ]
      },
      {
       "output_type": "stream",
       "stream": "stdout",
       "text": [
        "\n",
        "107000\n",
        "108000\n",
        "109000\n",
        "110000\n",
        "111000\n",
        "112000"
       ]
      },
      {
       "output_type": "stream",
       "stream": "stdout",
       "text": [
        "\n",
        "113000\n",
        "114000\n",
        "115000\n",
        "116000\n",
        "117000\n",
        "118000"
       ]
      },
      {
       "output_type": "stream",
       "stream": "stdout",
       "text": [
        "\n",
        "119000\n",
        "120000\n",
        "121000\n",
        "122000\n",
        "123000\n",
        "124000"
       ]
      },
      {
       "output_type": "stream",
       "stream": "stdout",
       "text": [
        "\n",
        "125000\n",
        "126000\n",
        "127000\n",
        "128000\n",
        "129000\n",
        "130000"
       ]
      },
      {
       "output_type": "stream",
       "stream": "stdout",
       "text": [
        "\n",
        "131000\n",
        "132000\n",
        "133000\n",
        "134000\n",
        "135000\n",
        "136000"
       ]
      },
      {
       "output_type": "stream",
       "stream": "stdout",
       "text": [
        "\n",
        "137000\n",
        "138000\n",
        "139000\n",
        "140000\n",
        "141000\n",
        "142000"
       ]
      },
      {
       "output_type": "stream",
       "stream": "stdout",
       "text": [
        "\n",
        "143000\n",
        "144000\n",
        "145000\n",
        "146000\n",
        "147000\n",
        "148000"
       ]
      },
      {
       "output_type": "stream",
       "stream": "stdout",
       "text": [
        "\n",
        "149000\n",
        "150000\n",
        "151000\n",
        "152000\n",
        "153000\n",
        "154000"
       ]
      },
      {
       "output_type": "stream",
       "stream": "stdout",
       "text": [
        "\n",
        "155000\n",
        "156000\n",
        "157000\n",
        "158000\n",
        "159000\n",
        "160000"
       ]
      },
      {
       "output_type": "stream",
       "stream": "stdout",
       "text": [
        "\n",
        "161000\n",
        "162000\n",
        "163000\n",
        "164000\n",
        "165000\n",
        "166000"
       ]
      },
      {
       "output_type": "stream",
       "stream": "stdout",
       "text": [
        "\n",
        "167000\n",
        "168000\n",
        "169000\n",
        "170000\n",
        "171000\n",
        "172000"
       ]
      },
      {
       "output_type": "stream",
       "stream": "stdout",
       "text": [
        "\n",
        "173000\n",
        "174000\n",
        "175000\n",
        "176000\n",
        "177000\n",
        "178000"
       ]
      },
      {
       "output_type": "stream",
       "stream": "stdout",
       "text": [
        "\n",
        "179000\n",
        "180000\n",
        "181000\n",
        "182000\n",
        "183000\n",
        "184000"
       ]
      },
      {
       "output_type": "stream",
       "stream": "stdout",
       "text": [
        "\n",
        "185000\n",
        "186000\n",
        "187000\n",
        "188000\n",
        "189000\n",
        "190000"
       ]
      },
      {
       "output_type": "stream",
       "stream": "stdout",
       "text": [
        "\n",
        "191000\n",
        "192000\n",
        "193000\n",
        "194000\n",
        "195000\n",
        "196000"
       ]
      },
      {
       "output_type": "stream",
       "stream": "stdout",
       "text": [
        "\n",
        "197000\n",
        "198000\n",
        "199000\n",
        "200000\n",
        "201000"
       ]
      },
      {
       "output_type": "stream",
       "stream": "stdout",
       "text": [
        "\n",
        "202000\n",
        "203000\n",
        "204000\n",
        "205000\n",
        "206000\n",
        "207000"
       ]
      },
      {
       "output_type": "stream",
       "stream": "stdout",
       "text": [
        "\n",
        "208000\n",
        "209000\n",
        "210000\n",
        "211000\n",
        "212000\n",
        "213000"
       ]
      },
      {
       "output_type": "stream",
       "stream": "stdout",
       "text": [
        "\n",
        "214000\n",
        "215000\n",
        "216000\n",
        "217000\n",
        "218000\n",
        "219000"
       ]
      },
      {
       "output_type": "stream",
       "stream": "stdout",
       "text": [
        "\n",
        "220000\n",
        "221000\n",
        "222000\n",
        "223000\n",
        "224000\n",
        "225000"
       ]
      },
      {
       "output_type": "stream",
       "stream": "stdout",
       "text": [
        "\n",
        "226000\n",
        "227000\n",
        "228000\n",
        "229000\n",
        "230000\n",
        "231000"
       ]
      },
      {
       "output_type": "stream",
       "stream": "stdout",
       "text": [
        "\n",
        "232000\n",
        "233000\n",
        "234000"
       ]
      },
      {
       "output_type": "stream",
       "stream": "stdout",
       "text": [
        "\n",
        "235000\n",
        "236000\n",
        "237000\n",
        "238000\n",
        "239000\n",
        "240000"
       ]
      },
      {
       "output_type": "stream",
       "stream": "stdout",
       "text": [
        "\n",
        "241000\n",
        "242000\n",
        "243000\n",
        "244000\n",
        "245000\n",
        "246000"
       ]
      },
      {
       "output_type": "stream",
       "stream": "stdout",
       "text": [
        "\n",
        "247000\n",
        "248000\n",
        "249000\n",
        "250000\n",
        "251000\n",
        "252000"
       ]
      },
      {
       "output_type": "stream",
       "stream": "stdout",
       "text": [
        "\n",
        "253000\n",
        "254000\n",
        "255000\n",
        "256000\n",
        "257000\n",
        "258000"
       ]
      },
      {
       "output_type": "stream",
       "stream": "stdout",
       "text": [
        "\n",
        "259000\n",
        "260000\n",
        "261000\n",
        "262000\n",
        "263000\n",
        "264000"
       ]
      },
      {
       "output_type": "stream",
       "stream": "stdout",
       "text": [
        "\n",
        "265000\n",
        "266000\n",
        "267000\n",
        "268000\n",
        "269000\n",
        "270000"
       ]
      },
      {
       "output_type": "stream",
       "stream": "stdout",
       "text": [
        "\n",
        "271000\n",
        "272000\n",
        "273000\n",
        "274000\n",
        "275000\n",
        "276000"
       ]
      },
      {
       "output_type": "stream",
       "stream": "stdout",
       "text": [
        "\n",
        "277000\n",
        "278000\n",
        "279000\n",
        "280000\n",
        "281000\n",
        "282000"
       ]
      },
      {
       "output_type": "stream",
       "stream": "stdout",
       "text": [
        "\n",
        "283000\n",
        "284000"
       ]
      },
      {
       "output_type": "stream",
       "stream": "stdout",
       "text": [
        "\n",
        "285000\n",
        "286000\n",
        "287000\n",
        "288000\n",
        "289000\n",
        "290000"
       ]
      },
      {
       "output_type": "stream",
       "stream": "stdout",
       "text": [
        "\n",
        "291000\n",
        "292000\n",
        "293000\n",
        "294000\n",
        "295000\n",
        "296000"
       ]
      },
      {
       "output_type": "stream",
       "stream": "stdout",
       "text": [
        "\n",
        "297000\n",
        "298000\n",
        "299000\n",
        "300000\n",
        "301000\n",
        "302000"
       ]
      },
      {
       "output_type": "stream",
       "stream": "stdout",
       "text": [
        "\n",
        "303000\n",
        "304000\n",
        "305000\n",
        "306000\n",
        "307000\n",
        "308000"
       ]
      },
      {
       "output_type": "stream",
       "stream": "stdout",
       "text": [
        "\n",
        "309000\n",
        "310000\n",
        "311000\n",
        "312000\n",
        "313000"
       ]
      },
      {
       "output_type": "stream",
       "stream": "stdout",
       "text": [
        "\n",
        "314000\n",
        "315000\n",
        "316000\n",
        "317000\n",
        "318000\n",
        "319000"
       ]
      },
      {
       "output_type": "stream",
       "stream": "stdout",
       "text": [
        "\n",
        "320000\n",
        "321000\n",
        "322000\n",
        "323000\n",
        "324000\n",
        "325000"
       ]
      },
      {
       "output_type": "stream",
       "stream": "stdout",
       "text": [
        "\n",
        "326000\n",
        "327000\n",
        "328000\n",
        "329000\n",
        "330000\n",
        "331000"
       ]
      },
      {
       "output_type": "stream",
       "stream": "stdout",
       "text": [
        "\n",
        "332000\n",
        "333000\n",
        "334000\n",
        "335000\n",
        "336000\n",
        "337000"
       ]
      },
      {
       "output_type": "stream",
       "stream": "stdout",
       "text": [
        "\n",
        "338000\n",
        "339000\n",
        "340000\n",
        "341000\n",
        "342000\n",
        "343000"
       ]
      },
      {
       "output_type": "stream",
       "stream": "stdout",
       "text": [
        "\n",
        "344000\n",
        "345000\n",
        "346000\n",
        "347000\n",
        "348000\n",
        "349000"
       ]
      },
      {
       "output_type": "stream",
       "stream": "stdout",
       "text": [
        "\n",
        "350000\n",
        "351000\n",
        "352000\n",
        "353000\n",
        "354000\n",
        "355000"
       ]
      },
      {
       "output_type": "stream",
       "stream": "stdout",
       "text": [
        "\n",
        "356000\n",
        "357000\n",
        "358000\n",
        "359000\n",
        "360000\n",
        "361000"
       ]
      },
      {
       "output_type": "stream",
       "stream": "stdout",
       "text": [
        "\n",
        "362000\n",
        "363000\n",
        "364000\n",
        "365000\n",
        "366000\n",
        "367000"
       ]
      },
      {
       "output_type": "stream",
       "stream": "stdout",
       "text": [
        "\n",
        "368000\n",
        "369000\n",
        "370000\n",
        "371000\n",
        "372000\n",
        "373000"
       ]
      },
      {
       "output_type": "stream",
       "stream": "stdout",
       "text": [
        "\n",
        "374000\n",
        "375000\n",
        "376000\n",
        "377000\n",
        "378000\n",
        "379000"
       ]
      },
      {
       "output_type": "stream",
       "stream": "stdout",
       "text": [
        "\n",
        "380000\n",
        "381000\n",
        "382000\n",
        "383000\n",
        "384000\n",
        "385000"
       ]
      },
      {
       "output_type": "stream",
       "stream": "stdout",
       "text": [
        "\n",
        "386000\n",
        "387000\n",
        "388000\n",
        "389000\n",
        "390000\n",
        "391000"
       ]
      },
      {
       "output_type": "stream",
       "stream": "stdout",
       "text": [
        "\n",
        "392000\n",
        "393000\n",
        "394000\n",
        "395000\n",
        "396000\n",
        "397000"
       ]
      },
      {
       "output_type": "stream",
       "stream": "stdout",
       "text": [
        "\n",
        "398000\n",
        "399000\n",
        "400000\n",
        "401000\n",
        "402000"
       ]
      },
      {
       "output_type": "stream",
       "stream": "stdout",
       "text": [
        "\n",
        "403000\n",
        "404000\n",
        "405000\n",
        "406000\n",
        "407000\n",
        "408000"
       ]
      },
      {
       "output_type": "stream",
       "stream": "stdout",
       "text": [
        "\n",
        "409000\n",
        "410000\n",
        "411000\n",
        "412000\n",
        "413000\n",
        "414000"
       ]
      },
      {
       "output_type": "stream",
       "stream": "stdout",
       "text": [
        "\n",
        "415000\n",
        "416000\n",
        "417000\n",
        "418000\n",
        "419000\n",
        "420000"
       ]
      },
      {
       "output_type": "stream",
       "stream": "stdout",
       "text": [
        "\n",
        "421000\n",
        "422000\n",
        "423000\n",
        "424000\n",
        "425000\n",
        "426000"
       ]
      },
      {
       "output_type": "stream",
       "stream": "stdout",
       "text": [
        "\n",
        "427000\n",
        "428000\n",
        "429000\n",
        "430000\n",
        "431000\n",
        "432000"
       ]
      },
      {
       "output_type": "stream",
       "stream": "stdout",
       "text": [
        "\n",
        "433000\n",
        "434000\n",
        "435000\n",
        "436000\n",
        "437000\n",
        "438000"
       ]
      },
      {
       "output_type": "stream",
       "stream": "stdout",
       "text": [
        "\n",
        "439000\n",
        "440000\n",
        "441000\n",
        "442000\n",
        "443000"
       ]
      },
      {
       "output_type": "stream",
       "stream": "stdout",
       "text": [
        "\n",
        "444000\n",
        "445000\n",
        "446000\n",
        "447000\n",
        "448000\n",
        "449000"
       ]
      },
      {
       "output_type": "stream",
       "stream": "stdout",
       "text": [
        "\n",
        "450000\n",
        "451000\n",
        "452000\n",
        "453000\n",
        "454000\n",
        "455000"
       ]
      },
      {
       "output_type": "stream",
       "stream": "stdout",
       "text": [
        "\n",
        "456000\n",
        "457000\n",
        "458000\n",
        "459000\n",
        "460000\n",
        "461000"
       ]
      },
      {
       "output_type": "stream",
       "stream": "stdout",
       "text": [
        "\n",
        "462000\n",
        "463000\n",
        "464000\n",
        "465000\n",
        "466000\n",
        "467000"
       ]
      },
      {
       "output_type": "stream",
       "stream": "stdout",
       "text": [
        "\n",
        "468000\n",
        "469000\n",
        "470000\n",
        "471000\n",
        "472000\n",
        "473000"
       ]
      },
      {
       "output_type": "stream",
       "stream": "stdout",
       "text": [
        "\n",
        "474000\n",
        "475000\n",
        "476000\n",
        "477000\n",
        "478000\n",
        "479000"
       ]
      },
      {
       "output_type": "stream",
       "stream": "stdout",
       "text": [
        "\n",
        "480000\n",
        "481000\n",
        "482000\n",
        "483000\n",
        "484000\n",
        "485000"
       ]
      },
      {
       "output_type": "stream",
       "stream": "stdout",
       "text": [
        "\n",
        "486000\n",
        "487000\n",
        "488000\n",
        "489000\n",
        "490000\n",
        "491000"
       ]
      },
      {
       "output_type": "stream",
       "stream": "stdout",
       "text": [
        "\n",
        "492000\n",
        "493000\n",
        "494000\n",
        "495000\n",
        "496000\n",
        "497000"
       ]
      },
      {
       "output_type": "stream",
       "stream": "stdout",
       "text": [
        "\n",
        "498000\n",
        "499000\n",
        "500000\n",
        "501000\n",
        "502000\n",
        "503000"
       ]
      },
      {
       "output_type": "stream",
       "stream": "stdout",
       "text": [
        "\n",
        "504000\n",
        "505000\n",
        "506000\n",
        "507000\n",
        "508000\n",
        "509000"
       ]
      },
      {
       "output_type": "stream",
       "stream": "stdout",
       "text": [
        "\n",
        "510000\n",
        "511000\n",
        "512000\n",
        "513000\n",
        "514000\n",
        "515000"
       ]
      },
      {
       "output_type": "stream",
       "stream": "stdout",
       "text": [
        "\n",
        "516000\n",
        "517000\n",
        "518000\n",
        "519000\n",
        "520000\n",
        "521000"
       ]
      },
      {
       "output_type": "stream",
       "stream": "stdout",
       "text": [
        "\n",
        "522000\n",
        "523000\n",
        "524000\n",
        "525000\n",
        "526000\n",
        "527000"
       ]
      },
      {
       "output_type": "stream",
       "stream": "stdout",
       "text": [
        "\n",
        "528000\n",
        "529000\n",
        "530000\n",
        "531000\n",
        "532000\n",
        "533000\n",
        "534000"
       ]
      },
      {
       "output_type": "stream",
       "stream": "stdout",
       "text": [
        "\n",
        "535000\n",
        "536000\n",
        "537000\n",
        "538000\n",
        "539000\n",
        "540000"
       ]
      },
      {
       "output_type": "stream",
       "stream": "stdout",
       "text": [
        "\n",
        "541000\n",
        "542000\n",
        "543000\n",
        "544000\n",
        "545000\n",
        "546000"
       ]
      },
      {
       "output_type": "stream",
       "stream": "stdout",
       "text": [
        "\n",
        "547000\n",
        "548000\n",
        "549000\n",
        "550000\n",
        "551000\n",
        "552000"
       ]
      },
      {
       "output_type": "stream",
       "stream": "stdout",
       "text": [
        "\n",
        "553000\n",
        "554000\n",
        "555000\n",
        "556000\n",
        "557000\n",
        "558000"
       ]
      },
      {
       "output_type": "stream",
       "stream": "stdout",
       "text": [
        "\n",
        "559000\n",
        "560000\n",
        "561000\n",
        "562000\n",
        "563000\n",
        "564000"
       ]
      },
      {
       "output_type": "stream",
       "stream": "stdout",
       "text": [
        "\n",
        "565000\n",
        "566000\n",
        "567000\n",
        "568000\n",
        "569000\n",
        "570000\n",
        "571000"
       ]
      },
      {
       "output_type": "stream",
       "stream": "stdout",
       "text": [
        "\n",
        "572000\n",
        "573000\n",
        "574000\n",
        "575000\n",
        "576000\n",
        "577000"
       ]
      },
      {
       "output_type": "stream",
       "stream": "stdout",
       "text": [
        "\n",
        "578000\n",
        "579000\n",
        "580000\n",
        "581000\n",
        "582000\n",
        "583000"
       ]
      },
      {
       "output_type": "stream",
       "stream": "stdout",
       "text": [
        "\n",
        "584000\n",
        "585000\n",
        "586000\n",
        "587000\n",
        "588000\n",
        "589000\n",
        "590000"
       ]
      },
      {
       "output_type": "stream",
       "stream": "stdout",
       "text": [
        "\n",
        "591000\n",
        "592000\n",
        "593000\n",
        "594000\n",
        "595000\n",
        "596000"
       ]
      },
      {
       "output_type": "stream",
       "stream": "stdout",
       "text": [
        "\n",
        "597000\n",
        "598000\n",
        "599000\n",
        "600000\n",
        "601000\n",
        "602000"
       ]
      },
      {
       "output_type": "stream",
       "stream": "stdout",
       "text": [
        "\n",
        "603000\n",
        "604000\n",
        "605000\n",
        "606000\n",
        "607000\n",
        "608000"
       ]
      },
      {
       "output_type": "stream",
       "stream": "stdout",
       "text": [
        "\n",
        "609000\n",
        "610000\n",
        "611000\n",
        "612000\n",
        "613000\n",
        "614000"
       ]
      },
      {
       "output_type": "stream",
       "stream": "stdout",
       "text": [
        "\n",
        "615000\n",
        "616000\n",
        "617000\n",
        "618000\n",
        "619000\n",
        "620000"
       ]
      },
      {
       "output_type": "stream",
       "stream": "stdout",
       "text": [
        "\n",
        "621000\n",
        "622000\n",
        "623000\n",
        "624000\n",
        "625000\n",
        "626000"
       ]
      },
      {
       "output_type": "stream",
       "stream": "stdout",
       "text": [
        "\n",
        "627000\n",
        "628000\n",
        "629000\n",
        "630000\n",
        "631000\n",
        "632000\n",
        "633000"
       ]
      },
      {
       "output_type": "stream",
       "stream": "stdout",
       "text": [
        "\n",
        "634000\n",
        "635000\n",
        "636000\n",
        "637000\n",
        "638000\n",
        "639000"
       ]
      },
      {
       "output_type": "stream",
       "stream": "stdout",
       "text": [
        "\n",
        "640000\n",
        "641000\n",
        "642000\n",
        "643000\n",
        "644000"
       ]
      },
      {
       "output_type": "stream",
       "stream": "stdout",
       "text": [
        "\n",
        "645000\n",
        "646000\n",
        "647000\n",
        "648000\n",
        "649000\n",
        "650000"
       ]
      },
      {
       "output_type": "stream",
       "stream": "stdout",
       "text": [
        "\n",
        "651000\n",
        "652000\n",
        "653000\n",
        "654000\n",
        "655000\n",
        "656000"
       ]
      },
      {
       "output_type": "stream",
       "stream": "stdout",
       "text": [
        "\n",
        "657000\n",
        "658000\n",
        "659000\n",
        "660000\n",
        "661000\n",
        "662000"
       ]
      },
      {
       "output_type": "stream",
       "stream": "stdout",
       "text": [
        "\n",
        "663000\n",
        "664000\n",
        "665000\n",
        "666000\n",
        "667000\n",
        "668000"
       ]
      },
      {
       "output_type": "stream",
       "stream": "stdout",
       "text": [
        "\n",
        "669000\n",
        "670000\n",
        "671000\n",
        "672000\n",
        "673000\n",
        "674000"
       ]
      },
      {
       "output_type": "stream",
       "stream": "stdout",
       "text": [
        "\n",
        "675000\n",
        "676000\n",
        "677000\n",
        "678000\n",
        "679000\n",
        "680000"
       ]
      },
      {
       "output_type": "stream",
       "stream": "stdout",
       "text": [
        "\n",
        "681000\n",
        "682000\n",
        "683000\n",
        "684000\n",
        "685000\n",
        "686000"
       ]
      },
      {
       "output_type": "stream",
       "stream": "stdout",
       "text": [
        "\n",
        "687000\n",
        "688000\n",
        "689000\n",
        "690000\n",
        "691000\n",
        "692000"
       ]
      },
      {
       "output_type": "stream",
       "stream": "stdout",
       "text": [
        "\n",
        "693000\n",
        "694000\n",
        "695000\n",
        "696000\n",
        "697000\n",
        "698000"
       ]
      },
      {
       "output_type": "stream",
       "stream": "stdout",
       "text": [
        "\n",
        "699000\n",
        "700000\n",
        "701000\n",
        "702000\n",
        "703000\n",
        "704000"
       ]
      },
      {
       "output_type": "stream",
       "stream": "stdout",
       "text": [
        "\n",
        "705000\n",
        "706000\n",
        "707000\n",
        "708000\n",
        "709000\n",
        "710000"
       ]
      },
      {
       "output_type": "stream",
       "stream": "stdout",
       "text": [
        "\n",
        "711000\n",
        "712000\n",
        "713000\n",
        "714000\n",
        "715000\n",
        "716000"
       ]
      },
      {
       "output_type": "stream",
       "stream": "stdout",
       "text": [
        "\n",
        "717000\n",
        "718000\n",
        "719000\n",
        "720000\n",
        "721000\n",
        "722000"
       ]
      },
      {
       "output_type": "stream",
       "stream": "stdout",
       "text": [
        "\n",
        "723000\n",
        "724000\n",
        "725000\n",
        "726000\n",
        "727000\n",
        "728000"
       ]
      },
      {
       "output_type": "stream",
       "stream": "stdout",
       "text": [
        "\n",
        "729000\n",
        "730000\n",
        "731000\n",
        "732000\n",
        "733000\n",
        "734000"
       ]
      },
      {
       "output_type": "stream",
       "stream": "stdout",
       "text": [
        "\n",
        "735000\n",
        "736000\n",
        "737000\n",
        "738000\n",
        "739000\n",
        "740000"
       ]
      },
      {
       "output_type": "stream",
       "stream": "stdout",
       "text": [
        "\n",
        "741000\n",
        "742000\n",
        "743000\n",
        "744000\n",
        "745000\n",
        "746000"
       ]
      },
      {
       "output_type": "stream",
       "stream": "stdout",
       "text": [
        "\n",
        "747000\n",
        "748000\n",
        "749000\n",
        "750000\n",
        "751000\n",
        "752000"
       ]
      },
      {
       "output_type": "stream",
       "stream": "stdout",
       "text": [
        "\n",
        "753000\n",
        "754000\n",
        "755000\n",
        "756000\n",
        "757000\n",
        "758000"
       ]
      },
      {
       "output_type": "stream",
       "stream": "stdout",
       "text": [
        "\n",
        "759000\n",
        "760000\n",
        "761000\n",
        "762000\n",
        "763000\n",
        "764000"
       ]
      },
      {
       "output_type": "stream",
       "stream": "stdout",
       "text": [
        "\n",
        "765000\n",
        "766000\n",
        "767000\n",
        "768000\n",
        "769000\n",
        "770000"
       ]
      },
      {
       "output_type": "stream",
       "stream": "stdout",
       "text": [
        "\n",
        "771000\n",
        "772000\n",
        "773000\n",
        "774000\n",
        "775000\n",
        "776000"
       ]
      },
      {
       "output_type": "stream",
       "stream": "stdout",
       "text": [
        "\n",
        "777000\n",
        "778000\n",
        "779000\n",
        "780000\n",
        "781000\n",
        "782000"
       ]
      },
      {
       "output_type": "stream",
       "stream": "stdout",
       "text": [
        "\n",
        "783000\n",
        "784000\n",
        "785000\n",
        "786000\n",
        "787000\n",
        "788000"
       ]
      },
      {
       "output_type": "stream",
       "stream": "stdout",
       "text": [
        "\n",
        "789000\n",
        "790000\n",
        "791000\n",
        "792000\n",
        "793000\n",
        "794000"
       ]
      },
      {
       "output_type": "stream",
       "stream": "stdout",
       "text": [
        "\n",
        "795000\n",
        "796000\n",
        "797000\n",
        "798000\n",
        "799000\n",
        "800000"
       ]
      },
      {
       "output_type": "stream",
       "stream": "stdout",
       "text": [
        "\n",
        "801000\n",
        "802000\n",
        "803000\n",
        "804000\n",
        "805000\n",
        "806000"
       ]
      },
      {
       "output_type": "stream",
       "stream": "stdout",
       "text": [
        "\n",
        "807000\n",
        "808000\n",
        "809000\n",
        "810000\n",
        "811000\n",
        "812000"
       ]
      },
      {
       "output_type": "stream",
       "stream": "stdout",
       "text": [
        "\n",
        "813000\n",
        "814000\n",
        "815000\n",
        "816000\n",
        "817000\n",
        "818000"
       ]
      },
      {
       "output_type": "stream",
       "stream": "stdout",
       "text": [
        "\n",
        "819000\n",
        "820000\n",
        "821000\n",
        "822000\n",
        "823000\n",
        "824000"
       ]
      },
      {
       "output_type": "stream",
       "stream": "stdout",
       "text": [
        "\n",
        "825000\n",
        "826000\n",
        "827000\n",
        "828000\n",
        "829000\n",
        "830000"
       ]
      },
      {
       "output_type": "stream",
       "stream": "stdout",
       "text": [
        "\n",
        "831000\n",
        "832000\n",
        "833000\n",
        "834000\n",
        "835000"
       ]
      },
      {
       "output_type": "stream",
       "stream": "stdout",
       "text": [
        "\n",
        "836000\n",
        "837000\n",
        "838000\n",
        "839000\n",
        "840000\n",
        "841000"
       ]
      },
      {
       "output_type": "stream",
       "stream": "stdout",
       "text": [
        "\n",
        "842000\n",
        "843000\n",
        "844000\n",
        "845000\n",
        "846000\n",
        "847000\n",
        "848000"
       ]
      },
      {
       "output_type": "stream",
       "stream": "stdout",
       "text": [
        "\n",
        "849000\n",
        "850000\n",
        "851000\n",
        "852000\n",
        "853000\n",
        "854000"
       ]
      },
      {
       "output_type": "stream",
       "stream": "stdout",
       "text": [
        "\n",
        "855000\n",
        "856000\n",
        "857000\n",
        "858000\n",
        "859000\n",
        "860000"
       ]
      },
      {
       "output_type": "stream",
       "stream": "stdout",
       "text": [
        "\n",
        "861000\n",
        "862000\n",
        "863000\n",
        "864000\n",
        "865000\n",
        "866000"
       ]
      },
      {
       "output_type": "stream",
       "stream": "stdout",
       "text": [
        "\n",
        "867000\n",
        "868000\n",
        "869000\n",
        "870000\n",
        "871000\n",
        "872000"
       ]
      },
      {
       "output_type": "stream",
       "stream": "stdout",
       "text": [
        "\n",
        "873000\n",
        "874000\n",
        "875000\n",
        "876000\n",
        "877000\n",
        "878000"
       ]
      },
      {
       "output_type": "stream",
       "stream": "stdout",
       "text": [
        "\n",
        "879000\n",
        "880000\n",
        "881000\n",
        "882000\n",
        "883000\n",
        "884000"
       ]
      },
      {
       "output_type": "stream",
       "stream": "stdout",
       "text": [
        "\n",
        "885000\n",
        "886000\n",
        "887000\n",
        "888000\n",
        "889000\n",
        "890000"
       ]
      },
      {
       "output_type": "stream",
       "stream": "stdout",
       "text": [
        "\n",
        "891000\n",
        "892000\n",
        "893000\n",
        "894000\n",
        "895000\n",
        "896000"
       ]
      },
      {
       "output_type": "stream",
       "stream": "stdout",
       "text": [
        "\n",
        "897000\n",
        "898000\n",
        "899000\n",
        "900000\n",
        "901000\n",
        "902000"
       ]
      },
      {
       "output_type": "stream",
       "stream": "stdout",
       "text": [
        "\n",
        "903000\n",
        "904000\n",
        "905000\n",
        "906000\n",
        "907000\n",
        "908000"
       ]
      },
      {
       "output_type": "stream",
       "stream": "stdout",
       "text": [
        "\n",
        "909000\n",
        "910000\n",
        "911000\n",
        "912000\n",
        "913000\n",
        "914000"
       ]
      },
      {
       "output_type": "stream",
       "stream": "stdout",
       "text": [
        "\n",
        "915000\n",
        "916000\n",
        "917000\n",
        "918000\n",
        "919000\n",
        "920000"
       ]
      },
      {
       "output_type": "stream",
       "stream": "stdout",
       "text": [
        "\n",
        "921000\n",
        "922000\n",
        "923000\n",
        "924000\n",
        "925000"
       ]
      },
      {
       "output_type": "stream",
       "stream": "stdout",
       "text": [
        "\n",
        "926000\n",
        "927000\n",
        "928000\n",
        "929000\n",
        "930000\n",
        "931000\n",
        "932000"
       ]
      },
      {
       "output_type": "stream",
       "stream": "stdout",
       "text": [
        "\n",
        "933000\n",
        "934000\n",
        "935000\n",
        "936000\n",
        "937000\n",
        "938000"
       ]
      },
      {
       "output_type": "stream",
       "stream": "stdout",
       "text": [
        "\n",
        "939000\n",
        "940000\n",
        "941000\n",
        "942000\n",
        "943000\n",
        "944000"
       ]
      },
      {
       "output_type": "stream",
       "stream": "stdout",
       "text": [
        "\n",
        "945000\n",
        "946000\n",
        "947000\n",
        "948000\n",
        "949000\n",
        "950000"
       ]
      },
      {
       "output_type": "stream",
       "stream": "stdout",
       "text": [
        "\n",
        "951000\n",
        "952000\n",
        "953000\n",
        "954000\n",
        "955000\n",
        "956000"
       ]
      },
      {
       "output_type": "stream",
       "stream": "stdout",
       "text": [
        "\n",
        "957000\n",
        "958000\n",
        "959000\n",
        "960000\n",
        "961000\n",
        "962000"
       ]
      },
      {
       "output_type": "stream",
       "stream": "stdout",
       "text": [
        "\n",
        "963000\n",
        "964000\n",
        "965000\n",
        "966000\n",
        "967000\n",
        "968000"
       ]
      },
      {
       "output_type": "stream",
       "stream": "stdout",
       "text": [
        "\n",
        "969000\n",
        "970000\n",
        "971000\n",
        "972000\n",
        "973000\n",
        "974000"
       ]
      },
      {
       "output_type": "stream",
       "stream": "stdout",
       "text": [
        "\n",
        "975000\n",
        "976000\n",
        "977000\n",
        "978000\n",
        "979000\n",
        "980000"
       ]
      },
      {
       "output_type": "stream",
       "stream": "stdout",
       "text": [
        "\n",
        "981000\n",
        "982000\n",
        "983000\n",
        "984000\n",
        "985000\n",
        "986000"
       ]
      },
      {
       "output_type": "stream",
       "stream": "stdout",
       "text": [
        "\n",
        "987000\n",
        "988000\n",
        "989000\n",
        "990000\n",
        "991000\n",
        "992000"
       ]
      },
      {
       "output_type": "stream",
       "stream": "stdout",
       "text": [
        "\n",
        "993000\n",
        "994000\n",
        "995000\n",
        "996000\n",
        "997000\n",
        "998000"
       ]
      },
      {
       "output_type": "stream",
       "stream": "stdout",
       "text": [
        "\n",
        "999000\n",
        "1000000\n",
        "1001000\n",
        "1002000\n",
        "1003000\n",
        "1004000"
       ]
      },
      {
       "output_type": "stream",
       "stream": "stdout",
       "text": [
        "\n",
        "1005000\n",
        "1006000\n",
        "1007000\n",
        "1008000\n",
        "1009000\n",
        "1010000"
       ]
      },
      {
       "output_type": "stream",
       "stream": "stdout",
       "text": [
        "\n",
        "1011000\n",
        "1012000\n",
        "1013000\n",
        "1014000\n",
        "1015000\n",
        "1016000"
       ]
      },
      {
       "output_type": "stream",
       "stream": "stdout",
       "text": [
        "\n",
        "1017000\n",
        "1018000\n",
        "1019000\n",
        "1020000\n",
        "1021000\n",
        "1022000"
       ]
      },
      {
       "output_type": "stream",
       "stream": "stdout",
       "text": [
        "\n",
        "1023000\n",
        "1024000\n",
        "1025000\n",
        "1026000\n",
        "1027000\n",
        "1028000"
       ]
      },
      {
       "output_type": "stream",
       "stream": "stdout",
       "text": [
        "\n",
        "1029000\n",
        "1030000\n",
        "1031000\n",
        "1032000\n",
        "1033000"
       ]
      },
      {
       "output_type": "stream",
       "stream": "stdout",
       "text": [
        "\n",
        "1034000\n",
        "1035000\n",
        "1036000\n",
        "1037000\n",
        "1038000\n",
        "1039000"
       ]
      },
      {
       "output_type": "stream",
       "stream": "stdout",
       "text": [
        "\n",
        "1040000\n",
        "1041000\n",
        "1042000\n",
        "1043000\n",
        "1044000\n",
        "1045000"
       ]
      },
      {
       "output_type": "stream",
       "stream": "stdout",
       "text": [
        "\n",
        "1046000\n",
        "1047000\n",
        "1048000\n",
        "1049000\n",
        "1050000\n",
        "1051000"
       ]
      },
      {
       "output_type": "stream",
       "stream": "stdout",
       "text": [
        "\n",
        "1052000\n",
        "1053000\n",
        "1054000\n",
        "1055000\n",
        "1056000\n",
        "1057000"
       ]
      },
      {
       "output_type": "stream",
       "stream": "stdout",
       "text": [
        "\n",
        "1058000\n",
        "1059000\n",
        "1060000\n",
        "1061000\n",
        "1062000\n",
        "1063000"
       ]
      },
      {
       "output_type": "stream",
       "stream": "stdout",
       "text": [
        "\n",
        "1064000\n",
        "1065000\n",
        "1066000\n",
        "1067000\n",
        "1068000\n",
        "1069000"
       ]
      },
      {
       "output_type": "stream",
       "stream": "stdout",
       "text": [
        "\n",
        "1070000\n",
        "1071000\n",
        "1072000\n",
        "1073000\n",
        "1074000\n",
        "1075000"
       ]
      },
      {
       "output_type": "stream",
       "stream": "stdout",
       "text": [
        "\n",
        "1076000\n",
        "1077000\n",
        "1078000\n",
        "1079000\n",
        "1080000\n",
        "1081000"
       ]
      },
      {
       "output_type": "stream",
       "stream": "stdout",
       "text": [
        "\n",
        "1082000\n",
        "1083000\n",
        "1084000\n",
        "1085000\n",
        "1086000\n",
        "1087000"
       ]
      },
      {
       "output_type": "stream",
       "stream": "stdout",
       "text": [
        "\n",
        "1088000\n",
        "1089000\n",
        "1090000\n",
        "1091000\n",
        "1092000\n",
        "1093000"
       ]
      },
      {
       "output_type": "stream",
       "stream": "stdout",
       "text": [
        "\n",
        "1094000\n",
        "1095000\n",
        "1096000\n",
        "1097000\n",
        "1098000\n",
        "1099000"
       ]
      },
      {
       "output_type": "stream",
       "stream": "stdout",
       "text": [
        "\n",
        "1100000\n",
        "1101000\n",
        "1102000\n",
        "1103000\n",
        "1104000\n",
        "1105000"
       ]
      },
      {
       "output_type": "stream",
       "stream": "stdout",
       "text": [
        "\n",
        "1106000\n",
        "1107000\n",
        "1108000\n",
        "1109000\n",
        "1110000\n",
        "1111000"
       ]
      },
      {
       "output_type": "stream",
       "stream": "stdout",
       "text": [
        "\n",
        "1112000\n",
        "1113000\n",
        "1114000\n",
        "1115000\n",
        "1116000\n",
        "1117000"
       ]
      },
      {
       "output_type": "stream",
       "stream": "stdout",
       "text": [
        "\n",
        "1118000\n",
        "1119000\n",
        "1120000\n",
        "1121000\n",
        "1122000\n",
        "1123000"
       ]
      },
      {
       "output_type": "stream",
       "stream": "stdout",
       "text": [
        "\n",
        "1124000\n",
        "1125000\n",
        "1126000\n",
        "1127000\n",
        "1128000"
       ]
      },
      {
       "output_type": "stream",
       "stream": "stdout",
       "text": [
        "\n",
        "1129000\n",
        "1130000\n",
        "1131000\n",
        "1132000\n",
        "1133000\n",
        "1134000"
       ]
      },
      {
       "output_type": "stream",
       "stream": "stdout",
       "text": [
        "\n",
        "1135000\n",
        "1136000\n",
        "1137000\n",
        "1138000\n",
        "1139000"
       ]
      },
      {
       "output_type": "stream",
       "stream": "stdout",
       "text": [
        "\n",
        "1140000\n",
        "1141000\n",
        "1142000\n",
        "1143000\n",
        "1144000\n",
        "1145000\n",
        "1146000"
       ]
      },
      {
       "output_type": "stream",
       "stream": "stdout",
       "text": [
        "\n",
        "1147000\n",
        "1148000\n",
        "1149000\n",
        "1150000\n",
        "1151000\n",
        "1152000"
       ]
      },
      {
       "output_type": "stream",
       "stream": "stdout",
       "text": [
        "\n",
        "1153000\n",
        "1154000\n",
        "1155000\n",
        "1156000\n",
        "1157000\n",
        "1158000"
       ]
      },
      {
       "output_type": "stream",
       "stream": "stdout",
       "text": [
        "\n",
        "1159000\n",
        "1160000\n",
        "1161000\n",
        "1162000\n",
        "1163000\n",
        "1164000"
       ]
      },
      {
       "output_type": "stream",
       "stream": "stdout",
       "text": [
        "\n",
        "1165000\n",
        "1166000\n",
        "1167000\n",
        "1168000\n",
        "1169000\n",
        "1170000"
       ]
      },
      {
       "output_type": "stream",
       "stream": "stdout",
       "text": [
        "\n",
        "1171000\n",
        "1172000\n",
        "1173000\n",
        "1174000\n",
        "1175000\n",
        "1176000"
       ]
      },
      {
       "output_type": "stream",
       "stream": "stdout",
       "text": [
        "\n",
        "1177000\n",
        "1178000\n",
        "1179000\n",
        "1180000\n",
        "1181000\n",
        "1182000"
       ]
      },
      {
       "output_type": "stream",
       "stream": "stdout",
       "text": [
        "\n",
        "1183000\n",
        "1184000\n",
        "1185000\n",
        "1186000\n",
        "1187000\n",
        "1188000"
       ]
      },
      {
       "output_type": "stream",
       "stream": "stdout",
       "text": [
        "\n",
        "1189000\n",
        "1190000\n",
        "1191000\n",
        "1192000\n",
        "1193000\n",
        "1194000"
       ]
      },
      {
       "output_type": "stream",
       "stream": "stdout",
       "text": [
        "\n",
        "1195000\n",
        "1196000\n",
        "1197000\n",
        "1198000\n",
        "1199000\n",
        "1200000"
       ]
      },
      {
       "output_type": "stream",
       "stream": "stdout",
       "text": [
        "\n",
        "1201000\n",
        "1202000\n",
        "1203000\n",
        "1204000\n",
        "1205000\n",
        "1206000"
       ]
      },
      {
       "output_type": "stream",
       "stream": "stdout",
       "text": [
        "\n",
        "1207000\n",
        "1208000\n",
        "1209000\n",
        "1210000\n",
        "1211000\n",
        "1212000"
       ]
      },
      {
       "output_type": "stream",
       "stream": "stdout",
       "text": [
        "\n",
        "1213000\n",
        "1214000\n",
        "1215000\n",
        "1216000\n",
        "1217000\n",
        "1218000"
       ]
      },
      {
       "output_type": "stream",
       "stream": "stdout",
       "text": [
        "\n",
        "1219000\n",
        "1220000\n",
        "1221000\n",
        "1222000\n",
        "1223000\n",
        "1224000"
       ]
      },
      {
       "output_type": "stream",
       "stream": "stdout",
       "text": [
        "\n",
        "1225000\n",
        "1226000\n",
        "1227000\n",
        "1228000\n",
        "1229000\n",
        "1230000"
       ]
      },
      {
       "output_type": "stream",
       "stream": "stdout",
       "text": [
        "\n",
        "1231000\n",
        "1232000\n",
        "1233000\n",
        "1234000\n",
        "1235000\n",
        "1236000"
       ]
      },
      {
       "output_type": "stream",
       "stream": "stdout",
       "text": [
        "\n",
        "1237000\n",
        "1238000\n",
        "1239000\n",
        "1240000\n",
        "1241000\n",
        "1242000"
       ]
      },
      {
       "output_type": "stream",
       "stream": "stdout",
       "text": [
        "\n",
        "1243000\n",
        "1244000\n",
        "1245000\n",
        "1246000\n",
        "1247000\n",
        "1248000"
       ]
      },
      {
       "output_type": "stream",
       "stream": "stdout",
       "text": [
        "\n",
        "1249000\n",
        "1250000\n",
        "1251000\n",
        "1252000\n",
        "1253000\n",
        "1254000"
       ]
      },
      {
       "output_type": "stream",
       "stream": "stdout",
       "text": [
        "\n",
        "1255000\n",
        "1256000\n",
        "1257000\n",
        "1258000\n",
        "1259000\n",
        "1260000"
       ]
      },
      {
       "output_type": "stream",
       "stream": "stdout",
       "text": [
        "\n",
        "1261000\n",
        "1262000\n",
        "1263000\n",
        "1264000\n",
        "1265000\n",
        "1266000"
       ]
      },
      {
       "output_type": "stream",
       "stream": "stdout",
       "text": [
        "\n",
        "1267000\n",
        "1268000\n",
        "1269000\n",
        "1270000\n",
        "1271000\n",
        "1272000"
       ]
      },
      {
       "output_type": "stream",
       "stream": "stdout",
       "text": [
        "\n",
        "1273000\n",
        "1274000\n",
        "1275000\n",
        "1276000\n",
        "1277000"
       ]
      },
      {
       "output_type": "stream",
       "stream": "stdout",
       "text": [
        "\n",
        "1278000\n",
        "1279000\n",
        "1280000\n",
        "1281000\n",
        "1282000\n",
        "1283000"
       ]
      },
      {
       "output_type": "stream",
       "stream": "stdout",
       "text": [
        "\n",
        "1284000\n",
        "1285000\n",
        "1286000\n",
        "1287000\n",
        "1288000\n",
        "1289000"
       ]
      },
      {
       "output_type": "stream",
       "stream": "stdout",
       "text": [
        "\n",
        "1290000\n",
        "1291000\n",
        "1292000\n",
        "1293000\n",
        "1294000\n",
        "1295000"
       ]
      },
      {
       "output_type": "stream",
       "stream": "stdout",
       "text": [
        "\n",
        "1296000\n",
        "1297000\n",
        "1298000\n",
        "1299000\n",
        "1300000\n",
        "1301000"
       ]
      },
      {
       "output_type": "stream",
       "stream": "stdout",
       "text": [
        "\n",
        "1302000\n",
        "1303000\n",
        "1304000\n",
        "1305000\n",
        "1306000\n",
        "1307000"
       ]
      },
      {
       "output_type": "stream",
       "stream": "stdout",
       "text": [
        "\n",
        "1308000\n",
        "1309000\n",
        "1310000\n",
        "1311000\n",
        "1312000\n",
        "1313000"
       ]
      },
      {
       "output_type": "stream",
       "stream": "stdout",
       "text": [
        "\n",
        "1314000\n",
        "1315000\n",
        "1316000\n",
        "1317000\n",
        "1318000\n",
        "1319000"
       ]
      },
      {
       "output_type": "stream",
       "stream": "stdout",
       "text": [
        "\n",
        "1320000\n",
        "1321000\n",
        "1322000\n",
        "1323000\n",
        "1324000\n",
        "1325000"
       ]
      },
      {
       "output_type": "stream",
       "stream": "stdout",
       "text": [
        "\n",
        "1326000\n",
        "1327000\n",
        "1328000\n",
        "1329000\n",
        "1330000\n",
        "1331000"
       ]
      },
      {
       "output_type": "stream",
       "stream": "stdout",
       "text": [
        "\n",
        "1332000\n",
        "1333000\n",
        "1334000\n",
        "1335000\n",
        "1336000\n",
        "1337000"
       ]
      },
      {
       "output_type": "stream",
       "stream": "stdout",
       "text": [
        "\n",
        "1338000\n",
        "1339000\n",
        "1340000\n",
        "1341000\n",
        "1342000\n",
        "1343000"
       ]
      },
      {
       "output_type": "stream",
       "stream": "stdout",
       "text": [
        "\n",
        "1344000\n",
        "1345000\n",
        "1346000\n",
        "1347000\n",
        "1348000"
       ]
      },
      {
       "output_type": "stream",
       "stream": "stdout",
       "text": [
        "\n",
        "1349000\n",
        "1350000\n",
        "1351000\n",
        "1352000"
       ]
      },
      {
       "output_type": "stream",
       "stream": "stdout",
       "text": [
        "\n",
        "1353000\n",
        "1354000\n",
        "1355000\n",
        "1356000"
       ]
      },
      {
       "output_type": "stream",
       "stream": "stdout",
       "text": [
        "\n",
        "1357000\n",
        "1358000\n",
        "1359000\n",
        "1360000\n",
        "1361000\n",
        "1362000"
       ]
      },
      {
       "output_type": "stream",
       "stream": "stdout",
       "text": [
        "\n",
        "1363000\n",
        "1364000\n",
        "1365000\n",
        "1366000\n",
        "1367000\n",
        "1368000"
       ]
      },
      {
       "output_type": "stream",
       "stream": "stdout",
       "text": [
        "\n",
        "1369000\n",
        "1370000\n",
        "1371000"
       ]
      },
      {
       "output_type": "stream",
       "stream": "stdout",
       "text": [
        "\n",
        "1372000\n",
        "1373000\n",
        "1374000\n",
        "1375000\n",
        "1376000\n",
        "1377000"
       ]
      },
      {
       "output_type": "stream",
       "stream": "stdout",
       "text": [
        "\n",
        "1378000\n",
        "1379000\n",
        "1380000\n",
        "1381000\n",
        "1382000"
       ]
      },
      {
       "output_type": "stream",
       "stream": "stdout",
       "text": [
        "\n",
        "1383000\n",
        "1384000\n",
        "1385000\n",
        "1386000"
       ]
      },
      {
       "output_type": "stream",
       "stream": "stdout",
       "text": [
        "\n",
        "1387000\n",
        "1388000\n",
        "1389000\n",
        "1390000\n",
        "1391000\n",
        "1392000"
       ]
      },
      {
       "output_type": "stream",
       "stream": "stdout",
       "text": [
        "\n",
        "1393000\n",
        "1394000\n",
        "1395000"
       ]
      },
      {
       "output_type": "stream",
       "stream": "stdout",
       "text": [
        "\n",
        "1396000\n",
        "1397000\n",
        "1398000\n",
        "1399000\n",
        "1400000"
       ]
      },
      {
       "output_type": "stream",
       "stream": "stdout",
       "text": [
        "\n",
        "1401000\n",
        "1402000\n",
        "1403000\n",
        "1404000\n",
        "1405000\n",
        "1406000"
       ]
      },
      {
       "output_type": "stream",
       "stream": "stdout",
       "text": [
        "\n",
        "1407000\n",
        "1408000\n",
        "1409000\n",
        "1410000\n",
        "1411000"
       ]
      },
      {
       "output_type": "stream",
       "stream": "stdout",
       "text": [
        "\n",
        "1412000\n",
        "1413000\n",
        "1414000\n",
        "1415000\n",
        "1416000\n",
        "1417000"
       ]
      },
      {
       "output_type": "stream",
       "stream": "stdout",
       "text": [
        "\n",
        "1418000\n",
        "1419000\n",
        "1420000\n",
        "1421000\n",
        "1422000\n",
        "1423000"
       ]
      },
      {
       "output_type": "stream",
       "stream": "stdout",
       "text": [
        "\n",
        "1424000\n",
        "1425000\n",
        "1426000"
       ]
      },
      {
       "output_type": "stream",
       "stream": "stdout",
       "text": [
        "\n",
        "1427000\n",
        "1428000\n",
        "1429000\n",
        "1430000\n",
        "1431000\n",
        "1432000"
       ]
      },
      {
       "output_type": "stream",
       "stream": "stdout",
       "text": [
        "\n",
        "1433000\n",
        "1434000\n",
        "1435000\n",
        "1436000\n",
        "1437000"
       ]
      },
      {
       "output_type": "stream",
       "stream": "stdout",
       "text": [
        "\n",
        "1438000\n",
        "1439000\n",
        "1440000\n",
        "1441000\n",
        "1442000"
       ]
      },
      {
       "output_type": "stream",
       "stream": "stdout",
       "text": [
        "\n",
        "1443000\n",
        "1444000\n",
        "1445000\n",
        "1446000\n",
        "1447000\n",
        "1448000"
       ]
      },
      {
       "output_type": "stream",
       "stream": "stdout",
       "text": [
        "\n",
        "1449000\n",
        "1450000\n",
        "1451000\n",
        "1452000\n",
        "1453000\n",
        "1454000"
       ]
      },
      {
       "output_type": "stream",
       "stream": "stdout",
       "text": [
        "\n",
        "1455000\n",
        "1456000\n",
        "1457000"
       ]
      },
      {
       "output_type": "stream",
       "stream": "stdout",
       "text": [
        "\n",
        "1458000\n",
        "1459000\n",
        "1460000\n",
        "1461000\n",
        "1462000"
       ]
      },
      {
       "output_type": "stream",
       "stream": "stdout",
       "text": [
        "\n",
        "1463000\n",
        "1464000\n",
        "1465000\n",
        "1466000\n",
        "1467000"
       ]
      },
      {
       "output_type": "stream",
       "stream": "stdout",
       "text": [
        "\n",
        "1468000\n",
        "1469000\n",
        "1470000\n",
        "1471000\n",
        "1472000\n",
        "1473000"
       ]
      },
      {
       "output_type": "stream",
       "stream": "stdout",
       "text": [
        "\n",
        "1474000\n",
        "1475000\n",
        "1476000\n",
        "1477000\n",
        "1478000"
       ]
      },
      {
       "output_type": "stream",
       "stream": "stdout",
       "text": [
        "\n",
        "1479000\n",
        "1480000\n",
        "1481000\n",
        "1482000\n",
        "1483000\n",
        "1484000"
       ]
      },
      {
       "output_type": "stream",
       "stream": "stdout",
       "text": [
        "\n",
        "1485000\n",
        "1486000\n",
        "1487000\n",
        "1488000\n",
        "1489000\n",
        "1490000"
       ]
      },
      {
       "output_type": "stream",
       "stream": "stdout",
       "text": [
        "\n",
        "1491000\n",
        "1492000\n",
        "1493000\n",
        "1494000\n",
        "1495000\n",
        "1496000"
       ]
      },
      {
       "output_type": "stream",
       "stream": "stdout",
       "text": [
        "\n",
        "1497000\n",
        "1498000\n",
        "1499000\n",
        "1500000\n",
        "1501000\n",
        "1502000"
       ]
      },
      {
       "output_type": "stream",
       "stream": "stdout",
       "text": [
        "\n",
        "1503000\n",
        "1504000\n",
        "1505000\n",
        "1506000\n",
        "1507000\n",
        "1508000"
       ]
      },
      {
       "output_type": "stream",
       "stream": "stdout",
       "text": [
        "\n",
        "1509000\n",
        "1510000\n",
        "1511000\n",
        "1512000\n",
        "1513000\n",
        "1514000"
       ]
      },
      {
       "output_type": "stream",
       "stream": "stdout",
       "text": [
        "\n",
        "1515000\n",
        "1516000\n",
        "1517000\n",
        "1518000\n",
        "1519000"
       ]
      },
      {
       "output_type": "stream",
       "stream": "stdout",
       "text": [
        "\n",
        "1520000\n",
        "1521000\n",
        "1522000\n",
        "1523000\n",
        "1524000\n",
        "1525000"
       ]
      },
      {
       "output_type": "stream",
       "stream": "stdout",
       "text": [
        "\n",
        "1526000\n",
        "1527000"
       ]
      },
      {
       "output_type": "stream",
       "stream": "stdout",
       "text": [
        "\n",
        "1528000\n",
        "1529000\n",
        "1530000\n",
        "1531000\n",
        "1532000\n",
        "1533000"
       ]
      },
      {
       "output_type": "stream",
       "stream": "stdout",
       "text": [
        "\n",
        "1534000\n",
        "1535000\n",
        "1536000"
       ]
      },
      {
       "output_type": "stream",
       "stream": "stdout",
       "text": [
        "\n",
        "1537000\n",
        "1538000\n",
        "1539000\n",
        "1540000\n",
        "1541000"
       ]
      },
      {
       "output_type": "stream",
       "stream": "stdout",
       "text": [
        "\n",
        "1542000\n",
        "1543000\n",
        "1544000\n",
        "1545000"
       ]
      },
      {
       "output_type": "stream",
       "stream": "stdout",
       "text": [
        "\n",
        "1546000\n",
        "1547000\n",
        "1548000\n",
        "1549000"
       ]
      },
      {
       "output_type": "stream",
       "stream": "stdout",
       "text": [
        "\n",
        "1550000"
       ]
      },
      {
       "output_type": "stream",
       "stream": "stdout",
       "text": [
        "\n",
        "1551000\n",
        "1552000\n",
        "1553000\n",
        "1554000"
       ]
      },
      {
       "output_type": "stream",
       "stream": "stdout",
       "text": [
        "\n",
        "1555000\n",
        "1556000\n",
        "1557000\n",
        "1558000\n",
        "1559000"
       ]
      },
      {
       "output_type": "stream",
       "stream": "stdout",
       "text": [
        "\n",
        "1560000"
       ]
      },
      {
       "output_type": "stream",
       "stream": "stdout",
       "text": [
        "\n",
        "1561000\n",
        "1562000\n",
        "1563000"
       ]
      },
      {
       "output_type": "stream",
       "stream": "stdout",
       "text": [
        "\n",
        "1564000"
       ]
      },
      {
       "output_type": "stream",
       "stream": "stdout",
       "text": [
        "\n",
        "1565000\n",
        "1566000\n",
        "1567000"
       ]
      },
      {
       "output_type": "stream",
       "stream": "stdout",
       "text": [
        "\n",
        "1568000\n",
        "1569000\n",
        "1570000\n",
        "1571000\n",
        "1572000\n",
        "1573000"
       ]
      },
      {
       "output_type": "stream",
       "stream": "stdout",
       "text": [
        "\n",
        "1574000\n",
        "1575000\n",
        "1576000\n",
        "1577000\n",
        "1578000\n",
        "1579000"
       ]
      },
      {
       "output_type": "stream",
       "stream": "stdout",
       "text": [
        "\n",
        "1580000\n",
        "1581000\n",
        "1582000\n",
        "1583000\n",
        "1584000"
       ]
      },
      {
       "output_type": "stream",
       "stream": "stdout",
       "text": [
        "\n",
        "1585000\n",
        "1586000\n",
        "1587000\n",
        "1588000\n",
        "1589000\n",
        "1590000"
       ]
      },
      {
       "output_type": "stream",
       "stream": "stdout",
       "text": [
        "\n",
        "1591000\n",
        "1592000\n",
        "1593000"
       ]
      },
      {
       "output_type": "stream",
       "stream": "stdout",
       "text": [
        "\n",
        "1594000\n",
        "1595000\n",
        "1596000\n",
        "1597000\n",
        "1598000\n",
        "1599000"
       ]
      },
      {
       "output_type": "stream",
       "stream": "stdout",
       "text": [
        "\n",
        "1600000\n",
        "1601000\n",
        "1602000"
       ]
      },
      {
       "output_type": "stream",
       "stream": "stdout",
       "text": [
        "\n",
        "1603000\n",
        "1604000\n",
        "1605000\n",
        "1606000\n",
        "1607000\n",
        "1608000"
       ]
      },
      {
       "output_type": "stream",
       "stream": "stdout",
       "text": [
        "\n",
        "1609000\n",
        "1610000\n",
        "1611000\n",
        "1612000"
       ]
      },
      {
       "output_type": "stream",
       "stream": "stdout",
       "text": [
        "\n",
        "1613000\n",
        "1614000\n",
        "1615000\n",
        "1616000\n",
        "1617000"
       ]
      },
      {
       "output_type": "stream",
       "stream": "stdout",
       "text": [
        "\n",
        "1618000\n",
        "1619000\n",
        "1620000\n",
        "1621000\n",
        "1622000\n",
        "1623000"
       ]
      },
      {
       "output_type": "stream",
       "stream": "stdout",
       "text": [
        "\n",
        "1624000\n",
        "1625000"
       ]
      },
      {
       "output_type": "stream",
       "stream": "stdout",
       "text": [
        "\n",
        "1626000\n",
        "1627000\n",
        "1628000\n",
        "1629000\n",
        "1630000"
       ]
      },
      {
       "output_type": "stream",
       "stream": "stdout",
       "text": [
        "\n",
        "1631000\n",
        "1632000\n",
        "1633000\n",
        "1634000\n",
        "1635000\n",
        "1636000"
       ]
      },
      {
       "output_type": "stream",
       "stream": "stdout",
       "text": [
        "\n",
        "1637000\n",
        "1638000\n",
        "1639000\n",
        "1640000\n",
        "1641000\n",
        "1642000"
       ]
      },
      {
       "output_type": "stream",
       "stream": "stdout",
       "text": [
        "\n",
        "1643000\n",
        "1644000\n",
        "1645000\n",
        "1646000\n",
        "1647000\n",
        "1648000"
       ]
      },
      {
       "output_type": "stream",
       "stream": "stdout",
       "text": [
        "\n",
        "1649000\n",
        "1650000\n",
        "1651000\n",
        "1652000"
       ]
      },
      {
       "output_type": "stream",
       "stream": "stdout",
       "text": [
        "\n",
        "1653000\n",
        "1654000\n",
        "1655000\n",
        "1656000\n",
        "1657000"
       ]
      },
      {
       "output_type": "stream",
       "stream": "stdout",
       "text": [
        "\n",
        "1658000\n",
        "1659000\n",
        "1660000\n",
        "1661000"
       ]
      },
      {
       "output_type": "stream",
       "stream": "stdout",
       "text": [
        "\n",
        "1662000\n",
        "1663000\n",
        "1664000"
       ]
      },
      {
       "output_type": "stream",
       "stream": "stdout",
       "text": [
        "\n",
        "1665000\n",
        "1666000\n",
        "1667000\n",
        "1668000\n",
        "1669000"
       ]
      },
      {
       "output_type": "stream",
       "stream": "stdout",
       "text": [
        "\n",
        "1670000\n",
        "1671000\n",
        "1672000\n",
        "1673000\n",
        "1674000\n",
        "1675000"
       ]
      },
      {
       "output_type": "stream",
       "stream": "stdout",
       "text": [
        "\n",
        "1676000\n",
        "1677000\n",
        "1678000\n",
        "1679000\n",
        "1680000\n",
        "1681000"
       ]
      },
      {
       "output_type": "stream",
       "stream": "stdout",
       "text": [
        "\n",
        "1682000\n",
        "1683000\n",
        "1684000\n",
        "1685000"
       ]
      },
      {
       "output_type": "stream",
       "stream": "stdout",
       "text": [
        "\n",
        "1686000\n",
        "1687000\n",
        "1688000\n",
        "1689000\n",
        "1690000\n",
        "1691000"
       ]
      },
      {
       "output_type": "stream",
       "stream": "stdout",
       "text": [
        "\n",
        "1692000\n",
        "1693000\n",
        "1694000\n",
        "1695000\n",
        "1696000"
       ]
      },
      {
       "output_type": "stream",
       "stream": "stdout",
       "text": [
        "\n",
        "1697000\n",
        "1698000\n",
        "1699000\n",
        "1700000\n",
        "1701000\n",
        "1702000"
       ]
      },
      {
       "output_type": "stream",
       "stream": "stdout",
       "text": [
        "\n",
        "1703000\n",
        "1704000\n",
        "1705000"
       ]
      },
      {
       "output_type": "stream",
       "stream": "stdout",
       "text": [
        "\n",
        "1706000\n",
        "1707000\n",
        "1708000\n",
        "1709000\n",
        "1710000"
       ]
      },
      {
       "output_type": "stream",
       "stream": "stdout",
       "text": [
        "\n",
        "1711000\n",
        "1712000\n",
        "1713000\n",
        "1714000\n",
        "1715000\n",
        "1716000"
       ]
      },
      {
       "output_type": "stream",
       "stream": "stdout",
       "text": [
        "\n",
        "1717000\n",
        "1718000\n",
        "1719000\n",
        "1720000"
       ]
      },
      {
       "output_type": "stream",
       "stream": "stdout",
       "text": [
        "\n",
        "1721000\n",
        "1722000\n",
        "1723000\n",
        "1724000\n",
        "1725000"
       ]
      },
      {
       "output_type": "stream",
       "stream": "stdout",
       "text": [
        "\n",
        "1726000\n",
        "1727000\n",
        "1728000\n",
        "1729000"
       ]
      },
      {
       "output_type": "stream",
       "stream": "stdout",
       "text": [
        "\n",
        "1730000\n",
        "1731000\n",
        "1732000\n",
        "1733000\n",
        "1734000\n",
        "1735000"
       ]
      },
      {
       "output_type": "stream",
       "stream": "stdout",
       "text": [
        "\n",
        "1736000\n",
        "1737000\n",
        "1738000"
       ]
      },
      {
       "output_type": "stream",
       "stream": "stdout",
       "text": [
        "\n",
        "1739000\n",
        "1740000\n",
        "1741000\n",
        "1742000"
       ]
      },
      {
       "output_type": "stream",
       "stream": "stdout",
       "text": [
        "\n",
        "1743000\n",
        "1744000\n",
        "1745000\n",
        "1746000\n",
        "1747000\n",
        "1748000"
       ]
      },
      {
       "output_type": "stream",
       "stream": "stdout",
       "text": [
        "\n",
        "1749000\n",
        "1750000\n",
        "1751000\n",
        "1752000"
       ]
      },
      {
       "output_type": "stream",
       "stream": "stdout",
       "text": [
        "\n",
        "1753000\n",
        "1754000\n",
        "1755000"
       ]
      },
      {
       "output_type": "stream",
       "stream": "stdout",
       "text": [
        "\n",
        "1756000\n",
        "1757000\n",
        "1758000\n",
        "1759000\n",
        "1760000\n",
        "1761000"
       ]
      },
      {
       "output_type": "stream",
       "stream": "stdout",
       "text": [
        "\n",
        "1762000\n",
        "1763000\n",
        "1764000"
       ]
      },
      {
       "output_type": "stream",
       "stream": "stdout",
       "text": [
        "\n",
        "1765000\n",
        "1766000\n",
        "1767000\n",
        "1768000\n",
        "1769000\n",
        "1770000"
       ]
      },
      {
       "output_type": "stream",
       "stream": "stdout",
       "text": [
        "\n",
        "1771000\n",
        "1772000\n",
        "1773000\n",
        "1774000"
       ]
      },
      {
       "output_type": "stream",
       "stream": "stdout",
       "text": [
        "\n",
        "1775000\n",
        "1776000\n",
        "1777000\n",
        "1778000\n",
        "1779000\n",
        "1780000"
       ]
      },
      {
       "output_type": "stream",
       "stream": "stdout",
       "text": [
        "\n",
        "1781000\n",
        "1782000\n",
        "1783000\n",
        "1784000\n",
        "1785000\n",
        "1786000"
       ]
      },
      {
       "output_type": "stream",
       "stream": "stdout",
       "text": [
        "\n",
        "1787000\n",
        "1788000\n",
        "1789000\n",
        "1790000\n",
        "1791000"
       ]
      },
      {
       "output_type": "stream",
       "stream": "stdout",
       "text": [
        "\n",
        "1792000\n",
        "1793000\n",
        "1794000\n",
        "1795000"
       ]
      },
      {
       "output_type": "stream",
       "stream": "stdout",
       "text": [
        "\n",
        "1796000\n",
        "1797000\n",
        "1798000\n",
        "1799000\n",
        "1800000"
       ]
      },
      {
       "output_type": "stream",
       "stream": "stdout",
       "text": [
        "\n",
        "1801000\n",
        "1802000\n",
        "1803000\n",
        "1804000\n",
        "1805000\n",
        "1806000"
       ]
      },
      {
       "output_type": "stream",
       "stream": "stdout",
       "text": [
        "\n",
        "1807000\n",
        "1808000\n",
        "1809000"
       ]
      },
      {
       "output_type": "stream",
       "stream": "stdout",
       "text": [
        "\n",
        "1810000\n",
        "1811000\n",
        "1812000\n",
        "1813000\n",
        "1814000\n",
        "1815000"
       ]
      },
      {
       "output_type": "stream",
       "stream": "stdout",
       "text": [
        "\n",
        "1816000\n",
        "1817000\n",
        "1818000\n",
        "1819000\n",
        "1820000"
       ]
      },
      {
       "output_type": "stream",
       "stream": "stdout",
       "text": [
        "\n",
        "1821000\n",
        "1822000"
       ]
      },
      {
       "output_type": "stream",
       "stream": "stdout",
       "text": [
        "\n",
        "1823000\n",
        "1824000\n",
        "1825000\n",
        "1826000\n",
        "1827000"
       ]
      },
      {
       "output_type": "stream",
       "stream": "stdout",
       "text": [
        "\n",
        "1828000\n",
        "1829000\n",
        "1830000\n",
        "1831000"
       ]
      },
      {
       "output_type": "stream",
       "stream": "stdout",
       "text": [
        "\n",
        "1832000\n",
        "1833000\n",
        "1834000\n",
        "1835000\n",
        "1836000\n",
        "1837000"
       ]
      },
      {
       "output_type": "stream",
       "stream": "stdout",
       "text": [
        "\n",
        "1838000\n",
        "1839000\n",
        "1840000\n",
        "1841000\n",
        "1842000"
       ]
      },
      {
       "output_type": "stream",
       "stream": "stdout",
       "text": [
        "\n",
        "1843000\n",
        "1844000\n",
        "1845000\n",
        "1846000\n",
        "1847000\n",
        "1848000"
       ]
      },
      {
       "output_type": "stream",
       "stream": "stdout",
       "text": [
        "\n",
        "1849000\n",
        "1850000"
       ]
      },
      {
       "output_type": "stream",
       "stream": "stdout",
       "text": [
        "\n",
        "1851000\n",
        "1852000\n",
        "1853000\n",
        "1854000\n",
        "1855000\n",
        "1856000"
       ]
      },
      {
       "output_type": "stream",
       "stream": "stdout",
       "text": [
        "\n",
        "1857000\n",
        "1858000"
       ]
      },
      {
       "output_type": "stream",
       "stream": "stdout",
       "text": [
        "\n",
        "1859000\n",
        "1860000\n",
        "1861000\n",
        "1862000"
       ]
      },
      {
       "output_type": "stream",
       "stream": "stdout",
       "text": [
        "\n",
        "1863000\n",
        "1864000\n",
        "1865000\n",
        "1866000\n",
        "1867000"
       ]
      },
      {
       "output_type": "stream",
       "stream": "stdout",
       "text": [
        "\n",
        "1868000\n",
        "1869000\n",
        "1870000"
       ]
      },
      {
       "output_type": "stream",
       "stream": "stdout",
       "text": [
        "\n",
        "1871000\n",
        "1872000\n",
        "1873000\n",
        "1874000\n",
        "1875000\n",
        "1876000"
       ]
      },
      {
       "output_type": "stream",
       "stream": "stdout",
       "text": [
        "\n",
        "1877000\n",
        "1878000\n",
        "1879000\n",
        "1880000"
       ]
      },
      {
       "output_type": "stream",
       "stream": "stdout",
       "text": [
        "\n",
        "1881000\n",
        "1882000\n",
        "1883000\n",
        "1884000\n",
        "1885000\n",
        "1886000"
       ]
      },
      {
       "output_type": "stream",
       "stream": "stdout",
       "text": [
        "\n",
        "1887000\n",
        "1888000\n",
        "1889000\n",
        "1890000\n",
        "1891000"
       ]
      },
      {
       "output_type": "stream",
       "stream": "stdout",
       "text": [
        "\n",
        "1892000\n",
        "1893000\n",
        "1894000\n",
        "1895000\n",
        "1896000\n",
        "1897000"
       ]
      },
      {
       "output_type": "stream",
       "stream": "stdout",
       "text": [
        "\n",
        "1898000\n",
        "1899000\n",
        "1900000\n",
        "1901000\n",
        "1902000"
       ]
      },
      {
       "output_type": "stream",
       "stream": "stdout",
       "text": [
        "\n",
        "1903000\n",
        "1904000\n",
        "1905000\n",
        "1906000"
       ]
      },
      {
       "output_type": "stream",
       "stream": "stdout",
       "text": [
        "\n",
        "1907000\n",
        "1908000\n",
        "1909000\n",
        "1910000\n",
        "1911000"
       ]
      },
      {
       "output_type": "stream",
       "stream": "stdout",
       "text": [
        "\n",
        "1912000"
       ]
      },
      {
       "output_type": "stream",
       "stream": "stdout",
       "text": [
        "\n",
        "1913000\n",
        "1914000\n",
        "1915000\n",
        "1916000\n",
        "1917000"
       ]
      },
      {
       "output_type": "stream",
       "stream": "stdout",
       "text": [
        "\n",
        "1918000\n",
        "1919000\n",
        "1920000\n",
        "1921000\n",
        "1922000"
       ]
      },
      {
       "output_type": "stream",
       "stream": "stdout",
       "text": [
        "\n",
        "1923000\n",
        "1924000\n",
        "1925000\n",
        "1926000\n",
        "1927000"
       ]
      },
      {
       "output_type": "stream",
       "stream": "stdout",
       "text": [
        "\n",
        "1928000\n",
        "1929000\n",
        "1930000\n",
        "1931000\n",
        "1932000\n",
        "1933000"
       ]
      },
      {
       "output_type": "stream",
       "stream": "stdout",
       "text": [
        "\n",
        "1934000\n",
        "1935000\n",
        "1936000\n",
        "1937000"
       ]
      },
      {
       "output_type": "stream",
       "stream": "stdout",
       "text": [
        "\n",
        "1938000\n",
        "1939000\n",
        "1940000\n",
        "1941000\n",
        "1942000\n",
        "1943000"
       ]
      },
      {
       "output_type": "stream",
       "stream": "stdout",
       "text": [
        "\n",
        "1944000\n",
        "1945000\n",
        "1946000\n",
        "1947000"
       ]
      },
      {
       "output_type": "stream",
       "stream": "stdout",
       "text": [
        "\n",
        "1948000\n",
        "1949000\n",
        "1950000\n",
        "1951000\n",
        "1952000"
       ]
      },
      {
       "output_type": "stream",
       "stream": "stdout",
       "text": [
        "\n",
        "1953000\n",
        "1954000\n",
        "1955000\n",
        "1956000\n",
        "1957000"
       ]
      },
      {
       "output_type": "stream",
       "stream": "stdout",
       "text": [
        "\n",
        "1958000\n",
        "1959000\n",
        "1960000\n",
        "1961000\n",
        "1962000\n",
        "1963000"
       ]
      },
      {
       "output_type": "stream",
       "stream": "stdout",
       "text": [
        "\n",
        "1964000\n",
        "1965000\n",
        "1966000\n",
        "1967000\n",
        "1968000"
       ]
      },
      {
       "output_type": "stream",
       "stream": "stdout",
       "text": [
        "\n",
        "1969000\n",
        "1970000\n",
        "1971000\n",
        "1972000\n",
        "1973000"
       ]
      },
      {
       "output_type": "stream",
       "stream": "stdout",
       "text": [
        "\n",
        "1974000\n",
        "1975000\n",
        "1976000\n",
        "1977000\n",
        "1978000"
       ]
      },
      {
       "output_type": "stream",
       "stream": "stdout",
       "text": [
        "\n",
        "1979000"
       ]
      },
      {
       "output_type": "stream",
       "stream": "stdout",
       "text": [
        "\n",
        "1980000\n",
        "1981000\n",
        "1982000\n",
        "1983000\n",
        "1984000\n",
        "1985000"
       ]
      },
      {
       "output_type": "stream",
       "stream": "stdout",
       "text": [
        "\n",
        "1986000\n",
        "1987000\n",
        "1988000\n",
        "1989000\n",
        "1990000"
       ]
      },
      {
       "output_type": "stream",
       "stream": "stdout",
       "text": [
        "\n",
        "1991000\n",
        "1992000\n",
        "1993000\n",
        "1994000\n",
        "1995000\n",
        "1996000"
       ]
      },
      {
       "output_type": "stream",
       "stream": "stdout",
       "text": [
        "\n",
        "1997000\n",
        "1998000"
       ]
      },
      {
       "output_type": "stream",
       "stream": "stdout",
       "text": [
        "\n",
        "1999000\n",
        "2000000\n",
        "2001000\n",
        "2002000\n",
        "2003000"
       ]
      },
      {
       "output_type": "stream",
       "stream": "stdout",
       "text": [
        "\n",
        "2004000\n",
        "2005000\n",
        "2006000\n",
        "2007000"
       ]
      },
      {
       "output_type": "stream",
       "stream": "stdout",
       "text": [
        "\n",
        "2008000\n",
        "2009000"
       ]
      },
      {
       "output_type": "stream",
       "stream": "stdout",
       "text": [
        "\n",
        "2010000"
       ]
      },
      {
       "output_type": "stream",
       "stream": "stdout",
       "text": [
        "\n",
        "2011000\n",
        "2012000\n",
        "2013000"
       ]
      },
      {
       "output_type": "stream",
       "stream": "stdout",
       "text": [
        "\n",
        "2014000\n",
        "2015000\n",
        "2016000\n",
        "2017000\n",
        "2018000"
       ]
      },
      {
       "output_type": "stream",
       "stream": "stdout",
       "text": [
        "\n",
        "2019000\n",
        "2020000\n",
        "2021000\n",
        "2022000\n",
        "2023000\n",
        "2024000"
       ]
      },
      {
       "output_type": "stream",
       "stream": "stdout",
       "text": [
        "\n",
        "2025000\n",
        "2026000\n",
        "2027000\n",
        "2028000\n",
        "2029000\n",
        "2030000"
       ]
      },
      {
       "output_type": "stream",
       "stream": "stdout",
       "text": [
        "\n",
        "2031000\n",
        "2032000\n",
        "2033000\n",
        "2034000"
       ]
      },
      {
       "output_type": "stream",
       "stream": "stdout",
       "text": [
        "\n",
        "2035000\n",
        "2036000\n",
        "2037000\n",
        "2038000"
       ]
      },
      {
       "output_type": "stream",
       "stream": "stdout",
       "text": [
        "\n",
        "2039000\n",
        "2040000\n",
        "2041000\n",
        "2042000\n",
        "2043000"
       ]
      },
      {
       "output_type": "stream",
       "stream": "stdout",
       "text": [
        "\n",
        "2044000\n",
        "2045000\n",
        "2046000\n",
        "2047000\n",
        "2048000"
       ]
      },
      {
       "output_type": "stream",
       "stream": "stdout",
       "text": [
        "\n",
        "2049000\n",
        "2050000\n",
        "2051000\n",
        "2052000\n",
        "2053000\n",
        "2054000"
       ]
      },
      {
       "output_type": "stream",
       "stream": "stdout",
       "text": [
        "\n",
        "2055000\n",
        "2056000\n",
        "2057000\n",
        "2058000\n",
        "2059000\n",
        "2060000"
       ]
      },
      {
       "output_type": "stream",
       "stream": "stdout",
       "text": [
        "\n",
        "2061000\n",
        "2062000\n",
        "2063000\n",
        "2064000\n",
        "2065000\n",
        "2066000"
       ]
      },
      {
       "output_type": "stream",
       "stream": "stdout",
       "text": [
        "\n",
        "2067000\n",
        "2068000\n",
        "2069000"
       ]
      },
      {
       "output_type": "stream",
       "stream": "stdout",
       "text": [
        "\n",
        "2070000\n",
        "2071000\n",
        "2072000\n",
        "2073000\n",
        "2074000\n",
        "2075000"
       ]
      },
      {
       "output_type": "stream",
       "stream": "stdout",
       "text": [
        "\n",
        "2076000\n",
        "2077000\n",
        "2078000\n",
        "2079000\n",
        "2080000"
       ]
      },
      {
       "output_type": "stream",
       "stream": "stdout",
       "text": [
        "\n",
        "2081000\n",
        "2082000\n",
        "2083000"
       ]
      },
      {
       "output_type": "stream",
       "stream": "stdout",
       "text": [
        "\n",
        "2084000\n",
        "2085000\n",
        "2086000\n",
        "2087000\n",
        "2088000"
       ]
      },
      {
       "output_type": "stream",
       "stream": "stdout",
       "text": [
        "\n",
        "2089000\n",
        "2090000\n",
        "2091000"
       ]
      },
      {
       "output_type": "stream",
       "stream": "stdout",
       "text": [
        "\n",
        "2092000\n",
        "2093000\n",
        "2094000\n",
        "2095000\n",
        "2096000\n",
        "2097000"
       ]
      },
      {
       "output_type": "stream",
       "stream": "stdout",
       "text": [
        "\n",
        "2098000\n",
        "2099000\n",
        "2100000\n",
        "2101000\n",
        "2102000"
       ]
      },
      {
       "output_type": "stream",
       "stream": "stdout",
       "text": [
        "\n",
        "2103000\n",
        "2104000\n",
        "2105000\n",
        "2106000\n",
        "2107000"
       ]
      },
      {
       "output_type": "stream",
       "stream": "stdout",
       "text": [
        "\n",
        "2108000\n",
        "2109000\n",
        "2110000\n",
        "2111000\n",
        "2112000\n",
        "2113000"
       ]
      },
      {
       "output_type": "stream",
       "stream": "stdout",
       "text": [
        "\n",
        "2114000\n",
        "2115000\n",
        "2116000\n",
        "2117000\n",
        "2118000\n",
        "2119000"
       ]
      },
      {
       "output_type": "stream",
       "stream": "stdout",
       "text": [
        "\n",
        "2120000\n",
        "2121000\n",
        "2122000\n",
        "2123000\n",
        "2124000"
       ]
      },
      {
       "output_type": "stream",
       "stream": "stdout",
       "text": [
        "\n",
        "2125000\n",
        "2126000"
       ]
      },
      {
       "output_type": "stream",
       "stream": "stdout",
       "text": [
        "\n",
        "2127000\n",
        "2128000\n",
        "2129000\n",
        "2130000\n",
        "2131000\n",
        "2132000"
       ]
      },
      {
       "output_type": "stream",
       "stream": "stdout",
       "text": [
        "\n",
        "2133000\n",
        "2134000\n",
        "2135000"
       ]
      },
      {
       "output_type": "stream",
       "stream": "stdout",
       "text": [
        "\n",
        "2136000\n",
        "2137000\n",
        "2138000\n",
        "2139000\n",
        "2140000\n",
        "2141000"
       ]
      },
      {
       "output_type": "stream",
       "stream": "stdout",
       "text": [
        "\n",
        "2142000\n",
        "2143000\n",
        "2144000\n",
        "2145000\n",
        "2146000\n",
        "2147000"
       ]
      },
      {
       "output_type": "stream",
       "stream": "stdout",
       "text": [
        "\n",
        "2148000\n",
        "2149000\n",
        "2150000\n",
        "2151000\n",
        "2152000\n",
        "2153000"
       ]
      },
      {
       "output_type": "stream",
       "stream": "stdout",
       "text": [
        "\n",
        "2154000\n",
        "2155000\n",
        "2156000\n",
        "2157000"
       ]
      },
      {
       "output_type": "stream",
       "stream": "stdout",
       "text": [
        "\n",
        "2158000\n",
        "2159000\n",
        "2160000\n",
        "2161000\n",
        "2162000"
       ]
      },
      {
       "output_type": "stream",
       "stream": "stdout",
       "text": [
        "\n",
        "2163000\n",
        "2164000\n",
        "2165000\n",
        "2166000\n",
        "2167000\n",
        "2168000"
       ]
      },
      {
       "output_type": "stream",
       "stream": "stdout",
       "text": [
        "\n",
        "2169000\n",
        "2170000\n",
        "2171000\n",
        "2172000"
       ]
      },
      {
       "output_type": "stream",
       "stream": "stdout",
       "text": [
        "\n",
        "2173000\n",
        "2174000\n",
        "2175000\n",
        "2176000\n",
        "2177000"
       ]
      },
      {
       "output_type": "stream",
       "stream": "stdout",
       "text": [
        "\n",
        "2178000\n",
        "2179000\n",
        "2180000\n",
        "2181000\n",
        "2182000\n",
        "2183000"
       ]
      },
      {
       "output_type": "stream",
       "stream": "stdout",
       "text": [
        "\n",
        "2184000\n",
        "2185000\n",
        "2186000"
       ]
      },
      {
       "output_type": "stream",
       "stream": "stdout",
       "text": [
        "\n",
        "2187000\n",
        "2188000\n",
        "2189000\n",
        "2190000\n",
        "2191000\n",
        "2192000"
       ]
      },
      {
       "output_type": "stream",
       "stream": "stdout",
       "text": [
        "\n",
        "2193000\n",
        "2194000\n",
        "2195000\n",
        "2196000\n",
        "2197000"
       ]
      },
      {
       "output_type": "stream",
       "stream": "stdout",
       "text": [
        "\n",
        "2198000\n",
        "2199000\n",
        "2200000"
       ]
      },
      {
       "output_type": "stream",
       "stream": "stdout",
       "text": [
        "\n",
        "2201000\n",
        "2202000\n",
        "2203000"
       ]
      },
      {
       "output_type": "stream",
       "stream": "stdout",
       "text": [
        "\n",
        "2204000\n",
        "2205000\n",
        "2206000"
       ]
      },
      {
       "output_type": "stream",
       "stream": "stdout",
       "text": [
        "\n",
        "2207000\n",
        "2208000\n",
        "2209000\n",
        "2210000"
       ]
      },
      {
       "output_type": "stream",
       "stream": "stdout",
       "text": [
        "\n",
        "2211000\n",
        "2212000\n",
        "2213000\n",
        "2214000\n",
        "2215000"
       ]
      },
      {
       "output_type": "stream",
       "stream": "stdout",
       "text": [
        "\n",
        "2216000\n",
        "2217000\n",
        "2218000\n",
        "2219000"
       ]
      },
      {
       "output_type": "stream",
       "stream": "stdout",
       "text": [
        "\n",
        "2220000\n",
        "2221000"
       ]
      },
      {
       "output_type": "stream",
       "stream": "stdout",
       "text": [
        "\n",
        "2222000\n",
        "2223000\n",
        "2224000"
       ]
      },
      {
       "output_type": "stream",
       "stream": "stdout",
       "text": [
        "\n",
        "2225000\n",
        "2226000"
       ]
      },
      {
       "output_type": "stream",
       "stream": "stdout",
       "text": [
        "\n",
        "2227000\n",
        "2228000\n",
        "2229000"
       ]
      },
      {
       "output_type": "stream",
       "stream": "stdout",
       "text": [
        "\n",
        "2230000\n",
        "2231000\n",
        "2232000"
       ]
      },
      {
       "output_type": "stream",
       "stream": "stdout",
       "text": [
        "\n",
        "2233000\n",
        "2234000\n",
        "2235000"
       ]
      },
      {
       "output_type": "stream",
       "stream": "stdout",
       "text": [
        "\n",
        "2236000\n",
        "2237000"
       ]
      },
      {
       "output_type": "stream",
       "stream": "stdout",
       "text": [
        "\n",
        "2238000\n",
        "2239000\n",
        "2240000\n",
        "2241000\n",
        "2242000"
       ]
      },
      {
       "output_type": "stream",
       "stream": "stdout",
       "text": [
        "\n",
        "2243000\n",
        "2244000\n",
        "2245000\n",
        "2246000\n",
        "2247000\n",
        "2248000"
       ]
      },
      {
       "output_type": "stream",
       "stream": "stdout",
       "text": [
        "\n",
        "2249000\n",
        "2250000\n",
        "2251000\n",
        "2252000\n",
        "2253000\n",
        "2254000"
       ]
      },
      {
       "output_type": "stream",
       "stream": "stdout",
       "text": [
        "\n",
        "2255000\n",
        "2256000\n",
        "2257000\n",
        "2258000\n",
        "2259000\n",
        "2260000"
       ]
      },
      {
       "output_type": "stream",
       "stream": "stdout",
       "text": [
        "\n",
        "2261000\n",
        "2262000\n",
        "2263000"
       ]
      },
      {
       "output_type": "stream",
       "stream": "stdout",
       "text": [
        "\n",
        "2264000\n",
        "2265000\n",
        "2266000\n",
        "2267000\n",
        "2268000\n",
        "2269000"
       ]
      },
      {
       "output_type": "stream",
       "stream": "stdout",
       "text": [
        "\n",
        "2270000\n",
        "2271000\n",
        "2272000"
       ]
      },
      {
       "output_type": "stream",
       "stream": "stdout",
       "text": [
        "\n",
        "2273000\n",
        "2274000\n",
        "2275000"
       ]
      },
      {
       "output_type": "stream",
       "stream": "stdout",
       "text": [
        "\n",
        "2276000\n",
        "2277000\n",
        "2278000"
       ]
      },
      {
       "output_type": "stream",
       "stream": "stdout",
       "text": [
        "\n",
        "2279000\n",
        "2280000\n",
        "2281000"
       ]
      },
      {
       "output_type": "stream",
       "stream": "stdout",
       "text": [
        "\n",
        "2282000\n",
        "2283000"
       ]
      },
      {
       "output_type": "stream",
       "stream": "stdout",
       "text": [
        "\n",
        "2284000\n",
        "2285000"
       ]
      },
      {
       "output_type": "stream",
       "stream": "stdout",
       "text": [
        "\n",
        "2286000\n",
        "2287000\n",
        "2288000"
       ]
      },
      {
       "output_type": "stream",
       "stream": "stdout",
       "text": [
        "\n",
        "2289000\n",
        "2290000"
       ]
      },
      {
       "output_type": "stream",
       "stream": "stdout",
       "text": [
        "\n",
        "2291000\n",
        "2292000\n",
        "2293000"
       ]
      },
      {
       "output_type": "stream",
       "stream": "stdout",
       "text": [
        "\n",
        "2294000\n",
        "2295000\n",
        "2296000"
       ]
      },
      {
       "output_type": "stream",
       "stream": "stdout",
       "text": [
        "\n",
        "2297000\n",
        "2298000"
       ]
      },
      {
       "output_type": "stream",
       "stream": "stdout",
       "text": [
        "\n",
        "2299000\n",
        "2300000\n",
        "2301000"
       ]
      },
      {
       "output_type": "stream",
       "stream": "stdout",
       "text": [
        "\n",
        "2302000\n",
        "2303000\n",
        "2304000"
       ]
      },
      {
       "output_type": "stream",
       "stream": "stdout",
       "text": [
        "\n",
        "2305000\n",
        "2306000\n",
        "2307000"
       ]
      },
      {
       "output_type": "stream",
       "stream": "stdout",
       "text": [
        "\n",
        "2308000\n",
        "2309000\n",
        "2310000\n",
        "2311000\n",
        "2312000\n",
        "2313000"
       ]
      },
      {
       "output_type": "stream",
       "stream": "stdout",
       "text": [
        "\n",
        "2314000\n",
        "2315000\n",
        "2316000\n",
        "2317000\n",
        "2318000\n",
        "2319000"
       ]
      },
      {
       "output_type": "stream",
       "stream": "stdout",
       "text": [
        "\n",
        "2320000\n",
        "2321000\n",
        "2322000\n",
        "2323000\n",
        "2324000\n",
        "2325000"
       ]
      },
      {
       "output_type": "stream",
       "stream": "stdout",
       "text": [
        "\n",
        "2326000\n",
        "2327000\n",
        "2328000\n",
        "2329000\n",
        "2330000\n",
        "2331000"
       ]
      },
      {
       "output_type": "stream",
       "stream": "stdout",
       "text": [
        "\n",
        "2332000\n",
        "2333000\n",
        "2334000\n",
        "2335000\n",
        "2336000\n",
        "2337000"
       ]
      },
      {
       "output_type": "stream",
       "stream": "stdout",
       "text": [
        "\n",
        "2338000\n",
        "2339000\n",
        "2340000\n",
        "2341000"
       ]
      },
      {
       "output_type": "stream",
       "stream": "stdout",
       "text": [
        "\n",
        "2342000\n",
        "2343000\n",
        "2344000"
       ]
      },
      {
       "output_type": "stream",
       "stream": "stdout",
       "text": [
        "\n",
        "2345000\n",
        "2346000\n",
        "2347000"
       ]
      },
      {
       "output_type": "stream",
       "stream": "stdout",
       "text": [
        "\n",
        "2348000\n",
        "2349000\n",
        "2350000"
       ]
      },
      {
       "output_type": "stream",
       "stream": "stdout",
       "text": [
        "\n",
        "2351000\n",
        "2352000"
       ]
      },
      {
       "output_type": "stream",
       "stream": "stdout",
       "text": [
        "\n",
        "2353000\n",
        "2354000\n",
        "2355000"
       ]
      },
      {
       "output_type": "stream",
       "stream": "stdout",
       "text": [
        "\n",
        "2356000\n",
        "2357000"
       ]
      },
      {
       "output_type": "stream",
       "stream": "stdout",
       "text": [
        "\n",
        "2358000\n",
        "2359000\n",
        "2360000"
       ]
      },
      {
       "output_type": "stream",
       "stream": "stdout",
       "text": [
        "\n",
        "2361000\n",
        "2362000\n",
        "2363000"
       ]
      },
      {
       "output_type": "stream",
       "stream": "stdout",
       "text": [
        "\n",
        "2364000\n",
        "2365000"
       ]
      },
      {
       "output_type": "stream",
       "stream": "stdout",
       "text": [
        "\n",
        "2366000\n",
        "2367000\n",
        "2368000"
       ]
      },
      {
       "output_type": "stream",
       "stream": "stdout",
       "text": [
        "\n",
        "2369000\n",
        "2370000"
       ]
      },
      {
       "output_type": "stream",
       "stream": "stdout",
       "text": [
        "\n",
        "2371000\n",
        "2372000\n",
        "2373000"
       ]
      },
      {
       "output_type": "stream",
       "stream": "stdout",
       "text": [
        "\n",
        "2374000\n",
        "2375000\n",
        "2376000"
       ]
      },
      {
       "output_type": "stream",
       "stream": "stdout",
       "text": [
        "\n",
        "2377000\n",
        "2378000\n",
        "2379000"
       ]
      },
      {
       "output_type": "stream",
       "stream": "stdout",
       "text": [
        "\n",
        "2380000\n",
        "2381000\n",
        "2382000"
       ]
      },
      {
       "output_type": "stream",
       "stream": "stdout",
       "text": [
        "\n",
        "2383000\n",
        "2384000\n",
        "2385000"
       ]
      },
      {
       "output_type": "stream",
       "stream": "stdout",
       "text": [
        "\n",
        "2386000\n",
        "2387000"
       ]
      },
      {
       "output_type": "stream",
       "stream": "stdout",
       "text": [
        "\n",
        "2388000\n",
        "2389000\n",
        "2390000"
       ]
      },
      {
       "output_type": "stream",
       "stream": "stdout",
       "text": [
        "\n",
        "2391000\n",
        "2392000"
       ]
      },
      {
       "output_type": "stream",
       "stream": "stdout",
       "text": [
        "\n",
        "2393000\n",
        "2394000\n",
        "2395000"
       ]
      },
      {
       "output_type": "stream",
       "stream": "stdout",
       "text": [
        "\n",
        "2396000\n",
        "2397000"
       ]
      },
      {
       "output_type": "stream",
       "stream": "stdout",
       "text": [
        "\n",
        "2398000\n",
        "2399000\n",
        "2400000\n",
        "2401000"
       ]
      },
      {
       "output_type": "stream",
       "stream": "stdout",
       "text": [
        "\n",
        "2402000\n",
        "2403000\n",
        "2404000\n",
        "2405000\n",
        "2406000\n",
        "2407000"
       ]
      },
      {
       "output_type": "stream",
       "stream": "stdout",
       "text": [
        "\n",
        "2408000\n",
        "2409000\n",
        "2410000\n",
        "2411000\n",
        "2412000\n",
        "2413000"
       ]
      },
      {
       "output_type": "stream",
       "stream": "stdout",
       "text": [
        "\n",
        "2414000\n",
        "2415000\n",
        "2416000"
       ]
      },
      {
       "output_type": "stream",
       "stream": "stdout",
       "text": [
        "\n",
        "2417000\n",
        "2418000\n",
        "2419000\n",
        "2420000\n",
        "2421000\n",
        "2422000"
       ]
      },
      {
       "output_type": "stream",
       "stream": "stdout",
       "text": [
        "\n",
        "2423000\n",
        "2424000"
       ]
      },
      {
       "output_type": "stream",
       "stream": "stdout",
       "text": [
        "\n",
        "2425000\n",
        "2426000\n",
        "2427000"
       ]
      },
      {
       "output_type": "stream",
       "stream": "stdout",
       "text": [
        "\n",
        "2428000\n",
        "2429000\n",
        "2430000"
       ]
      },
      {
       "output_type": "stream",
       "stream": "stdout",
       "text": [
        "\n",
        "2431000\n",
        "2432000\n",
        "2433000\n",
        "2434000"
       ]
      },
      {
       "output_type": "stream",
       "stream": "stdout",
       "text": [
        "\n",
        "2435000\n",
        "2436000\n",
        "2437000\n",
        "2438000\n",
        "2439000"
       ]
      },
      {
       "output_type": "stream",
       "stream": "stdout",
       "text": [
        "\n",
        "2440000\n",
        "2441000\n",
        "2442000\n",
        "2443000\n",
        "2444000\n",
        "2445000"
       ]
      },
      {
       "output_type": "stream",
       "stream": "stdout",
       "text": [
        "\n",
        "2446000\n",
        "2447000\n",
        "2448000\n",
        "2449000\n",
        "2450000\n",
        "2451000"
       ]
      },
      {
       "output_type": "stream",
       "stream": "stdout",
       "text": [
        "\n",
        "2452000\n",
        "2453000\n",
        "2454000\n",
        "2455000\n",
        "2456000\n",
        "2457000"
       ]
      },
      {
       "output_type": "stream",
       "stream": "stdout",
       "text": [
        "\n",
        "2458000"
       ]
      },
      {
       "output_type": "stream",
       "stream": "stdout",
       "text": [
        "\n",
        "2459000\n",
        "2460000\n",
        "2461000\n",
        "2462000\n",
        "2463000\n",
        "2464000"
       ]
      },
      {
       "output_type": "stream",
       "stream": "stdout",
       "text": [
        "\n",
        "2465000\n",
        "2466000\n",
        "2467000\n",
        "2468000"
       ]
      },
      {
       "output_type": "stream",
       "stream": "stdout",
       "text": [
        "\n",
        "2469000\n",
        "2470000"
       ]
      },
      {
       "output_type": "stream",
       "stream": "stdout",
       "text": [
        "\n",
        "2471000\n",
        "2472000\n",
        "2473000"
       ]
      },
      {
       "output_type": "stream",
       "stream": "stdout",
       "text": [
        "\n",
        "2474000\n",
        "2475000"
       ]
      },
      {
       "output_type": "stream",
       "stream": "stdout",
       "text": [
        "\n",
        "2476000"
       ]
      },
      {
       "output_type": "stream",
       "stream": "stdout",
       "text": [
        "\n",
        "2477000\n",
        "2478000"
       ]
      },
      {
       "output_type": "stream",
       "stream": "stdout",
       "text": [
        "\n",
        "2479000\n",
        "2480000"
       ]
      },
      {
       "output_type": "stream",
       "stream": "stdout",
       "text": [
        "\n",
        "2481000\n",
        "2482000\n",
        "2483000\n",
        "2484000\n",
        "2485000\n",
        "2486000"
       ]
      },
      {
       "output_type": "stream",
       "stream": "stdout",
       "text": [
        "\n",
        "2487000\n",
        "2488000\n",
        "2489000\n",
        "2490000\n",
        "2491000\n",
        "2492000"
       ]
      },
      {
       "output_type": "stream",
       "stream": "stdout",
       "text": [
        "\n",
        "2493000\n",
        "2494000\n",
        "2495000\n",
        "2496000\n",
        "2497000\n",
        "2498000"
       ]
      },
      {
       "output_type": "stream",
       "stream": "stdout",
       "text": [
        "\n",
        "2499000\n",
        "2500000\n",
        "2501000\n",
        "2502000"
       ]
      },
      {
       "output_type": "stream",
       "stream": "stdout",
       "text": [
        "\n",
        "2503000\n",
        "2504000\n",
        "2505000\n",
        "2506000\n",
        "2507000\n",
        "2508000"
       ]
      },
      {
       "output_type": "stream",
       "stream": "stdout",
       "text": [
        "\n",
        "2509000\n",
        "2510000\n",
        "2511000\n",
        "2512000\n",
        "2513000\n",
        "2514000"
       ]
      },
      {
       "output_type": "stream",
       "stream": "stdout",
       "text": [
        "\n",
        "2515000\n",
        "2516000\n",
        "2517000"
       ]
      },
      {
       "output_type": "stream",
       "stream": "stdout",
       "text": [
        "\n",
        "2518000\n",
        "2519000\n",
        "2520000\n",
        "2521000\n",
        "2522000\n",
        "2523000"
       ]
      },
      {
       "output_type": "stream",
       "stream": "stdout",
       "text": [
        "\n",
        "2524000\n",
        "2525000"
       ]
      },
      {
       "output_type": "stream",
       "stream": "stdout",
       "text": [
        "\n",
        "2526000\n",
        "2527000"
       ]
      },
      {
       "output_type": "stream",
       "stream": "stdout",
       "text": [
        "\n",
        "2528000\n",
        "2529000\n",
        "2530000"
       ]
      },
      {
       "output_type": "stream",
       "stream": "stdout",
       "text": [
        "\n",
        "2531000\n",
        "2532000"
       ]
      },
      {
       "output_type": "stream",
       "stream": "stdout",
       "text": [
        "\n",
        "2533000\n",
        "2534000\n",
        "2535000"
       ]
      },
      {
       "output_type": "stream",
       "stream": "stdout",
       "text": [
        "\n",
        "2536000\n",
        "2537000\n",
        "2538000"
       ]
      },
      {
       "output_type": "stream",
       "stream": "stdout",
       "text": [
        "\n",
        "2539000\n",
        "2540000\n",
        "2541000"
       ]
      },
      {
       "output_type": "stream",
       "stream": "stdout",
       "text": [
        "\n",
        "2542000\n",
        "2543000\n",
        "2544000"
       ]
      },
      {
       "output_type": "stream",
       "stream": "stdout",
       "text": [
        "\n",
        "2545000\n",
        "2546000\n",
        "2547000\n",
        "2548000\n",
        "2549000\n",
        "2550000"
       ]
      },
      {
       "output_type": "stream",
       "stream": "stdout",
       "text": [
        "\n",
        "2551000\n",
        "2552000\n",
        "2553000\n",
        "2554000\n",
        "2555000"
       ]
      },
      {
       "output_type": "stream",
       "stream": "stdout",
       "text": [
        "\n",
        "2556000\n",
        "2557000\n",
        "2558000\n",
        "2559000\n",
        "2560000"
       ]
      },
      {
       "output_type": "stream",
       "stream": "stdout",
       "text": [
        "\n",
        "2561000\n",
        "2562000\n",
        "2563000\n",
        "2564000\n",
        "2565000\n",
        "2566000"
       ]
      },
      {
       "output_type": "stream",
       "stream": "stdout",
       "text": [
        "\n",
        "2567000\n",
        "2568000\n",
        "2569000\n",
        "2570000\n",
        "2571000\n",
        "2572000"
       ]
      },
      {
       "output_type": "stream",
       "stream": "stdout",
       "text": [
        "\n",
        "2573000\n",
        "2574000\n",
        "2575000\n",
        "2576000\n",
        "2577000\n",
        "2578000"
       ]
      },
      {
       "output_type": "stream",
       "stream": "stdout",
       "text": [
        "\n",
        "2579000\n",
        "2580000"
       ]
      },
      {
       "output_type": "stream",
       "stream": "stdout",
       "text": [
        "\n",
        "2581000\n",
        "2582000\n",
        "2583000\n",
        "2584000\n",
        "2585000"
       ]
      },
      {
       "output_type": "stream",
       "stream": "stdout",
       "text": [
        "\n",
        "2586000\n",
        "2587000\n",
        "2588000\n",
        "2589000\n",
        "2590000"
       ]
      },
      {
       "output_type": "stream",
       "stream": "stdout",
       "text": [
        "\n",
        "2591000\n",
        "2592000"
       ]
      },
      {
       "output_type": "stream",
       "stream": "stdout",
       "text": [
        "\n",
        "2593000\n",
        "2594000\n",
        "2595000\n",
        "2596000\n",
        "2597000"
       ]
      },
      {
       "output_type": "stream",
       "stream": "stdout",
       "text": [
        "\n",
        "2598000\n",
        "2599000\n",
        "2600000\n",
        "2601000\n",
        "2602000\n",
        "2603000"
       ]
      },
      {
       "output_type": "stream",
       "stream": "stdout",
       "text": [
        "\n",
        "2604000\n",
        "2605000\n",
        "2606000\n",
        "2607000"
       ]
      },
      {
       "output_type": "stream",
       "stream": "stdout",
       "text": [
        "\n",
        "2608000\n",
        "2609000\n",
        "2610000\n",
        "2611000"
       ]
      },
      {
       "output_type": "stream",
       "stream": "stdout",
       "text": [
        "\n",
        "2612000\n",
        "2613000\n",
        "2614000\n",
        "2615000\n",
        "2616000\n",
        "2617000"
       ]
      },
      {
       "output_type": "stream",
       "stream": "stdout",
       "text": [
        "\n",
        "2618000\n",
        "2619000\n",
        "2620000\n",
        "2621000"
       ]
      },
      {
       "output_type": "stream",
       "stream": "stdout",
       "text": [
        "\n",
        "2622000\n",
        "2623000\n",
        "2624000"
       ]
      },
      {
       "output_type": "stream",
       "stream": "stdout",
       "text": [
        "\n",
        "2625000\n",
        "2626000\n",
        "2627000"
       ]
      },
      {
       "output_type": "stream",
       "stream": "stdout",
       "text": [
        "\n",
        "2628000\n",
        "2629000\n",
        "2630000"
       ]
      },
      {
       "output_type": "stream",
       "stream": "stdout",
       "text": [
        "\n",
        "2631000\n",
        "2632000\n",
        "2633000"
       ]
      },
      {
       "output_type": "stream",
       "stream": "stdout",
       "text": [
        "\n",
        "2634000\n",
        "2635000\n",
        "2636000\n",
        "2637000"
       ]
      },
      {
       "output_type": "stream",
       "stream": "stdout",
       "text": [
        "\n",
        "2638000\n",
        "2639000\n",
        "2640000\n",
        "2641000\n",
        "2642000\n",
        "2643000"
       ]
      },
      {
       "output_type": "stream",
       "stream": "stdout",
       "text": [
        "\n",
        "2644000\n",
        "2645000\n",
        "2646000\n",
        "2647000"
       ]
      },
      {
       "output_type": "stream",
       "stream": "stdout",
       "text": [
        "\n",
        "2648000\n",
        "2649000"
       ]
      },
      {
       "output_type": "stream",
       "stream": "stdout",
       "text": [
        "\n",
        "2650000\n",
        "2651000\n",
        "2652000"
       ]
      },
      {
       "output_type": "stream",
       "stream": "stdout",
       "text": [
        "\n",
        "2653000\n",
        "2654000\n",
        "2655000"
       ]
      },
      {
       "output_type": "stream",
       "stream": "stdout",
       "text": [
        "\n",
        "2656000\n",
        "2657000\n",
        "2658000"
       ]
      },
      {
       "output_type": "stream",
       "stream": "stdout",
       "text": [
        "\n",
        "2659000\n",
        "2660000\n",
        "2661000"
       ]
      },
      {
       "output_type": "stream",
       "stream": "stdout",
       "text": [
        "\n",
        "2662000\n",
        "2663000\n",
        "2664000\n",
        "2665000"
       ]
      },
      {
       "output_type": "stream",
       "stream": "stdout",
       "text": [
        "\n",
        "2666000\n",
        "2667000\n",
        "2668000\n",
        "2669000\n",
        "2670000\n",
        "2671000"
       ]
      },
      {
       "output_type": "stream",
       "stream": "stdout",
       "text": [
        "\n",
        "2672000\n",
        "2673000\n",
        "2674000\n",
        "2675000\n",
        "2676000"
       ]
      },
      {
       "output_type": "stream",
       "stream": "stdout",
       "text": [
        "\n",
        "2677000\n",
        "2678000\n",
        "2679000\n",
        "2680000\n",
        "2681000\n",
        "2682000"
       ]
      },
      {
       "output_type": "stream",
       "stream": "stdout",
       "text": [
        "\n",
        "2683000\n",
        "2684000"
       ]
      },
      {
       "output_type": "stream",
       "stream": "stdout",
       "text": [
        "\n",
        "2685000\n",
        "2686000\n",
        "2687000"
       ]
      },
      {
       "output_type": "stream",
       "stream": "stdout",
       "text": [
        "\n",
        "2688000\n",
        "2689000\n",
        "2690000\n",
        "2691000\n",
        "2692000"
       ]
      },
      {
       "output_type": "stream",
       "stream": "stdout",
       "text": [
        "\n",
        "2693000\n",
        "2694000\n",
        "2695000"
       ]
      },
      {
       "output_type": "stream",
       "stream": "stdout",
       "text": [
        "\n",
        "2696000\n",
        "2697000\n",
        "2698000\n",
        "2699000"
       ]
      },
      {
       "output_type": "stream",
       "stream": "stdout",
       "text": [
        "\n",
        "2700000\n",
        "2701000\n",
        "2702000\n",
        "2703000\n",
        "2704000\n",
        "2705000"
       ]
      },
      {
       "output_type": "stream",
       "stream": "stdout",
       "text": [
        "\n",
        "2706000\n",
        "2707000\n",
        "2708000\n",
        "2709000\n",
        "2710000\n",
        "2711000"
       ]
      },
      {
       "output_type": "stream",
       "stream": "stdout",
       "text": [
        "\n",
        "2712000\n",
        "2713000\n",
        "2714000\n",
        "2715000\n",
        "2716000\n",
        "2717000"
       ]
      },
      {
       "output_type": "stream",
       "stream": "stdout",
       "text": [
        "\n",
        "2718000\n",
        "2719000\n",
        "2720000\n",
        "2721000\n",
        "2722000\n",
        "2723000"
       ]
      },
      {
       "output_type": "stream",
       "stream": "stdout",
       "text": [
        "\n",
        "2724000\n",
        "2725000\n",
        "2726000\n",
        "2727000\n",
        "2728000\n",
        "2729000"
       ]
      },
      {
       "output_type": "stream",
       "stream": "stdout",
       "text": [
        "\n",
        "2730000\n",
        "2731000\n",
        "2732000\n",
        "2733000"
       ]
      },
      {
       "output_type": "stream",
       "stream": "stdout",
       "text": [
        "\n",
        "2734000\n",
        "2735000\n",
        "2736000\n",
        "2737000\n",
        "2738000\n",
        "2739000"
       ]
      },
      {
       "output_type": "stream",
       "stream": "stdout",
       "text": [
        "\n",
        "2740000\n",
        "2741000\n",
        "2742000\n",
        "2743000\n",
        "2744000"
       ]
      },
      {
       "output_type": "stream",
       "stream": "stdout",
       "text": [
        "\n",
        "2745000\n",
        "2746000\n",
        "2747000"
       ]
      },
      {
       "output_type": "stream",
       "stream": "stdout",
       "text": [
        "\n",
        "2748000\n",
        "2749000\n",
        "2750000\n",
        "2751000"
       ]
      },
      {
       "output_type": "stream",
       "stream": "stdout",
       "text": [
        "\n",
        "2752000\n",
        "2753000\n",
        "2754000\n",
        "2755000\n",
        "2756000\n",
        "2757000"
       ]
      },
      {
       "output_type": "stream",
       "stream": "stdout",
       "text": [
        "\n",
        "2758000\n",
        "2759000\n",
        "2760000\n",
        "2761000\n",
        "2762000"
       ]
      },
      {
       "output_type": "stream",
       "stream": "stdout",
       "text": [
        "\n",
        "2763000\n",
        "2764000\n",
        "2765000"
       ]
      },
      {
       "output_type": "stream",
       "stream": "stdout",
       "text": [
        "\n",
        "2766000\n",
        "2767000"
       ]
      },
      {
       "output_type": "stream",
       "stream": "stdout",
       "text": [
        "\n",
        "2768000\n",
        "2769000\n",
        "2770000"
       ]
      },
      {
       "output_type": "stream",
       "stream": "stdout",
       "text": [
        "\n",
        "2771000\n",
        "2772000"
       ]
      },
      {
       "output_type": "stream",
       "stream": "stdout",
       "text": [
        "\n",
        "2773000\n",
        "2774000\n",
        "2775000"
       ]
      },
      {
       "output_type": "stream",
       "stream": "stdout",
       "text": [
        "\n",
        "2776000\n",
        "2777000\n",
        "2778000"
       ]
      },
      {
       "output_type": "stream",
       "stream": "stdout",
       "text": [
        "\n",
        "2779000\n",
        "2780000"
       ]
      },
      {
       "output_type": "stream",
       "stream": "stdout",
       "text": [
        "\n",
        "2781000\n",
        "2782000\n",
        "2783000"
       ]
      },
      {
       "output_type": "stream",
       "stream": "stdout",
       "text": [
        "\n",
        "2784000\n",
        "2785000"
       ]
      },
      {
       "output_type": "stream",
       "stream": "stdout",
       "text": [
        "\n",
        "2786000\n",
        "2787000\n",
        "2788000"
       ]
      },
      {
       "output_type": "stream",
       "stream": "stdout",
       "text": [
        "\n",
        "2789000\n",
        "2790000\n",
        "2791000"
       ]
      },
      {
       "output_type": "stream",
       "stream": "stdout",
       "text": [
        "\n",
        "2792000\n",
        "2793000\n",
        "2794000"
       ]
      },
      {
       "output_type": "stream",
       "stream": "stdout",
       "text": [
        "\n",
        "2795000\n",
        "2796000\n",
        "2797000\n",
        "2798000\n",
        "2799000"
       ]
      },
      {
       "output_type": "stream",
       "stream": "stdout",
       "text": [
        "\n",
        "2800000\n",
        "2801000\n",
        "2802000\n",
        "2803000\n",
        "2804000\n",
        "2805000"
       ]
      },
      {
       "output_type": "stream",
       "stream": "stdout",
       "text": [
        "\n",
        "2806000\n",
        "2807000\n",
        "2808000\n",
        "2809000\n",
        "2810000\n",
        "2811000"
       ]
      },
      {
       "output_type": "stream",
       "stream": "stdout",
       "text": [
        "\n",
        "2812000\n",
        "2813000\n",
        "2814000"
       ]
      },
      {
       "output_type": "stream",
       "stream": "stdout",
       "text": [
        "\n",
        "2815000\n",
        "2816000\n",
        "2817000\n",
        "2818000\n",
        "2819000\n",
        "2820000"
       ]
      },
      {
       "output_type": "stream",
       "stream": "stdout",
       "text": [
        "\n",
        "2821000\n",
        "2822000\n",
        "2823000\n",
        "2824000\n",
        "2825000\n",
        "2826000"
       ]
      },
      {
       "output_type": "stream",
       "stream": "stdout",
       "text": [
        "\n",
        "2827000\n",
        "2828000\n",
        "2829000\n",
        "2830000\n",
        "2831000"
       ]
      },
      {
       "output_type": "stream",
       "stream": "stdout",
       "text": [
        "\n",
        "2832000\n",
        "2833000\n",
        "2834000\n",
        "2835000\n",
        "2836000\n",
        "2837000"
       ]
      },
      {
       "output_type": "stream",
       "stream": "stdout",
       "text": [
        "\n",
        "2838000\n",
        "2839000\n",
        "2840000\n",
        "2841000\n",
        "2842000\n",
        "2843000"
       ]
      },
      {
       "output_type": "stream",
       "stream": "stdout",
       "text": [
        "\n",
        "2844000\n",
        "2845000\n",
        "2846000\n",
        "2847000\n",
        "2848000"
       ]
      },
      {
       "output_type": "stream",
       "stream": "stdout",
       "text": [
        "\n",
        "2849000\n",
        "2850000\n",
        "2851000\n",
        "2852000\n",
        "2853000\n",
        "2854000"
       ]
      },
      {
       "output_type": "stream",
       "stream": "stdout",
       "text": [
        "\n",
        "2855000\n",
        "2856000\n",
        "2857000"
       ]
      },
      {
       "output_type": "stream",
       "stream": "stdout",
       "text": [
        "\n",
        "2858000\n",
        "2859000\n",
        "2860000\n",
        "2861000\n",
        "2862000\n",
        "2863000"
       ]
      },
      {
       "output_type": "stream",
       "stream": "stdout",
       "text": [
        "\n",
        "2864000\n",
        "2865000\n",
        "2866000\n",
        "2867000\n",
        "2868000\n",
        "2869000"
       ]
      },
      {
       "output_type": "stream",
       "stream": "stdout",
       "text": [
        "\n",
        "2870000\n",
        "2871000\n",
        "2872000\n",
        "2873000\n",
        "2874000\n",
        "2875000"
       ]
      },
      {
       "output_type": "stream",
       "stream": "stdout",
       "text": [
        "\n",
        "2876000\n",
        "2877000\n",
        "2878000\n",
        "2879000\n",
        "2880000"
       ]
      },
      {
       "output_type": "stream",
       "stream": "stdout",
       "text": [
        "\n",
        "2881000\n",
        "2882000"
       ]
      },
      {
       "output_type": "stream",
       "stream": "stdout",
       "text": [
        "\n",
        "2883000\n",
        "2884000\n",
        "2885000\n",
        "2886000\n",
        "2887000"
       ]
      },
      {
       "output_type": "stream",
       "stream": "stdout",
       "text": [
        "\n",
        "2888000\n",
        "2889000\n",
        "2890000\n",
        "2891000\n",
        "2892000\n",
        "2893000"
       ]
      },
      {
       "output_type": "stream",
       "stream": "stdout",
       "text": [
        "\n",
        "2894000\n",
        "2895000\n",
        "2896000\n",
        "2897000\n",
        "2898000\n",
        "2899000"
       ]
      },
      {
       "output_type": "stream",
       "stream": "stdout",
       "text": [
        "\n",
        "2900000\n",
        "2901000\n",
        "2902000\n",
        "2903000\n",
        "2904000\n",
        "2905000"
       ]
      },
      {
       "output_type": "stream",
       "stream": "stdout",
       "text": [
        "\n",
        "2906000\n",
        "2907000\n",
        "2908000\n",
        "2909000\n",
        "2910000"
       ]
      },
      {
       "output_type": "stream",
       "stream": "stdout",
       "text": [
        "\n",
        "2911000\n",
        "2912000\n",
        "2913000\n",
        "2914000\n",
        "2915000\n",
        "2916000"
       ]
      },
      {
       "output_type": "stream",
       "stream": "stdout",
       "text": [
        "\n",
        "2917000\n",
        "2918000\n",
        "2919000\n",
        "2920000\n",
        "2921000\n",
        "2922000"
       ]
      },
      {
       "output_type": "stream",
       "stream": "stdout",
       "text": [
        "\n",
        "2923000\n",
        "2924000\n",
        "2925000\n",
        "2926000"
       ]
      },
      {
       "output_type": "stream",
       "stream": "stdout",
       "text": [
        "\n",
        "2927000\n",
        "2928000\n",
        "2929000\n",
        "2930000"
       ]
      },
      {
       "output_type": "stream",
       "stream": "stdout",
       "text": [
        "\n",
        "2931000\n",
        "2932000\n",
        "2933000\n",
        "2934000\n",
        "2935000"
       ]
      },
      {
       "output_type": "stream",
       "stream": "stdout",
       "text": [
        "\n",
        "2936000\n",
        "2937000\n",
        "2938000\n",
        "2939000"
       ]
      },
      {
       "output_type": "stream",
       "stream": "stdout",
       "text": [
        "\n",
        "2940000\n",
        "2941000\n",
        "2942000\n",
        "2943000\n",
        "2944000\n",
        "2945000"
       ]
      },
      {
       "output_type": "stream",
       "stream": "stdout",
       "text": [
        "\n",
        "2946000\n",
        "2947000\n",
        "2948000\n",
        "2949000"
       ]
      },
      {
       "output_type": "stream",
       "stream": "stdout",
       "text": [
        "\n",
        "2950000\n",
        "2951000\n",
        "2952000\n",
        "2953000\n",
        "2954000\n",
        "2955000"
       ]
      },
      {
       "output_type": "stream",
       "stream": "stdout",
       "text": [
        "\n",
        "2956000\n",
        "2957000\n",
        "2958000\n",
        "2959000\n",
        "2960000"
       ]
      },
      {
       "output_type": "stream",
       "stream": "stdout",
       "text": [
        "\n",
        "2961000\n",
        "2962000\n",
        "2963000\n",
        "2964000\n",
        "2965000"
       ]
      },
      {
       "output_type": "stream",
       "stream": "stdout",
       "text": [
        "\n",
        "2966000\n",
        "2967000\n",
        "2968000\n",
        "2969000"
       ]
      },
      {
       "output_type": "stream",
       "stream": "stdout",
       "text": [
        "\n",
        "2970000\n",
        "2971000\n",
        "2972000\n",
        "2973000\n",
        "2974000"
       ]
      },
      {
       "output_type": "stream",
       "stream": "stdout",
       "text": [
        "\n",
        "2975000\n",
        "2976000\n",
        "2977000\n",
        "2978000"
       ]
      },
      {
       "output_type": "stream",
       "stream": "stdout",
       "text": [
        "\n",
        "2979000\n",
        "2980000\n",
        "2981000\n",
        "2982000\n",
        "2983000"
       ]
      },
      {
       "output_type": "stream",
       "stream": "stdout",
       "text": [
        "\n",
        "2984000\n",
        "2985000\n",
        "2986000"
       ]
      },
      {
       "output_type": "stream",
       "stream": "stdout",
       "text": [
        "\n",
        "2987000\n",
        "2988000\n",
        "2989000"
       ]
      },
      {
       "output_type": "stream",
       "stream": "stdout",
       "text": [
        "\n",
        "2990000\n",
        "2991000\n",
        "2992000"
       ]
      },
      {
       "output_type": "stream",
       "stream": "stdout",
       "text": [
        "\n",
        "2993000\n",
        "2994000\n",
        "2995000\n",
        "2996000\n",
        "2997000\n",
        "2998000"
       ]
      },
      {
       "output_type": "stream",
       "stream": "stdout",
       "text": [
        "\n",
        "2999000\n",
        "3000000\n",
        "3001000"
       ]
      },
      {
       "output_type": "stream",
       "stream": "stdout",
       "text": [
        "\n",
        "3002000\n",
        "3003000\n",
        "3004000\n",
        "3005000\n",
        "3006000\n",
        "3007000"
       ]
      },
      {
       "output_type": "stream",
       "stream": "stdout",
       "text": [
        "\n",
        "3008000\n",
        "3009000\n",
        "3010000\n",
        "3011000"
       ]
      },
      {
       "output_type": "stream",
       "stream": "stdout",
       "text": [
        "\n",
        "3012000\n",
        "3013000\n",
        "3014000"
       ]
      },
      {
       "output_type": "stream",
       "stream": "stdout",
       "text": [
        "\n",
        "3015000\n",
        "3016000\n",
        "3017000"
       ]
      },
      {
       "output_type": "stream",
       "stream": "stdout",
       "text": [
        "\n",
        "3018000\n",
        "3019000\n",
        "3020000"
       ]
      },
      {
       "output_type": "stream",
       "stream": "stdout",
       "text": [
        "\n",
        "3021000\n",
        "3022000\n",
        "3023000"
       ]
      },
      {
       "output_type": "stream",
       "stream": "stdout",
       "text": [
        "\n",
        "3024000\n",
        "3025000\n",
        "3026000\n",
        "3027000\n",
        "3028000\n",
        "3029000"
       ]
      },
      {
       "output_type": "stream",
       "stream": "stdout",
       "text": [
        "\n",
        "3030000\n",
        "3031000\n",
        "3032000\n",
        "3033000\n",
        "3034000\n",
        "3035000"
       ]
      },
      {
       "output_type": "stream",
       "stream": "stdout",
       "text": [
        "\n",
        "3036000\n",
        "3037000"
       ]
      },
      {
       "output_type": "stream",
       "stream": "stdout",
       "text": [
        "\n",
        "3038000\n",
        "3039000\n",
        "3040000\n",
        "3041000\n",
        "3042000\n",
        "3043000"
       ]
      },
      {
       "output_type": "stream",
       "stream": "stdout",
       "text": [
        "\n",
        "3044000\n",
        "3045000\n",
        "3046000\n",
        "3047000"
       ]
      },
      {
       "output_type": "stream",
       "stream": "stdout",
       "text": [
        "\n",
        "3048000\n",
        "3049000"
       ]
      },
      {
       "output_type": "stream",
       "stream": "stdout",
       "text": [
        "\n",
        "3050000\n",
        "3051000"
       ]
      },
      {
       "output_type": "stream",
       "stream": "stdout",
       "text": [
        "\n",
        "3052000\n",
        "3053000\n",
        "3054000"
       ]
      },
      {
       "output_type": "stream",
       "stream": "stdout",
       "text": [
        "\n",
        "3055000\n",
        "3056000\n",
        "3057000"
       ]
      },
      {
       "output_type": "stream",
       "stream": "stdout",
       "text": [
        "\n",
        "3058000\n",
        "3059000"
       ]
      },
      {
       "output_type": "stream",
       "stream": "stdout",
       "text": [
        "\n",
        "3060000\n",
        "3061000\n",
        "3062000\n",
        "3063000\n",
        "3064000"
       ]
      },
      {
       "output_type": "stream",
       "stream": "stdout",
       "text": [
        "\n",
        "3065000\n",
        "3066000\n",
        "3067000"
       ]
      },
      {
       "output_type": "stream",
       "stream": "stdout",
       "text": [
        "\n",
        "3068000\n",
        "3069000\n",
        "3070000"
       ]
      },
      {
       "output_type": "stream",
       "stream": "stdout",
       "text": [
        "\n",
        "3071000\n",
        "3072000\n",
        "3073000"
       ]
      },
      {
       "output_type": "stream",
       "stream": "stdout",
       "text": [
        "\n",
        "3074000\n",
        "3075000"
       ]
      },
      {
       "output_type": "stream",
       "stream": "stdout",
       "text": [
        "\n",
        "3076000\n",
        "3077000"
       ]
      },
      {
       "output_type": "stream",
       "stream": "stdout",
       "text": [
        "\n",
        "3078000\n",
        "3079000\n",
        "3080000"
       ]
      },
      {
       "output_type": "stream",
       "stream": "stdout",
       "text": [
        "\n",
        "3081000\n",
        "3082000\n",
        "3083000"
       ]
      },
      {
       "output_type": "stream",
       "stream": "stdout",
       "text": [
        "\n",
        "3084000\n",
        "3085000\n",
        "3086000"
       ]
      },
      {
       "output_type": "stream",
       "stream": "stdout",
       "text": [
        "\n",
        "3087000\n",
        "3088000\n",
        "3089000"
       ]
      },
      {
       "output_type": "stream",
       "stream": "stdout",
       "text": [
        "\n",
        "3090000\n",
        "3091000"
       ]
      },
      {
       "output_type": "stream",
       "stream": "stdout",
       "text": [
        "\n",
        "3092000\n",
        "3093000"
       ]
      },
      {
       "output_type": "stream",
       "stream": "stdout",
       "text": [
        "\n",
        "3094000\n",
        "3095000\n",
        "3096000"
       ]
      },
      {
       "output_type": "stream",
       "stream": "stdout",
       "text": [
        "\n",
        "3097000\n",
        "3098000\n",
        "3099000"
       ]
      },
      {
       "output_type": "stream",
       "stream": "stdout",
       "text": [
        "\n",
        "3100000\n",
        "3101000\n",
        "3102000"
       ]
      },
      {
       "output_type": "stream",
       "stream": "stdout",
       "text": [
        "\n",
        "3103000\n",
        "3104000"
       ]
      },
      {
       "output_type": "stream",
       "stream": "stdout",
       "text": [
        "\n",
        "3105000\n",
        "3106000\n",
        "3107000"
       ]
      },
      {
       "output_type": "stream",
       "stream": "stdout",
       "text": [
        "\n",
        "3108000\n",
        "3109000"
       ]
      },
      {
       "output_type": "stream",
       "stream": "stdout",
       "text": [
        "\n",
        "3110000\n",
        "3111000\n",
        "3112000"
       ]
      },
      {
       "output_type": "stream",
       "stream": "stdout",
       "text": [
        "\n",
        "3113000"
       ]
      },
      {
       "output_type": "stream",
       "stream": "stdout",
       "text": [
        "\n",
        "3114000\n",
        "3115000\n",
        "3116000"
       ]
      },
      {
       "output_type": "stream",
       "stream": "stdout",
       "text": [
        "\n",
        "3117000\n",
        "3118000\n",
        "3119000"
       ]
      },
      {
       "output_type": "stream",
       "stream": "stdout",
       "text": [
        "\n",
        "3120000\n",
        "3121000"
       ]
      },
      {
       "output_type": "stream",
       "stream": "stdout",
       "text": [
        "\n",
        "3122000\n",
        "3123000"
       ]
      },
      {
       "output_type": "stream",
       "stream": "stdout",
       "text": [
        "\n",
        "3124000\n",
        "3125000\n",
        "3126000\n",
        "3127000"
       ]
      },
      {
       "output_type": "stream",
       "stream": "stdout",
       "text": [
        "\n",
        "3128000\n",
        "3129000\n",
        "3130000\n",
        "3131000\n",
        "3132000"
       ]
      },
      {
       "output_type": "stream",
       "stream": "stdout",
       "text": [
        "\n",
        "3133000\n",
        "3134000\n",
        "3135000\n",
        "3136000"
       ]
      },
      {
       "output_type": "stream",
       "stream": "stdout",
       "text": [
        "\n",
        "3137000\n",
        "3138000\n",
        "3139000"
       ]
      },
      {
       "output_type": "stream",
       "stream": "stdout",
       "text": [
        "\n",
        "3140000\n",
        "3141000\n",
        "3142000"
       ]
      },
      {
       "output_type": "stream",
       "stream": "stdout",
       "text": [
        "\n",
        "3143000\n",
        "3144000\n",
        "3145000"
       ]
      },
      {
       "output_type": "stream",
       "stream": "stdout",
       "text": [
        "\n",
        "3146000\n",
        "3147000"
       ]
      },
      {
       "output_type": "stream",
       "stream": "stdout",
       "text": [
        "\n",
        "3148000\n",
        "3149000"
       ]
      },
      {
       "output_type": "stream",
       "stream": "stdout",
       "text": [
        "\n",
        "3150000\n",
        "3151000\n",
        "3152000\n",
        "3153000\n",
        "3154000"
       ]
      },
      {
       "output_type": "stream",
       "stream": "stdout",
       "text": [
        "\n",
        "3155000\n",
        "3156000\n",
        "3157000\n",
        "3158000\n",
        "3159000\n",
        "3160000"
       ]
      },
      {
       "output_type": "stream",
       "stream": "stdout",
       "text": [
        "\n",
        "3161000\n",
        "3162000\n",
        "3163000\n",
        "3164000"
       ]
      },
      {
       "output_type": "stream",
       "stream": "stdout",
       "text": [
        "\n",
        "3165000\n",
        "3166000\n",
        "3167000\n",
        "3168000\n",
        "3169000\n",
        "3170000"
       ]
      },
      {
       "output_type": "stream",
       "stream": "stdout",
       "text": [
        "\n",
        "3171000\n",
        "3172000\n",
        "3173000\n",
        "3174000\n",
        "3175000\n",
        "3176000"
       ]
      },
      {
       "output_type": "stream",
       "stream": "stdout",
       "text": [
        "\n",
        "3177000\n",
        "3178000\n",
        "3179000\n",
        "3180000\n",
        "3181000\n",
        "3182000"
       ]
      },
      {
       "output_type": "stream",
       "stream": "stdout",
       "text": [
        "\n",
        "3183000\n",
        "3184000\n",
        "3185000\n",
        "3186000\n",
        "3187000"
       ]
      },
      {
       "output_type": "stream",
       "stream": "stdout",
       "text": [
        "\n",
        "3188000\n",
        "3189000\n",
        "3190000\n",
        "3191000\n",
        "3192000\n",
        "3193000"
       ]
      },
      {
       "output_type": "stream",
       "stream": "stdout",
       "text": [
        "\n",
        "3194000\n",
        "3195000\n",
        "3196000\n",
        "3197000"
       ]
      },
      {
       "output_type": "stream",
       "stream": "stdout",
       "text": [
        "\n",
        "3198000\n",
        "3199000\n",
        "3200000\n",
        "3201000"
       ]
      },
      {
       "output_type": "stream",
       "stream": "stdout",
       "text": [
        "\n",
        "3202000\n",
        "3203000\n",
        "3204000"
       ]
      },
      {
       "output_type": "stream",
       "stream": "stdout",
       "text": [
        "\n",
        "3205000\n",
        "3206000\n",
        "3207000"
       ]
      },
      {
       "output_type": "stream",
       "stream": "stdout",
       "text": [
        "\n",
        "3208000\n",
        "3209000\n",
        "3210000\n",
        "3211000\n",
        "3212000"
       ]
      },
      {
       "output_type": "stream",
       "stream": "stdout",
       "text": [
        "\n",
        "3213000\n",
        "3214000\n",
        "3215000\n",
        "3216000"
       ]
      },
      {
       "output_type": "stream",
       "stream": "stdout",
       "text": [
        "\n",
        "3217000\n",
        "3218000"
       ]
      },
      {
       "output_type": "stream",
       "stream": "stdout",
       "text": [
        "\n",
        "3219000\n",
        "3220000"
       ]
      },
      {
       "output_type": "stream",
       "stream": "stdout",
       "text": [
        "\n",
        "3221000\n",
        "3222000\n",
        "3223000"
       ]
      },
      {
       "output_type": "stream",
       "stream": "stdout",
       "text": [
        "\n",
        "3224000\n",
        "3225000\n",
        "3226000"
       ]
      },
      {
       "output_type": "stream",
       "stream": "stdout",
       "text": [
        "\n",
        "3227000\n",
        "3228000\n",
        "3229000"
       ]
      },
      {
       "output_type": "stream",
       "stream": "stdout",
       "text": [
        "\n",
        "3230000\n",
        "3231000\n",
        "3232000\n",
        "3233000\n",
        "3234000\n",
        "3235000"
       ]
      },
      {
       "output_type": "stream",
       "stream": "stdout",
       "text": [
        "\n",
        "3236000\n",
        "3237000\n",
        "3238000\n",
        "3239000\n",
        "3240000\n",
        "3241000"
       ]
      },
      {
       "output_type": "stream",
       "stream": "stdout",
       "text": [
        "\n",
        "3242000\n",
        "3243000\n",
        "3244000\n",
        "3245000\n",
        "3246000\n",
        "3247000"
       ]
      },
      {
       "output_type": "stream",
       "stream": "stdout",
       "text": [
        "\n",
        "3248000\n",
        "3249000\n",
        "3250000\n",
        "3251000\n",
        "3252000"
       ]
      },
      {
       "output_type": "stream",
       "stream": "stdout",
       "text": [
        "\n",
        "3253000\n",
        "3254000\n",
        "3255000\n",
        "3256000\n",
        "3257000\n",
        "3258000"
       ]
      },
      {
       "output_type": "stream",
       "stream": "stdout",
       "text": [
        "\n",
        "3259000\n",
        "3260000\n",
        "3261000\n",
        "3262000\n",
        "3263000"
       ]
      },
      {
       "output_type": "stream",
       "stream": "stdout",
       "text": [
        "\n",
        "3264000\n",
        "3265000\n",
        "3266000\n",
        "3267000\n",
        "3268000"
       ]
      },
      {
       "output_type": "stream",
       "stream": "stdout",
       "text": [
        "\n",
        "3269000\n",
        "3270000\n",
        "3271000"
       ]
      },
      {
       "output_type": "stream",
       "stream": "stdout",
       "text": [
        "\n",
        "3272000\n",
        "3273000\n",
        "3274000"
       ]
      },
      {
       "output_type": "stream",
       "stream": "stdout",
       "text": [
        "\n",
        "3275000\n",
        "3276000\n",
        "3277000\n",
        "3278000\n",
        "3279000"
       ]
      },
      {
       "output_type": "stream",
       "stream": "stdout",
       "text": [
        "\n",
        "3280000\n",
        "3281000\n",
        "3282000\n",
        "3283000\n",
        "3284000"
       ]
      },
      {
       "output_type": "stream",
       "stream": "stdout",
       "text": [
        "\n",
        "3285000\n",
        "3286000\n",
        "3287000\n",
        "3288000\n",
        "3289000"
       ]
      },
      {
       "output_type": "stream",
       "stream": "stdout",
       "text": [
        "\n",
        "3290000\n",
        "3291000\n",
        "3292000"
       ]
      },
      {
       "output_type": "stream",
       "stream": "stdout",
       "text": [
        "\n",
        "3293000\n",
        "3294000"
       ]
      },
      {
       "output_type": "stream",
       "stream": "stdout",
       "text": [
        "\n",
        "3295000\n",
        "3296000"
       ]
      },
      {
       "output_type": "stream",
       "stream": "stdout",
       "text": [
        "\n",
        "3297000\n",
        "3298000"
       ]
      },
      {
       "output_type": "stream",
       "stream": "stdout",
       "text": [
        "\n",
        "3299000\n",
        "3300000\n",
        "3301000\n",
        "3302000\n",
        "3303000\n",
        "3304000"
       ]
      },
      {
       "output_type": "stream",
       "stream": "stdout",
       "text": [
        "\n",
        "3305000\n",
        "3306000"
       ]
      },
      {
       "output_type": "stream",
       "stream": "stdout",
       "text": [
        "\n",
        "3307000\n",
        "3308000\n",
        "3309000"
       ]
      },
      {
       "output_type": "stream",
       "stream": "stdout",
       "text": [
        "\n",
        "3310000\n",
        "3311000\n",
        "3312000\n",
        "3313000\n",
        "3314000\n",
        "3315000"
       ]
      },
      {
       "output_type": "stream",
       "stream": "stdout",
       "text": [
        "\n",
        "3316000\n",
        "3317000\n",
        "3318000\n",
        "3319000\n",
        "3320000\n",
        "3321000"
       ]
      },
      {
       "output_type": "stream",
       "stream": "stdout",
       "text": [
        "\n",
        "3322000\n",
        "3323000\n",
        "3324000\n",
        "3325000\n",
        "3326000\n",
        "3327000"
       ]
      },
      {
       "output_type": "stream",
       "stream": "stdout",
       "text": [
        "\n",
        "3328000\n",
        "3329000\n",
        "3330000\n",
        "3331000"
       ]
      },
      {
       "output_type": "stream",
       "stream": "stdout",
       "text": [
        "\n",
        "3332000\n",
        "3333000\n",
        "3334000\n",
        "3335000\n",
        "3336000"
       ]
      },
      {
       "output_type": "stream",
       "stream": "stdout",
       "text": [
        "\n",
        "3337000\n",
        "3338000\n",
        "3339000\n",
        "3340000"
       ]
      },
      {
       "output_type": "stream",
       "stream": "stdout",
       "text": [
        "\n",
        "3341000\n",
        "3342000"
       ]
      },
      {
       "output_type": "stream",
       "stream": "stdout",
       "text": [
        "\n",
        "3343000\n",
        "3344000\n",
        "3345000"
       ]
      },
      {
       "output_type": "stream",
       "stream": "stdout",
       "text": [
        "\n",
        "3346000\n",
        "3347000\n",
        "3348000\n",
        "3349000\n",
        "3350000"
       ]
      },
      {
       "output_type": "stream",
       "stream": "stdout",
       "text": [
        "\n",
        "3351000\n",
        "3352000\n",
        "3353000\n",
        "3354000\n",
        "3355000\n",
        "3356000"
       ]
      },
      {
       "output_type": "stream",
       "stream": "stdout",
       "text": [
        "\n",
        "3357000\n",
        "3358000\n",
        "3359000\n",
        "3360000\n",
        "3361000"
       ]
      },
      {
       "output_type": "stream",
       "stream": "stdout",
       "text": [
        "\n",
        "3362000\n",
        "3363000\n",
        "3364000"
       ]
      },
      {
       "output_type": "stream",
       "stream": "stdout",
       "text": [
        "\n",
        "3365000\n",
        "3366000\n",
        "3367000"
       ]
      },
      {
       "output_type": "stream",
       "stream": "stdout",
       "text": [
        "\n",
        "3368000\n",
        "3369000\n",
        "3370000"
       ]
      },
      {
       "output_type": "stream",
       "stream": "stdout",
       "text": [
        "\n",
        "3371000\n",
        "3372000\n",
        "3373000\n",
        "3374000\n",
        "3375000"
       ]
      },
      {
       "output_type": "stream",
       "stream": "stdout",
       "text": [
        "\n",
        "3376000\n",
        "3377000\n",
        "3378000\n",
        "3379000\n",
        "3380000\n",
        "3381000"
       ]
      },
      {
       "output_type": "stream",
       "stream": "stdout",
       "text": [
        "\n",
        "3382000\n",
        "3383000\n",
        "3384000\n",
        "3385000\n",
        "3386000"
       ]
      },
      {
       "output_type": "stream",
       "stream": "stdout",
       "text": [
        "\n",
        "3387000\n",
        "3388000\n",
        "3389000\n",
        "3390000\n",
        "3391000\n",
        "3392000"
       ]
      },
      {
       "output_type": "stream",
       "stream": "stdout",
       "text": [
        "\n",
        "3393000\n",
        "3394000\n",
        "3395000\n",
        "3396000\n",
        "3397000\n",
        "3398000"
       ]
      },
      {
       "output_type": "stream",
       "stream": "stdout",
       "text": [
        "\n",
        "3399000\n",
        "3400000\n",
        "3401000\n",
        "3402000\n",
        "3403000\n",
        "3404000"
       ]
      },
      {
       "output_type": "stream",
       "stream": "stdout",
       "text": [
        "\n",
        "3405000\n",
        "3406000\n",
        "3407000\n",
        "3408000\n",
        "3409000"
       ]
      },
      {
       "output_type": "stream",
       "stream": "stdout",
       "text": [
        "\n",
        "3410000\n",
        "3411000"
       ]
      },
      {
       "output_type": "stream",
       "stream": "stdout",
       "text": [
        "\n",
        "3412000\n",
        "3413000\n",
        "3414000\n",
        "3415000\n",
        "3416000\n",
        "3417000"
       ]
      },
      {
       "output_type": "stream",
       "stream": "stdout",
       "text": [
        "\n",
        "3418000\n",
        "3419000\n",
        "3420000\n",
        "3421000\n",
        "3422000"
       ]
      },
      {
       "output_type": "stream",
       "stream": "stdout",
       "text": [
        "\n",
        "3423000\n",
        "3424000\n",
        "3425000\n",
        "3426000\n",
        "3427000\n",
        "3428000"
       ]
      },
      {
       "output_type": "stream",
       "stream": "stdout",
       "text": [
        "\n",
        "3429000\n",
        "3430000\n",
        "3431000\n",
        "3432000\n",
        "3433000"
       ]
      },
      {
       "output_type": "stream",
       "stream": "stdout",
       "text": [
        "\n",
        "3434000\n",
        "3435000\n",
        "3436000\n",
        "3437000\n",
        "3438000"
       ]
      },
      {
       "output_type": "stream",
       "stream": "stdout",
       "text": [
        "\n",
        "3439000\n",
        "3440000\n",
        "3441000\n",
        "3442000\n",
        "3443000\n",
        "3444000"
       ]
      },
      {
       "output_type": "stream",
       "stream": "stdout",
       "text": [
        "\n",
        "3445000\n",
        "3446000\n",
        "3447000\n",
        "3448000\n",
        "3449000"
       ]
      },
      {
       "output_type": "stream",
       "stream": "stdout",
       "text": [
        "\n",
        "3450000\n",
        "3451000"
       ]
      },
      {
       "output_type": "stream",
       "stream": "stdout",
       "text": [
        "\n",
        "3452000\n",
        "3453000\n",
        "3454000\n",
        "3455000"
       ]
      },
      {
       "output_type": "stream",
       "stream": "stdout",
       "text": [
        "\n",
        "3456000\n",
        "3457000\n",
        "3458000\n",
        "3459000"
       ]
      },
      {
       "output_type": "stream",
       "stream": "stdout",
       "text": [
        "\n",
        "3460000\n",
        "3461000\n",
        "3462000\n",
        "3463000\n",
        "3464000"
       ]
      },
      {
       "output_type": "stream",
       "stream": "stdout",
       "text": [
        "\n",
        "3465000\n",
        "3466000"
       ]
      },
      {
       "output_type": "stream",
       "stream": "stdout",
       "text": [
        "\n",
        "3467000\n",
        "3468000\n",
        "3469000"
       ]
      },
      {
       "output_type": "stream",
       "stream": "stdout",
       "text": [
        "\n",
        "3470000\n",
        "3471000\n",
        "3472000\n",
        "3473000"
       ]
      },
      {
       "output_type": "stream",
       "stream": "stdout",
       "text": [
        "\n",
        "3474000\n",
        "3475000\n",
        "3476000"
       ]
      },
      {
       "output_type": "stream",
       "stream": "stdout",
       "text": [
        "\n",
        "3477000\n",
        "3478000\n",
        "3479000\n",
        "3480000\n",
        "3481000\n",
        "3482000"
       ]
      },
      {
       "output_type": "stream",
       "stream": "stdout",
       "text": [
        "\n",
        "3483000\n",
        "3484000\n",
        "3485000"
       ]
      },
      {
       "output_type": "stream",
       "stream": "stdout",
       "text": [
        "\n",
        "3486000\n",
        "3487000\n",
        "3488000"
       ]
      },
      {
       "output_type": "stream",
       "stream": "stdout",
       "text": [
        "\n",
        "3489000\n",
        "3490000"
       ]
      },
      {
       "output_type": "stream",
       "stream": "stdout",
       "text": [
        "\n",
        "3491000\n",
        "3492000\n",
        "3493000"
       ]
      },
      {
       "output_type": "stream",
       "stream": "stdout",
       "text": [
        "\n",
        "3494000\n",
        "3495000"
       ]
      },
      {
       "output_type": "stream",
       "stream": "stdout",
       "text": [
        "\n",
        "3496000\n",
        "3497000\n",
        "3498000"
       ]
      },
      {
       "output_type": "stream",
       "stream": "stdout",
       "text": [
        "\n",
        "3499000\n",
        "3500000\n",
        "3501000"
       ]
      },
      {
       "output_type": "stream",
       "stream": "stdout",
       "text": [
        "\n",
        "3502000\n",
        "3503000\n",
        "3504000"
       ]
      },
      {
       "output_type": "stream",
       "stream": "stdout",
       "text": [
        "\n",
        "3505000\n",
        "3506000\n",
        "3507000"
       ]
      },
      {
       "output_type": "stream",
       "stream": "stdout",
       "text": [
        "\n",
        "3508000\n",
        "3509000\n",
        "3510000"
       ]
      },
      {
       "output_type": "stream",
       "stream": "stdout",
       "text": [
        "\n",
        "3511000\n",
        "3512000\n",
        "3513000"
       ]
      },
      {
       "output_type": "stream",
       "stream": "stdout",
       "text": [
        "\n",
        "3514000\n",
        "3515000\n",
        "3516000\n",
        "3517000\n",
        "3518000\n",
        "3519000"
       ]
      },
      {
       "output_type": "stream",
       "stream": "stdout",
       "text": [
        "\n",
        "3520000\n",
        "3521000\n",
        "3522000"
       ]
      },
      {
       "output_type": "stream",
       "stream": "stdout",
       "text": [
        "\n",
        "3523000\n",
        "3524000\n",
        "3525000"
       ]
      },
      {
       "output_type": "stream",
       "stream": "stdout",
       "text": [
        "\n",
        "3526000\n",
        "3527000"
       ]
      },
      {
       "output_type": "stream",
       "stream": "stdout",
       "text": [
        "\n",
        "3528000\n",
        "3529000\n",
        "3530000"
       ]
      },
      {
       "output_type": "stream",
       "stream": "stdout",
       "text": [
        "\n",
        "3531000\n",
        "3532000"
       ]
      },
      {
       "output_type": "stream",
       "stream": "stdout",
       "text": [
        "\n",
        "3533000\n",
        "3534000\n",
        "3535000"
       ]
      },
      {
       "output_type": "stream",
       "stream": "stdout",
       "text": [
        "\n",
        "3536000\n",
        "3537000\n",
        "3538000"
       ]
      },
      {
       "output_type": "stream",
       "stream": "stdout",
       "text": [
        "\n",
        "3539000\n",
        "3540000"
       ]
      },
      {
       "output_type": "stream",
       "stream": "stdout",
       "text": [
        "\n",
        "3541000\n",
        "3542000\n",
        "3543000"
       ]
      },
      {
       "output_type": "stream",
       "stream": "stdout",
       "text": [
        "\n",
        "3544000\n",
        "3545000\n",
        "3546000\n",
        "3547000\n",
        "3548000"
       ]
      },
      {
       "output_type": "stream",
       "stream": "stdout",
       "text": [
        "\n",
        "3549000\n",
        "3550000\n",
        "3551000\n",
        "3552000\n",
        "3553000\n",
        "3554000"
       ]
      },
      {
       "output_type": "stream",
       "stream": "stdout",
       "text": [
        "\n",
        "3555000\n",
        "3556000\n",
        "3557000"
       ]
      },
      {
       "output_type": "stream",
       "stream": "stdout",
       "text": [
        "\n",
        "3558000\n",
        "3559000\n",
        "3560000"
       ]
      },
      {
       "output_type": "stream",
       "stream": "stdout",
       "text": [
        "\n",
        "3561000\n",
        "3562000\n",
        "3563000"
       ]
      },
      {
       "output_type": "stream",
       "stream": "stdout",
       "text": [
        "\n",
        "3564000\n",
        "3565000\n",
        "3566000"
       ]
      },
      {
       "output_type": "stream",
       "stream": "stdout",
       "text": [
        "\n",
        "3567000\n",
        "3568000\n",
        "3569000\n",
        "3570000"
       ]
      },
      {
       "output_type": "stream",
       "stream": "stdout",
       "text": [
        "\n",
        "3571000\n",
        "3572000\n",
        "3573000"
       ]
      },
      {
       "output_type": "stream",
       "stream": "stdout",
       "text": [
        "\n",
        "3574000"
       ]
      },
      {
       "output_type": "stream",
       "stream": "stdout",
       "text": [
        "\n",
        "3575000\n",
        "3576000\n",
        "3577000"
       ]
      },
      {
       "output_type": "stream",
       "stream": "stdout",
       "text": [
        "\n",
        "3578000\n",
        "3579000\n",
        "3580000"
       ]
      },
      {
       "output_type": "stream",
       "stream": "stdout",
       "text": [
        "\n",
        "3581000\n",
        "3582000\n",
        "3583000"
       ]
      },
      {
       "output_type": "stream",
       "stream": "stdout",
       "text": [
        "\n",
        "3584000\n",
        "3585000"
       ]
      },
      {
       "output_type": "stream",
       "stream": "stdout",
       "text": [
        "\n",
        "3586000\n",
        "3587000"
       ]
      },
      {
       "output_type": "stream",
       "stream": "stdout",
       "text": [
        "\n",
        "3588000\n",
        "3589000\n",
        "3590000"
       ]
      },
      {
       "output_type": "stream",
       "stream": "stdout",
       "text": [
        "\n",
        "3591000\n",
        "3592000"
       ]
      },
      {
       "output_type": "stream",
       "stream": "stdout",
       "text": [
        "\n",
        "3593000\n",
        "3594000"
       ]
      },
      {
       "output_type": "stream",
       "stream": "stdout",
       "text": [
        "\n",
        "3595000\n",
        "3596000\n",
        "3597000"
       ]
      },
      {
       "output_type": "stream",
       "stream": "stdout",
       "text": [
        "\n",
        "3598000\n",
        "3599000\n",
        "3600000"
       ]
      },
      {
       "output_type": "stream",
       "stream": "stdout",
       "text": [
        "\n",
        "3601000\n",
        "3602000\n",
        "3603000"
       ]
      },
      {
       "output_type": "stream",
       "stream": "stdout",
       "text": [
        "\n",
        "3604000\n",
        "3605000"
       ]
      },
      {
       "output_type": "stream",
       "stream": "stdout",
       "text": [
        "\n",
        "3606000\n",
        "3607000"
       ]
      },
      {
       "output_type": "stream",
       "stream": "stdout",
       "text": [
        "\n",
        "3608000\n",
        "3609000\n",
        "3610000"
       ]
      },
      {
       "output_type": "stream",
       "stream": "stdout",
       "text": [
        "\n",
        "3611000\n",
        "3612000\n",
        "3613000"
       ]
      },
      {
       "output_type": "stream",
       "stream": "stdout",
       "text": [
        "\n",
        "3614000\n",
        "3615000\n",
        "3616000\n",
        "3617000\n",
        "3618000\n",
        "3619000"
       ]
      },
      {
       "output_type": "stream",
       "stream": "stdout",
       "text": [
        "\n",
        "3620000\n",
        "3621000\n",
        "3622000\n",
        "3623000\n",
        "3624000\n",
        "3625000"
       ]
      },
      {
       "output_type": "stream",
       "stream": "stdout",
       "text": [
        "\n"
       ]
      }
     ],
     "prompt_number": 3
    },
    {
     "cell_type": "code",
     "collapsed": false,
     "input": [
      "master = {}\n",
      "for cid in presd:\n",
      "    for l in presd[cid]:\n",
      "        mas = l['master']\n",
      "        if mas in master:\n",
      "            master[mas] += 1\n",
      "        else:\n",
      "            master[mas] = 1"
     ],
     "language": "python",
     "metadata": {},
     "outputs": [],
     "prompt_number": 9
    },
    {
     "cell_type": "code",
     "collapsed": false,
     "input": [
      "master_pres = master\n",
      "master_pres"
     ],
     "language": "python",
     "metadata": {},
     "outputs": [
      {
       "output_type": "pyout",
       "prompt_number": 12,
       "text": [
        "{'Analyst': 37567,\n",
        " 'CEO-Chair': 81247,\n",
        " 'Finance': 56624,\n",
        " 'Functions': 5481,\n",
        " 'Investor Relations': 26163,\n",
        " 'MASTER_TITLE': 1,\n",
        " 'Operations': 19802,\n",
        " 'Operator': 46457,\n",
        " 'Other': 921,\n",
        " 'Unknown': 71848}"
       ]
      }
     ],
     "prompt_number": 12
    },
    {
     "cell_type": "code",
     "collapsed": false,
     "input": [
      "masterqad = {}\n",
      "for cid in qad:\n",
      "    for l in qad[cid]:\n",
      "        mas = l['master']\n",
      "        if mas in masterqad:\n",
      "            masterqad[mas] += 1\n",
      "        else:\n",
      "            masterqad[mas] = 1"
     ],
     "language": "python",
     "metadata": {},
     "outputs": [],
     "prompt_number": 13
    },
    {
     "cell_type": "code",
     "collapsed": false,
     "input": [
      "masterqad"
     ],
     "language": "python",
     "metadata": {},
     "outputs": [
      {
       "output_type": "pyout",
       "prompt_number": 14,
       "text": [
        "{'Analyst': 1285474,\n",
        " 'CEO-Chair': 748382,\n",
        " 'Finance': 504099,\n",
        " 'Functions': 34429,\n",
        " 'Investor Relations': 53005,\n",
        " 'MASTER_TITLE': 1,\n",
        " 'Operations': 169461,\n",
        " 'Operator': 361798,\n",
        " 'Other': 7088,\n",
        " 'Unknown': 461567}"
       ]
      }
     ],
     "prompt_number": 14
    }
   ],
   "metadata": {}
  }
 ]
}