{
 "metadata": {
  "name": "data_analysis"
 },
 "nbformat": 3,
 "nbformat_minor": 0,
 "worksheets": [
  {
   "cells": [
    {
     "cell_type": "code",
     "collapsed": false,
     "input": [
      "cd ./code/"
     ],
     "language": "python",
     "metadata": {},
     "outputs": [
      {
       "output_type": "stream",
       "stream": "stdout",
       "text": [
        "/Users/gaurav/Documents/Work/GMoney/code\n"
       ]
      },
      {
       "output_type": "stream",
       "stream": "stdout",
       "text": [
        "[Errno 2] No such file or directory: './code/'\n",
        "/Users/gaurav/Documents/Work/GMoney/code\n"
       ]
      }
     ],
     "prompt_number": 2
    },
    {
     "cell_type": "code",
     "collapsed": false,
     "input": [
      "import csv\n",
      "from ujson import dumps\n",
      "from datetime import datetime"
     ],
     "language": "python",
     "metadata": {},
     "outputs": [],
     "prompt_number": 4
    },
    {
     "cell_type": "code",
     "collapsed": false,
     "input": [
      "run test.py"
     ],
     "language": "python",
     "metadata": {},
     "outputs": [
      {
       "output_type": "stream",
       "stream": "stdout",
       "text": [
        "100000\n",
        "200000"
       ]
      },
      {
       "output_type": "stream",
       "stream": "stdout",
       "text": [
        "\n",
        "300000"
       ]
      },
      {
       "output_type": "stream",
       "stream": "stdout",
       "text": [
        "\n",
        "100000"
       ]
      },
      {
       "output_type": "stream",
       "stream": "stdout",
       "text": [
        "\n",
        "200000"
       ]
      },
      {
       "output_type": "stream",
       "stream": "stdout",
       "text": [
        "\n",
        "300000"
       ]
      },
      {
       "output_type": "stream",
       "stream": "stdout",
       "text": [
        "\n",
        "400000"
       ]
      },
      {
       "output_type": "stream",
       "stream": "stdout",
       "text": [
        "\n",
        "500000"
       ]
      },
      {
       "output_type": "stream",
       "stream": "stdout",
       "text": [
        "\n",
        "600000"
       ]
      },
      {
       "output_type": "stream",
       "stream": "stdout",
       "text": [
        "\n",
        "700000"
       ]
      },
      {
       "output_type": "stream",
       "stream": "stdout",
       "text": [
        "\n",
        "800000"
       ]
      },
      {
       "output_type": "stream",
       "stream": "stdout",
       "text": [
        "\n",
        "900000"
       ]
      },
      {
       "output_type": "stream",
       "stream": "stdout",
       "text": [
        "\n",
        "1000000"
       ]
      },
      {
       "output_type": "stream",
       "stream": "stdout",
       "text": [
        "\n",
        "1100000"
       ]
      },
      {
       "output_type": "stream",
       "stream": "stdout",
       "text": [
        "\n",
        "1200000"
       ]
      },
      {
       "output_type": "stream",
       "stream": "stdout",
       "text": [
        "\n",
        "1300000"
       ]
      },
      {
       "output_type": "stream",
       "stream": "stdout",
       "text": [
        "\n",
        "1400000"
       ]
      },
      {
       "output_type": "stream",
       "stream": "stdout",
       "text": [
        "\n",
        "1500000"
       ]
      },
      {
       "output_type": "stream",
       "stream": "stdout",
       "text": [
        "\n",
        "1600000"
       ]
      },
      {
       "output_type": "stream",
       "stream": "stdout",
       "text": [
        "\n",
        "1700000"
       ]
      },
      {
       "output_type": "stream",
       "stream": "stdout",
       "text": [
        "\n",
        "1800000"
       ]
      },
      {
       "output_type": "stream",
       "stream": "stdout",
       "text": [
        "\n",
        "1900000"
       ]
      },
      {
       "output_type": "stream",
       "stream": "stdout",
       "text": [
        "\n",
        "2000000"
       ]
      },
      {
       "output_type": "stream",
       "stream": "stdout",
       "text": [
        "\n",
        "2100000"
       ]
      },
      {
       "output_type": "stream",
       "stream": "stdout",
       "text": [
        "\n",
        "2200000"
       ]
      },
      {
       "output_type": "stream",
       "stream": "stdout",
       "text": [
        "\n",
        "2300000"
       ]
      },
      {
       "output_type": "stream",
       "stream": "stdout",
       "text": [
        "\n",
        "2400000"
       ]
      },
      {
       "output_type": "stream",
       "stream": "stdout",
       "text": [
        "\n",
        "2500000"
       ]
      },
      {
       "output_type": "stream",
       "stream": "stdout",
       "text": [
        "\n",
        "2600000"
       ]
      },
      {
       "output_type": "stream",
       "stream": "stdout",
       "text": [
        "\n",
        "2700000"
       ]
      },
      {
       "output_type": "stream",
       "stream": "stdout",
       "text": [
        "\n",
        "2800000"
       ]
      },
      {
       "output_type": "stream",
       "stream": "stdout",
       "text": [
        "\n",
        "2900000"
       ]
      },
      {
       "output_type": "stream",
       "stream": "stdout",
       "text": [
        "\n",
        "3000000"
       ]
      },
      {
       "output_type": "stream",
       "stream": "stdout",
       "text": [
        "\n",
        "3100000"
       ]
      },
      {
       "output_type": "stream",
       "stream": "stdout",
       "text": [
        "\n",
        "3200000"
       ]
      },
      {
       "output_type": "stream",
       "stream": "stdout",
       "text": [
        "\n",
        "3300000"
       ]
      },
      {
       "output_type": "stream",
       "stream": "stdout",
       "text": [
        "\n",
        "3400000"
       ]
      },
      {
       "output_type": "stream",
       "stream": "stdout",
       "text": [
        "\n",
        "3500000"
       ]
      },
      {
       "output_type": "stream",
       "stream": "stdout",
       "text": [
        "\n",
        "3600000"
       ]
      },
      {
       "output_type": "stream",
       "stream": "stdout",
       "text": [
        "\n"
       ]
      }
     ],
     "prompt_number": 5
    },
    {
     "cell_type": "code",
     "collapsed": false,
     "input": [
      "master_pres = {}\n",
      "for cid in presd:\n",
      "    for mas in presd[cid]:\n",
      "        if mas in master_pres:\n",
      "            master_pres[mas] += 1\n",
      "        else:\n",
      "            master_pres[mas] = 1"
     ],
     "language": "python",
     "metadata": {},
     "outputs": [],
     "prompt_number": 6
    },
    {
     "cell_type": "code",
     "collapsed": false,
     "input": [
      "master_pres"
     ],
     "language": "python",
     "metadata": {},
     "outputs": [
      {
       "output_type": "pyout",
       "prompt_number": 7,
       "text": [
        "{'Analyst': 1979,\n",
        " 'CEO-Chair': 33056,\n",
        " 'Finance': 31756,\n",
        " 'Functions': 3329,\n",
        " 'Investor Relations': 19012,\n",
        " 'Operations': 9609,\n",
        " 'Operator': 5152,\n",
        " 'Other': 357,\n",
        " 'Unknown': 8196}"
       ]
      }
     ],
     "prompt_number": 7
    },
    {
     "cell_type": "code",
     "collapsed": false,
     "input": [
      "master_pres = {}\n",
      "for cid in qad:\n",
      "    for mas in qad[cid]:\n",
      "        if mas in master_pres:\n",
      "            master_pres[mas] += 1\n",
      "        else:\n",
      "            master_pres[mas] = 1"
     ],
     "language": "python",
     "metadata": {},
     "outputs": [],
     "prompt_number": 8
    },
    {
     "cell_type": "code",
     "collapsed": false,
     "input": [
      "qad[qad.keys()[1]]"
     ],
     "language": "python",
     "metadata": {},
     "outputs": [
      {
       "output_type": "pyout",
       "prompt_number": 9,
       "text": [
        "{'Analyst': \"Good morning. My first question is can you quantify how tire comps performed during the quarter? Okay, and then with regards to some of your comments regarding the extension or at least increase in tire coverage, how does that play out between your national tire brands and your private label? And with regards to the store closings, can you give us some further color in terms of what the thinking process was in terms of what were the thresholds that made you decide to close these stores versus others that may have survived and are staying open or at least what was the threshold point? My last question is how does this all play out in terms of your relationship with your vendors? Have you had any conversation with your vendors about your plans? Okay, thank you very much. Good morning. Thanks for taking my call. Can you give us kind of an idea of what the impact of the sell down in inventory is going to be on an EPS standpoint? Are we looking at earnings losses over the next few quarters obviously excluding charges? Do you see any other charges in the future other than what you've released today including the fourth quarter? So no severance for the 500 odd employees who will be--? Not material? Okay, and in terms of the debt levels, would you be able to do an acquisition at this point or do you need to delever the balance sheet a little bit before you can start I guess adding on to it again? Great. Thank you very much. Thanks, good morning. I guess my first question, thinking about your decision to pursue the hub-and-spoke strategy and maybe pursue acquisitions, why commit to growing? Why commit to capital expenditures or dollars for acquisition when you have a significant opportunity to improve the operating profitability of your existing assets? I understand that strategic imperative and the strategic opportunity that you see, but from a financial perspective, the Company has been leveraged, you're starting to come out from under that as you execute the sale leasebacks and to repay some of your debt so what the kind of financial commitment are we talking about as you pursue that growth strategy? One other quick question, guys. You talk about increasing your commitment to the automotive parts business and perhaps some of the footage that you're diverting away from noncore product goes to that. If you think about where the, which customers the footage serves, the DIY business has been tough for the industry and very tough for you. It seems like the incremental footage would be deployed or would the incremental footage be deployed towards that DIY customer and then in that instance are you planning to a strength or do you feel that that increases your appeal to that customer or conversely, is the footage going to be somehow deployed to building assortments for DIFM? Great. Thank you so much. Hi, guys. I want to focus on two questions. The first is, can you help us understand, Harry, the inventory writedown? I'm assuming this was an actual markdown of the inventory but then you talk about continued margin pressure due to inventory transition, are we talking about selling stuff through at deeply discounted prices or are we talking about additional writedowns? Can you help us understand that a little bit better? Okay, so kind of a mark-to-market for now and then once you sell-through additional margin pressure? Right. Got it, I just want to make sure I understood that right. The other question is, I guess it's for Jeff. This is a Company that has undergone substantial change in disruption over the last couple of years and it certainly suffered as a result. Do you risk restressing the organization as you make all of these changes because they're pretty big, bold changes that you guys are employing at this point? One housekeeping item. When did the sale leaseback close? Okay, great. Thanks, guys. Thanks, good morning, gentlemen. I guess one question I had was when you look at 560 stores now, how many smaller spokes do you envision to fully leverage your existing system? Well okay, so maybe--? Okay and I'm assuming that that is very much a key component of this strategy and how you view it to ultimately be successful? Okay, when you look at the accomplishing sort of the growth there, the acquisition environment and sort of the fragmentation of the market with so many independents out there seems like it would be a better route to take over greenfielding and what is your thought on that and what is your thought on the existing opportunities out there from an acquisition standpoint? Okay, and one last question as it relates to inventory. How much of your inventory at quarter end represents sort of the non-core, the inventory you are writing down and I guess what I'm trying to get at is on a percentage basis, how much of that then can be used to maybe build additional inventory to serve the service side of the business? And just one follow-up on that. How much, 30% now. Is that a number that should be 50% or 75%? What's the right number and what's the right mix there in terms of sort of distributed to your own bays there? Okay, great. Thanks, guys.\",\n",
        " 'CEO-Chair': \"Good morning, Tony. Well, we think that the spoke part of our business could be equal to or greater than the service revenue that we're driving through our existing supercenter format. Yes, we would look -- again, we think that building out the markets where we already have a supercenter presence would yield the ability for us to double our revenue in the DIFM space and when you consider the smaller service focused concept in kind of the 600,000 to $1 million revenue per rooftop, you can do the math to get there. Obviously it's going to take significant growth in the spoke part of the growth model that we've articulated. Well, we believe as we acknowledged again today, that we can continue to make significant improvements in our base business. I think that this is another quarter that we've demonstrated some very encouraging trajectory in terms of the turnaround that we are executing operationally in our existing concept and we think that we can continue to show significant improvements and profitability in our existing base, but we believe that to achieve the counter returns, that this asset base and our shareholders expect and deserve that over the next five years, executing this strategy to grow our exposure in DIFM through providing these more conveniently located neighborhood service centers is a strategy that will ultimately drive the value creation that we think can reestablish us as a leader and really establish us as a category killer in the DIFM space over a period of time. Well, I agree with your statement completely and I think it's our preference to acquire. I think one, that it's more expeditious. I think that there's some values out there when looking at some of the local and regional opportunities, it's a way to jump start the concept and develop some scale that we think will validate our strategy, and we really see greenfields as being more of a fill in vehicle, so for instance, if we were to go into a market and acquire a local player that gave us coverage in two-thirds of a given metropolitan area, we may come in and do what I would characterize as tuck-in greenfield developments so that we could get coverage across an entire market and fully leveraged our hub concept. Well, that's going to be driven by the DIFM demand. Obviously as we see our revenue mix shift to a higher concentration of DIFM, that's going to increase demand and that percentage of 30% will go up, also as we improve our hard parts assortment, we will improve our fill rate and that's the demand that we have on a daily basis for parts in our bays and from our commercial customers, and so by refocusing on core merchandise and particularly hard parts, we definitely expect to see sales growth in terms of the number of parts that are distributed through both our own bays and our commercial customers. And to circle back to your inquiry about acquisitions, keep in mind that as we acquire DIFM locations that those are locations that are now buying their parts from competitors or Pep Boys from our commercial businesses and that we immediately obviously get 100% of the benefit of their parts purchases which would be material. Thank you. Well, I think it's certainly a valid question, but I will tell you that one of the reasons that our performance continues to improve is that we do enjoy much greater stability today in our management and associate ranks than when the Company experienced some of that disruption just a couple of years ago and as I tried to communicate earlier, I think that we're very conscious as a leadership team that we need to remain very very focused on continuing to drive the turnaround improvements in our core business. Again, I've got a very strong Chief Operating Officer and he has a great team of people around him that are going to be singularly focused on that. We've brought in an outstanding automotive aftermarket merchant with 23 years experience who is going to clearly be able to continue to focus on this renewed commitment to hard parts and core automotive merchandising, and I really don't think any of the strategic plan elements are going to distract our team from continuing to focus on t Obviously, the biggest part of our strategy is growth around the DIFM segment. As I stated earlier, when you really dig into the Pep Boys financial model, this is a business that already enjoys very very favorable profitability characteristics. I think hopefully we are beginning to earn some credibility with the capital markets over the last several quarters on our ability to manage that business and execute more effectively, and so we think we're playing to our strengths by targeting a growth strategy off of our service business and that we can do that in a way that is not disruptive to the broader organization. The business development concepts, again as I stated earlier, right now these are very much in a test mode. They will be done in isolated markets and stores in a very controlled environment and we developed an internal capability that can devote their time and energy to moving those initiatives forward and validating them or not, and we really don't see them as being a distraction from the broader organization's goals until they would develop and be validated to where we would see some kind of a scaled rollout across the chain, so I am certainly cognizant that we are strapping on a significant challenge here but remember this is a long term plan. It's a three to five year look. I thought it was important particularly for our own associates to articulate a long term plan, something that everybody could take ownership of and embrace and see not as the idea of the year or the quarter but as part of a long term commitment to a transformation in the Pep Boys model that is ultimately going Matt, this is Jeff, good morning and certainly, a valid question. I think it's important to note that we do not see our ability to improve our operations within our existing organization, as in conflict with our acquisition strategy. In fact, we see it as complementary. As we just articulated, I think you can see that there's a clear opportunity in the DIFM market to execute a growth strategy. I think as I've become familiar with the Pep Boys model, I'm very impressed with the profitability characteristics of our service business and I'm proud that our team has now demonstrated a couple of strong quarters showing our ability to execute in this arena and I think that it's clear that the existing business model that Pep Boys has been operating under for the last decade or so has not been able to deliver the returns for shareholders that are consistent with our expectations or the capital markets expectations and we believe that we need to change this business model and that the sooner w I think it's important to note if you look at the configuration of our management team, I've brought in a very strong team including a COO whose singular focus will be driving the improved performance of our existing operations and that today we have a point that one of our senior leader s as a Senior VP of Corporate Development, Joe Cirelli and he and I will work closely on the acquisition strategy as well as the business development concepts in a way that won't distract from carrying on with the operational improvement and the operational turnaround that continues to show traction. Yes, tire comps are positive. We have a very positive trend in terms of our overall tire performance. I think I mentioned that we have piloted now in two markets a store within a store, expanded tire and wheel presence. We were very pleased with the initial results in those pilots and we're now rolling that concept out to 42 additional stores. In fact those will all be up and running by the end of the year and we expect to continue to drive a positive trend in tire units and tire comps in the quarters ahead. If you look back just a few quarters ago, we've been able to move from some fairly material negative unit comps back to kind of flat and we're on a positive trajectory and a very very positive trend and see tires as one of the opportunities we have to get a higher return off of our existing square footage footprint. And the other important thing to note about tires is it's really a great customer procurement vehicle and our data tells us that if a customer buys tires from us, we're going to see them an average of five additional times and so we're going to invest in that part of our business. We think it's very consistent with our new focus on customer relationship management, on database marketing, and on customer retention. Well, as I think you're aware, we enjoy an outstanding private label business. We're very proud that we really lead in that arena and we're going to continue to stay committed to our private label business. We think that one of the obvious ways to grow our tire business is just to increase the breadth and depth of our private label offering and that's what we've done in our pilots. We have added some select additional coverage in private label. We think that that's an important branding halo as we try to really reestablish ourself as really an 800 pound gorilla in the tire business and a destination location for our stores. We just want to take this opportunity again to thank you for your interest in the Pep Boys story, and again we look forward to updating you on future quarterly calls as we move forward with this exciting new strategy. Well, again, Matt, I think we were pretty clear in our presentation today that most of all, we're committed to resolving the square footage return dilemma that this Company has been plagued with now for some time and we do intend to reallocate some of this space prudently to having a more competitive assortment of our core hard parts and aftermarket product lines, we mentioned specifically tires and wheels. We have already tested a store within a store tire and wheel concept in two markets. The results were compelling, we're now rolling out that test into 42 more stores so obviously that's a use of square footage that in my view appeals to both our DIY and DIFM customers because tires is the one thing a DIY customer really can't do themselves. We mentioned in the call today that along with that tire pilot, we are also building out waiting room space that we think will differentiate ourselves from some of our DIFM competitors and finally, we are in early tests of some business development concepts that the are certainly complementary to our solutions and transportation needs focus in the rental and used vehicle area, very early in those tests but I think it demonstrates our commitment to try and use that space to be more than just a very very large DIY retail box. That's been tried before in this Company's history and again, while we think in the last few years that we've been distracted from providing the appropriate level of service to the core DIY customer and that we can improve our fill rate to the DIY customer and drive some sales growth in that DIY business through returning to focusing on it that we're clearly going to need to find an alternative use of that space and as we said today, we don't rule out an outright\",\n",
        " 'Finance': \"That obviously would take a considerably larger longer number of rooftops than we currently are operating service out of now. At the ending inventory at the end of the quarter it was about $40 million worth of products that we plan to fully clear after taking effect of the markdown. So again, it was about $80 million to start and it's about $40 million as after the restructuring charge that we took. We don't see that dollar for dollar going back into the hard parts or into the core merchandise but we do see select opportunities for taking individual lines and individual product categories, updating lines and adding back some of that inventory into the categories that we think can support both all of DIY commercial and support our own bays. Remember, our hard parts inventory, about 30% of it we sell to our own bays, and so again, as we broaden out the assortment and invest some of that inventory back, we are supporting three lines of business in that process. Yes, just to add in, recall that there are order magnitude of about 10,000, six to eight bay shops out there in this country that are in independent hands so we think there's lots of opportunity. Each of those shops is now selling tires or selling parts and provides I think a great opportunity for both the DIFM business as well as to pull through some additional parts as we integrate a piece of that group into our network. Sure. There are actually two steps of the process. The writedown that we took reflected what we expect to realize for that inventory. The margin pressure I was talking to is we then expect to sell that product at the cost or at the now realizable value over the next quarter or two, perhaps even rolling it into a third quarter, as we sell that product through now it's essentially at zero margin so it will provide some dilution into the overall margins for the retail commercial business. Well, yes. Again, you don't lose money on what you mark it down but you also don't take any gross profits. It dilutes the rate of the quarter. Yesterday. Well, again, we're going to move expeditiously and aggressively at that so we don't expect this to be a protracted program, and again, part of the reason we took the charge was to support a business plan that sold through that product, again, a lot of this noncore product does sell well during Christmas at these new discounted prices, we think it will sell even better, and so while you should see some dilution in our margins which I talked to on the call, we don't expect this to go on for an extended period of time. We should be able to give you an update at the end of next quarter as to what the specific impact is going to be and whether this going to drag into Q1 of next year. Again, the fourth quarter we did announce that the store closure expenses are going to come through in Q4 and that that and the selling through of the remainder of product is going to affect our profits into Q4 and into Q1, but these are the primary restructurings that we expect for the Company at this time. That's not material, no. Yes, again, just to focus on Jeff's earlier comment. This is a five year plan, with the intention of the direction we're going and again if we were going to buy a five store chain, that clearly is something well within our financial capacity. We have a lot of financial capacity and flexibility about how we operate our business and so again, we're going to have to be opportunistic; if a five store chain is available, we probably will look at it. If it becomes a larger opportunity or a regional chain we would certainly look at that as well. Sure. Again, without getting too granular, it really revolved around the financial investment we had in those locations as compared to the cash flows that we were generating out of those stores. And so again, those stores were essentially breakeven on a P&amp;L basis. They had a modest amount of positive cash flow. We saw that the assets that we had effectively invested in those locations, the combination of the real estate and the inventory carry were substantially well worthwhile to bring back and repatriate to the organization. Well, again, this is the first forum for those to kind of set out what the five year plan of the organization is and certainly, we'll have further conversations, but clearly, along the spectrum of our strongest and most important suppliers this is all very good news. We're going to grow business. We're going to be focused on hard parts. We're going to focus on tires and wheels. The constituency of people who benefit by doing business with Pep Boys I think are going to be excited about the prospects of what this is going to bring to them. Well, look, I think again it's one foot in front of the other and we need to start making this journey on building out the concept. I think you'll see us making steps along that way and again, the nature of these matters is you have to be opportunistic. Again, in the context of our overall balance sheet building a few rooftops or buying a few rooftops is obviously not material as you start to build scale on that, they will become more substantial but I think in the short run, certainly we have an enormous amount of financial flexibility and we have a great ability to both drive the core aspects of our business, and again, as you noted previously we do have substantial operating cash flow in our bays business and we think we can continue to delever the business, if we were to do anything and then as opportunities present themselves or as we make progress on building out these folks, we'll start to pull a little bit of capital into that leg.\",\n",
        " 'Operator': \"Our next question comes from Scot Ciccarelli with RBC Capital Markets. Please state your question. Our next question comes from [Jeff Glaser] with Morgan Joseph. Please state your question. Thank you. Our next question comes from Cid Wilson with Kevin Dann &amp; Partners. Thank you. Ladies and gentlemen, our question and answer session has now expired. I will turn the conference back over to management for closing comments. Thank you. Ladies and gentlemen, this concludes today's teleconference. You may disconnect your lines at this time. Thank you all for your participation. Thank you. Our next question comes from Tony Cristello with BB&amp;T Capital Markets. Please state your question.\"}"
       ]
      }
     ],
     "prompt_number": 9
    },
    {
     "cell_type": "code",
     "collapsed": false,
     "input": [
      "merged = {}\n",
      "for k in presd:\n",
      "    if k not in merged:\n",
      "        merged[k] = {}\n",
      "    for mas in presd[k]:\n",
      "        merged[k][mas] = presd[k][mas]\n",
      "    try:\n",
      "        merged[k][mas] += qad[k][mas]\n",
      "    except Exception as e:\n",
      "        print 'Error in adding key:',e\n",
      "        "
     ],
     "language": "python",
     "metadata": {},
     "outputs": [],
     "prompt_number": "*"
    },
    {
     "cell_type": "code",
     "collapsed": false,
     "input": [
      "strqa = dumps(qad)"
     ],
     "language": "python",
     "metadata": {},
     "outputs": [
      {
       "ename": "KeyboardInterrupt",
       "evalue": "",
       "output_type": "pyerr",
       "traceback": [
        "\u001b[0;31m---------------------------------------------------------------------------\u001b[0m\n\u001b[0;31mKeyboardInterrupt\u001b[0m                         Traceback (most recent call last)",
        "\u001b[0;32m<ipython-input-12-efc1bbfb6f87>\u001b[0m in \u001b[0;36m<module>\u001b[0;34m()\u001b[0m\n\u001b[0;32m----> 1\u001b[0;31m \u001b[0mstrqa\u001b[0m \u001b[0;34m=\u001b[0m \u001b[0mdumps\u001b[0m\u001b[0;34m(\u001b[0m\u001b[0mqad\u001b[0m\u001b[0;34m)\u001b[0m\u001b[0;34m\u001b[0m\u001b[0m\n\u001b[0m",
        "\u001b[0;31mKeyboardInterrupt\u001b[0m: "
       ]
      }
     ],
     "prompt_number": 12
    },
    {
     "cell_type": "code",
     "collapsed": false,
     "input": [
      "strpres = json.dumps(presd)"
     ],
     "language": "python",
     "metadata": {},
     "outputs": []
    }
   ],
   "metadata": {}
  }
 ]
}